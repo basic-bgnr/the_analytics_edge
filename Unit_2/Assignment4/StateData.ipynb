{
 "cells": [
  {
   "cell_type": "markdown",
   "metadata": {},
   "source": [
    "#### Studying Analytics (Edx Course)\n",
    "___\n",
    "\n",
    "__Date Started:__  \n",
    "__Nov 23, 2018__  \n",
    "\n",
    "__Introduction:__  \n",
    "__The course is intended as an introductory tool for data Analysis using R Programming language__  \n",
    "__Unit : 2__  (Assignment no 4)\n",
    "\n",
    "\n",
    "__Content__:  \n",
    "* In this problem, we will be examining the \"state\" dataset, which has data from the 1970s on all fifty US states. For each state, the dataset includes :\n",
    " * the population, \n",
    " * per capita income, \n",
    " * illiteracy rate, \n",
    " * murder rate, \n",
    " * high schoolgraduation rate, \n",
    " * average number of frost days, \n",
    " * area, \n",
    " * latitude and longitude, \n",
    " * division the state belongs to,  \n",
    " * region the state belongs to, and \n",
    " * two-letter abbreviation\n",
    "\n",
    "\n",
    "__links:__  \n",
    "* NA\n"
   ]
  },
  {
   "cell_type": "code",
   "execution_count": 5,
   "metadata": {},
   "outputs": [
    {
     "data": {
      "text/html": [
       "<table>\n",
       "<thead><tr><th></th><th scope=col>Population</th><th scope=col>Income</th><th scope=col>Illiteracy</th><th scope=col>Life.Exp</th><th scope=col>Murder</th><th scope=col>HS.Grad</th><th scope=col>Frost</th><th scope=col>Area</th><th scope=col>state.abb</th><th scope=col>state.area</th><th scope=col>x</th><th scope=col>y</th><th scope=col>state.division</th><th scope=col>state.name</th><th scope=col>state.region</th></tr></thead>\n",
       "<tbody>\n",
       "\t<tr><th scope=row>Alabama</th><td> 3615             </td><td>3624              </td><td>2.1               </td><td>69.05             </td><td>15.1              </td><td>41.3              </td><td> 20               </td><td> 50708            </td><td>AL                </td><td> 51609            </td><td> -86.7509         </td><td>32.5901           </td><td>East South Central</td><td>Alabama           </td><td>South             </td></tr>\n",
       "\t<tr><th scope=row>Alaska</th><td>  365             </td><td>6315              </td><td>1.5               </td><td>69.31             </td><td>11.3              </td><td>66.7              </td><td>152               </td><td>566432            </td><td>AK                </td><td>589757            </td><td>-127.2500         </td><td>49.2500           </td><td>Pacific           </td><td>Alaska            </td><td>West              </td></tr>\n",
       "\t<tr><th scope=row>Arizona</th><td> 2212             </td><td>4530              </td><td>1.8               </td><td>70.55             </td><td> 7.8              </td><td>58.1              </td><td> 15               </td><td>113417            </td><td>AZ                </td><td>113909            </td><td>-111.6250         </td><td>34.2192           </td><td>Mountain          </td><td>Arizona           </td><td>West              </td></tr>\n",
       "\t<tr><th scope=row>Arkansas</th><td> 2110             </td><td>3378              </td><td>1.9               </td><td>70.66             </td><td>10.1              </td><td>39.9              </td><td> 65               </td><td> 51945            </td><td>AR                </td><td> 53104            </td><td> -92.2992         </td><td>34.7336           </td><td>West South Central</td><td>Arkansas          </td><td>South             </td></tr>\n",
       "\t<tr><th scope=row>California</th><td>21198             </td><td>5114              </td><td>1.1               </td><td>71.71             </td><td>10.3              </td><td>62.6              </td><td> 20               </td><td>156361            </td><td>CA                </td><td>158693            </td><td>-119.7730         </td><td>36.5341           </td><td>Pacific           </td><td>California        </td><td>West              </td></tr>\n",
       "\t<tr><th scope=row>Colorado</th><td> 2541             </td><td>4884              </td><td>0.7               </td><td>72.06             </td><td> 6.8              </td><td>63.9              </td><td>166               </td><td>103766            </td><td>CO                </td><td>104247            </td><td>-105.5130         </td><td>38.6777           </td><td>Mountain          </td><td>Colorado          </td><td>West              </td></tr>\n",
       "\t<tr><th scope=row>Connecticut</th><td> 3100             </td><td>5348              </td><td>1.1               </td><td>72.48             </td><td> 3.1              </td><td>56.0              </td><td>139               </td><td>  4862            </td><td>CT                </td><td>  5009            </td><td> -72.3573         </td><td>41.5928           </td><td>New England       </td><td>Connecticut       </td><td>Northeast         </td></tr>\n",
       "\t<tr><th scope=row>Delaware</th><td>  579             </td><td>4809              </td><td>0.9               </td><td>70.06             </td><td> 6.2              </td><td>54.6              </td><td>103               </td><td>  1982            </td><td>DE                </td><td>  2057            </td><td> -74.9841         </td><td>38.6777           </td><td>South Atlantic    </td><td>Delaware          </td><td>South             </td></tr>\n",
       "\t<tr><th scope=row>Florida</th><td> 8277             </td><td>4815              </td><td>1.3               </td><td>70.66             </td><td>10.7              </td><td>52.6              </td><td> 11               </td><td> 54090            </td><td>FL                </td><td> 58560            </td><td> -81.6850         </td><td>27.8744           </td><td>South Atlantic    </td><td>Florida           </td><td>South             </td></tr>\n",
       "\t<tr><th scope=row>Georgia</th><td> 4931             </td><td>4091              </td><td>2.0               </td><td>68.54             </td><td>13.9              </td><td>40.6              </td><td> 60               </td><td> 58073            </td><td>GA                </td><td> 58876            </td><td> -83.3736         </td><td>32.3329           </td><td>South Atlantic    </td><td>Georgia           </td><td>South             </td></tr>\n",
       "</tbody>\n",
       "</table>\n"
      ],
      "text/latex": [
       "\\begin{tabular}{r|lllllllllllllll}\n",
       "  & Population & Income & Illiteracy & Life.Exp & Murder & HS.Grad & Frost & Area & state.abb & state.area & x & y & state.division & state.name & state.region\\\\\n",
       "\\hline\n",
       "\tAlabama &  3615              & 3624               & 2.1                & 69.05              & 15.1               & 41.3               &  20                &  50708             & AL                 &  51609             &  -86.7509          & 32.5901            & East South Central & Alabama            & South             \\\\\n",
       "\tAlaska &   365              & 6315               & 1.5                & 69.31              & 11.3               & 66.7               & 152                & 566432             & AK                 & 589757             & -127.2500          & 49.2500            & Pacific            & Alaska             & West              \\\\\n",
       "\tArizona &  2212              & 4530               & 1.8                & 70.55              &  7.8               & 58.1               &  15                & 113417             & AZ                 & 113909             & -111.6250          & 34.2192            & Mountain           & Arizona            & West              \\\\\n",
       "\tArkansas &  2110              & 3378               & 1.9                & 70.66              & 10.1               & 39.9               &  65                &  51945             & AR                 &  53104             &  -92.2992          & 34.7336            & West South Central & Arkansas           & South             \\\\\n",
       "\tCalifornia & 21198              & 5114               & 1.1                & 71.71              & 10.3               & 62.6               &  20                & 156361             & CA                 & 158693             & -119.7730          & 36.5341            & Pacific            & California         & West              \\\\\n",
       "\tColorado &  2541              & 4884               & 0.7                & 72.06              &  6.8               & 63.9               & 166                & 103766             & CO                 & 104247             & -105.5130          & 38.6777            & Mountain           & Colorado           & West              \\\\\n",
       "\tConnecticut &  3100              & 5348               & 1.1                & 72.48              &  3.1               & 56.0               & 139                &   4862             & CT                 &   5009             &  -72.3573          & 41.5928            & New England        & Connecticut        & Northeast         \\\\\n",
       "\tDelaware &   579              & 4809               & 0.9                & 70.06              &  6.2               & 54.6               & 103                &   1982             & DE                 &   2057             &  -74.9841          & 38.6777            & South Atlantic     & Delaware           & South             \\\\\n",
       "\tFlorida &  8277              & 4815               & 1.3                & 70.66              & 10.7               & 52.6               &  11                &  54090             & FL                 &  58560             &  -81.6850          & 27.8744            & South Atlantic     & Florida            & South             \\\\\n",
       "\tGeorgia &  4931              & 4091               & 2.0                & 68.54              & 13.9               & 40.6               &  60                &  58073             & GA                 &  58876             &  -83.3736          & 32.3329            & South Atlantic     & Georgia            & South             \\\\\n",
       "\\end{tabular}\n"
      ],
      "text/markdown": [
       "\n",
       "| <!--/--> | Population | Income | Illiteracy | Life.Exp | Murder | HS.Grad | Frost | Area | state.abb | state.area | x | y | state.division | state.name | state.region | \n",
       "|---|---|---|---|---|---|---|---|---|---|\n",
       "| Alabama |  3615              | 3624               | 2.1                | 69.05              | 15.1               | 41.3               |  20                |  50708             | AL                 |  51609             |  -86.7509          | 32.5901            | East South Central | Alabama            | South              | \n",
       "| Alaska |   365              | 6315               | 1.5                | 69.31              | 11.3               | 66.7               | 152                | 566432             | AK                 | 589757             | -127.2500          | 49.2500            | Pacific            | Alaska             | West               | \n",
       "| Arizona |  2212              | 4530               | 1.8                | 70.55              |  7.8               | 58.1               |  15                | 113417             | AZ                 | 113909             | -111.6250          | 34.2192            | Mountain           | Arizona            | West               | \n",
       "| Arkansas |  2110              | 3378               | 1.9                | 70.66              | 10.1               | 39.9               |  65                |  51945             | AR                 |  53104             |  -92.2992          | 34.7336            | West South Central | Arkansas           | South              | \n",
       "| California | 21198              | 5114               | 1.1                | 71.71              | 10.3               | 62.6               |  20                | 156361             | CA                 | 158693             | -119.7730          | 36.5341            | Pacific            | California         | West               | \n",
       "| Colorado |  2541              | 4884               | 0.7                | 72.06              |  6.8               | 63.9               | 166                | 103766             | CO                 | 104247             | -105.5130          | 38.6777            | Mountain           | Colorado           | West               | \n",
       "| Connecticut |  3100              | 5348               | 1.1                | 72.48              |  3.1               | 56.0               | 139                |   4862             | CT                 |   5009             |  -72.3573          | 41.5928            | New England        | Connecticut        | Northeast          | \n",
       "| Delaware |   579              | 4809               | 0.9                | 70.06              |  6.2               | 54.6               | 103                |   1982             | DE                 |   2057             |  -74.9841          | 38.6777            | South Atlantic     | Delaware           | South              | \n",
       "| Florida |  8277              | 4815               | 1.3                | 70.66              | 10.7               | 52.6               |  11                |  54090             | FL                 |  58560             |  -81.6850          | 27.8744            | South Atlantic     | Florida            | South              | \n",
       "| Georgia |  4931              | 4091               | 2.0                | 68.54              | 13.9               | 40.6               |  60                |  58073             | GA                 |  58876             |  -83.3736          | 32.3329            | South Atlantic     | Georgia            | South              | \n",
       "\n",
       "\n"
      ],
      "text/plain": [
       "            Population Income Illiteracy Life.Exp Murder HS.Grad Frost Area  \n",
       "Alabama      3615      3624   2.1        69.05    15.1   41.3     20    50708\n",
       "Alaska        365      6315   1.5        69.31    11.3   66.7    152   566432\n",
       "Arizona      2212      4530   1.8        70.55     7.8   58.1     15   113417\n",
       "Arkansas     2110      3378   1.9        70.66    10.1   39.9     65    51945\n",
       "California  21198      5114   1.1        71.71    10.3   62.6     20   156361\n",
       "Colorado     2541      4884   0.7        72.06     6.8   63.9    166   103766\n",
       "Connecticut  3100      5348   1.1        72.48     3.1   56.0    139     4862\n",
       "Delaware      579      4809   0.9        70.06     6.2   54.6    103     1982\n",
       "Florida      8277      4815   1.3        70.66    10.7   52.6     11    54090\n",
       "Georgia      4931      4091   2.0        68.54    13.9   40.6     60    58073\n",
       "            state.abb state.area x         y       state.division    \n",
       "Alabama     AL         51609      -86.7509 32.5901 East South Central\n",
       "Alaska      AK        589757     -127.2500 49.2500 Pacific           \n",
       "Arizona     AZ        113909     -111.6250 34.2192 Mountain          \n",
       "Arkansas    AR         53104      -92.2992 34.7336 West South Central\n",
       "California  CA        158693     -119.7730 36.5341 Pacific           \n",
       "Colorado    CO        104247     -105.5130 38.6777 Mountain          \n",
       "Connecticut CT          5009      -72.3573 41.5928 New England       \n",
       "Delaware    DE          2057      -74.9841 38.6777 South Atlantic    \n",
       "Florida     FL         58560      -81.6850 27.8744 South Atlantic    \n",
       "Georgia     GA         58876      -83.3736 32.3329 South Atlantic    \n",
       "            state.name  state.region\n",
       "Alabama     Alabama     South       \n",
       "Alaska      Alaska      West        \n",
       "Arizona     Arizona     West        \n",
       "Arkansas    Arkansas    South       \n",
       "California  California  West        \n",
       "Colorado    Colorado    West        \n",
       "Connecticut Connecticut Northeast   \n",
       "Delaware    Delaware    South       \n",
       "Florida     Florida     South       \n",
       "Georgia     Georgia     South       "
      ]
     },
     "metadata": {},
     "output_type": "display_data"
    }
   ],
   "source": [
    "# check if the data set is already available in R\n",
    "\n",
    "data(state)\n",
    "statedata = cbind(data.frame(state.x77), state.abb, state.area, state.center,  state.division, state.name, state.region)\n",
    "\n",
    "# summary(statedata)\n",
    "statedata[1:10, ]\n",
    "# so the data set is already available in the default R package"
   ]
  },
  {
   "cell_type": "code",
   "execution_count": 13,
   "metadata": {},
   "outputs": [
    {
     "data": {
      "image/png": "[encoded data removed]",
      "text/plain": [
       "plot without title"
      ]
     },
     "metadata": {},
     "output_type": "display_data"
    }
   ],
   "source": [
    "# plot the coordinate of the latitude and logitude to obtain the map of the United States of America\n",
    "\n",
    "plot(statedata$x, statedata$y)\n"
   ]
  },
  {
   "cell_type": "code",
   "execution_count": 19,
   "metadata": {},
   "outputs": [
    {
     "name": "stderr",
     "output_type": "stream",
     "text": [
      "ERROR while rich displaying an object: Error in dn[[2L]]: subscript out of bounds\n",
      "\n",
      "Traceback:\n",
      "1. FUN(X[[i]], ...)\n",
      "2. tryCatch(withCallingHandlers({\n",
      " .     if (!mime %in% names(repr::mime2repr)) \n",
      " .         stop(\"No repr_* for mimetype \", mime, \" in repr::mime2repr\")\n",
      " .     rpr <- repr::mime2repr[[mime]](obj)\n",
      " .     if (is.null(rpr)) \n",
      " .         return(NULL)\n",
      " .     prepare_content(is.raw(rpr), rpr)\n",
      " . }, error = error_handler), error = outer_handler)\n",
      "3. tryCatchList(expr, classes, parentenv, handlers)\n",
      "4. tryCatchOne(expr, names, parentenv, handlers[[1L]])\n",
      "5. doTryCatch(return(expr), name, parentenv, handler)\n",
      "6. withCallingHandlers({\n",
      " .     if (!mime %in% names(repr::mime2repr)) \n",
      " .         stop(\"No repr_* for mimetype \", mime, \" in repr::mime2repr\")\n",
      " .     rpr <- repr::mime2repr[[mime]](obj)\n",
      " .     if (is.null(rpr)) \n",
      " .         return(NULL)\n",
      " .     prepare_content(is.raw(rpr), rpr)\n",
      " . }, error = error_handler)\n",
      "7. repr::mime2repr[[mime]](obj)\n",
      "8. repr_markdown.numeric(obj)\n",
      "9. repr_vector_generic(html_escape_names(obj), \"%s. %s\\n\", \"%s\\n:   %s\", \n",
      " .     \"**%s:** %s\", \"%s\\n\\n\", item_uses_numbers = TRUE, escape_fun = html_escape)\n",
      "10. html_escape_names(obj)\n",
      "11. .escape_names(obj, \"html\")\n",
      "12. colnames(obj)\n",
      "ERROR while rich displaying an object: Error in dn[[2L]]: subscript out of bounds\n",
      "\n",
      "Traceback:\n",
      "1. FUN(X[[i]], ...)\n",
      "2. tryCatch(withCallingHandlers({\n",
      " .     if (!mime %in% names(repr::mime2repr)) \n",
      " .         stop(\"No repr_* for mimetype \", mime, \" in repr::mime2repr\")\n",
      " .     rpr <- repr::mime2repr[[mime]](obj)\n",
      " .     if (is.null(rpr)) \n",
      " .         return(NULL)\n",
      " .     prepare_content(is.raw(rpr), rpr)\n",
      " . }, error = error_handler), error = outer_handler)\n",
      "3. tryCatchList(expr, classes, parentenv, handlers)\n",
      "4. tryCatchOne(expr, names, parentenv, handlers[[1L]])\n",
      "5. doTryCatch(return(expr), name, parentenv, handler)\n",
      "6. withCallingHandlers({\n",
      " .     if (!mime %in% names(repr::mime2repr)) \n",
      " .         stop(\"No repr_* for mimetype \", mime, \" in repr::mime2repr\")\n",
      " .     rpr <- repr::mime2repr[[mime]](obj)\n",
      " .     if (is.null(rpr)) \n",
      " .         return(NULL)\n",
      " .     prepare_content(is.raw(rpr), rpr)\n",
      " . }, error = error_handler)\n",
      "7. repr::mime2repr[[mime]](obj)\n",
      "8. repr_latex.numeric(obj)\n",
      "9. repr_vector_generic(latex_escape_names(obj), \"\\\\item %s\\n\", \"\\\\item[%s] %s\\n\", \n",
      " .     \"\\\\textbf{%s:} %s\", enum_wrap = \"\\\\begin{enumerate*}\\n%s\\\\end{enumerate*}\\n\", \n",
      " .     named_wrap = \"\\\\begin{description*}\\n%s\\\\end{description*}\\n\", \n",
      " .     only_named_item = \"\\\\textbf{%s:} %s\", escape_fun = latex_escape)\n",
      "10. latex_escape_names(obj)\n",
      "11. .escape_names(obj, \"latex\")\n",
      "12. colnames(obj)\n"
     ]
    },
    {
     "data": {
      "text/html": [
       "<dl class=dl-horizontal>\n",
       "\t<dt>West</dt>\n",
       "\t\t<dd>806</dd>\n",
       "\t<dt>South</dt>\n",
       "\t\t<dd>709.5</dd>\n",
       "\t<dt>North Central</dt>\n",
       "\t\t<dd>654.2</dd>\n",
       "\t<dt>Northeast</dt>\n",
       "\t\t<dd>485.7</dd>\n",
       "</dl>\n"
      ],
      "text/plain": [
       "         West         South North Central     Northeast \n",
       "        806.0         709.5         654.2         485.7 "
      ]
     },
     "metadata": {},
     "output_type": "display_data"
    }
   ],
   "source": [
    "# Solution to problem 1.1\n",
    "# use tapply to find which region has the highest highschool graduation rate\n",
    "\n",
    "highschool_data = tapply(statedata$HS.Grad, statedata$state.region, sum);\n",
    "sort(highschool_data, decreasing = TRUE)\n",
    "\n",
    "\n",
    "# West Region has the highest highschool graduation rate than any other states.\n"
   ]
  },
  {
   "cell_type": "code",
   "execution_count": 36,
   "metadata": {},
   "outputs": [
    {
     "data": {
      "image/png": "[encoded data removed]",
      "text/plain": [
       "plot without title"
      ]
     },
     "metadata": {},
     "output_type": "display_data"
    }
   ],
   "source": [
    "# solution to problem 1.3\n",
    "summary_box_plot = boxplot(Murder ~ state.region, data=statedata)\n",
    "# looking at the following box plot, it appears that the \"Souhern\" region has the highest median murder rate"
   ]
  },
  {
   "cell_type": "code",
   "execution_count": 46,
   "metadata": {},
   "outputs": [
    {
     "data": {
      "text/html": [
       "New York\n",
       "<details>\n",
       "\t<summary style=display:list-item;cursor:pointer>\n",
       "\t\t<strong>Levels</strong>:\n",
       "\t</summary>\n",
       "\t<ol class=list-inline>\n",
       "\t\t<li>'Alabama'</li>\n",
       "\t\t<li>'Alaska'</li>\n",
       "\t\t<li>'Arizona'</li>\n",
       "\t\t<li>'Arkansas'</li>\n",
       "\t\t<li>'California'</li>\n",
       "\t\t<li>'Colorado'</li>\n",
       "\t\t<li>'Connecticut'</li>\n",
       "\t\t<li>'Delaware'</li>\n",
       "\t\t<li>'Florida'</li>\n",
       "\t\t<li>'Georgia'</li>\n",
       "\t\t<li>'Hawaii'</li>\n",
       "\t\t<li>'Idaho'</li>\n",
       "\t\t<li>'Illinois'</li>\n",
       "\t\t<li>'Indiana'</li>\n",
       "\t\t<li>'Iowa'</li>\n",
       "\t\t<li>'Kansas'</li>\n",
       "\t\t<li>'Kentucky'</li>\n",
       "\t\t<li>'Louisiana'</li>\n",
       "\t\t<li>'Maine'</li>\n",
       "\t\t<li>'Maryland'</li>\n",
       "\t\t<li>'Massachusetts'</li>\n",
       "\t\t<li>'Michigan'</li>\n",
       "\t\t<li>'Minnesota'</li>\n",
       "\t\t<li>'Mississippi'</li>\n",
       "\t\t<li>'Missouri'</li>\n",
       "\t\t<li>'Montana'</li>\n",
       "\t\t<li>'Nebraska'</li>\n",
       "\t\t<li>'Nevada'</li>\n",
       "\t\t<li>'New Hampshire'</li>\n",
       "\t\t<li>'New Jersey'</li>\n",
       "\t\t<li>'New Mexico'</li>\n",
       "\t\t<li>'New York'</li>\n",
       "\t\t<li>'North Carolina'</li>\n",
       "\t\t<li>'North Dakota'</li>\n",
       "\t\t<li>'Ohio'</li>\n",
       "\t\t<li>'Oklahoma'</li>\n",
       "\t\t<li>'Oregon'</li>\n",
       "\t\t<li>'Pennsylvania'</li>\n",
       "\t\t<li>'Rhode Island'</li>\n",
       "\t\t<li>'South Carolina'</li>\n",
       "\t\t<li>'South Dakota'</li>\n",
       "\t\t<li>'Tennessee'</li>\n",
       "\t\t<li>'Texas'</li>\n",
       "\t\t<li>'Utah'</li>\n",
       "\t\t<li>'Vermont'</li>\n",
       "\t\t<li>'Virginia'</li>\n",
       "\t\t<li>'Washington'</li>\n",
       "\t\t<li>'West Virginia'</li>\n",
       "\t\t<li>'Wisconsin'</li>\n",
       "\t\t<li>'Wyoming'</li>\n",
       "\t</ol>\n",
       "</details>"
      ],
      "text/latex": [
       "New York\n",
       "\\emph{Levels}: \\begin{enumerate*}\n",
       "\\item 'Alabama'\n",
       "\\item 'Alaska'\n",
       "\\item 'Arizona'\n",
       "\\item 'Arkansas'\n",
       "\\item 'California'\n",
       "\\item 'Colorado'\n",
       "\\item 'Connecticut'\n",
       "\\item 'Delaware'\n",
       "\\item 'Florida'\n",
       "\\item 'Georgia'\n",
       "\\item 'Hawaii'\n",
       "\\item 'Idaho'\n",
       "\\item 'Illinois'\n",
       "\\item 'Indiana'\n",
       "\\item 'Iowa'\n",
       "\\item 'Kansas'\n",
       "\\item 'Kentucky'\n",
       "\\item 'Louisiana'\n",
       "\\item 'Maine'\n",
       "\\item 'Maryland'\n",
       "\\item 'Massachusetts'\n",
       "\\item 'Michigan'\n",
       "\\item 'Minnesota'\n",
       "\\item 'Mississippi'\n",
       "\\item 'Missouri'\n",
       "\\item 'Montana'\n",
       "\\item 'Nebraska'\n",
       "\\item 'Nevada'\n",
       "\\item 'New Hampshire'\n",
       "\\item 'New Jersey'\n",
       "\\item 'New Mexico'\n",
       "\\item 'New York'\n",
       "\\item 'North Carolina'\n",
       "\\item 'North Dakota'\n",
       "\\item 'Ohio'\n",
       "\\item 'Oklahoma'\n",
       "\\item 'Oregon'\n",
       "\\item 'Pennsylvania'\n",
       "\\item 'Rhode Island'\n",
       "\\item 'South Carolina'\n",
       "\\item 'South Dakota'\n",
       "\\item 'Tennessee'\n",
       "\\item 'Texas'\n",
       "\\item 'Utah'\n",
       "\\item 'Vermont'\n",
       "\\item 'Virginia'\n",
       "\\item 'Washington'\n",
       "\\item 'West Virginia'\n",
       "\\item 'Wisconsin'\n",
       "\\item 'Wyoming'\n",
       "\\end{enumerate*}\n"
      ],
      "text/markdown": [
       "New York\n",
       "**Levels**: 1. 'Alabama'\n",
       "2. 'Alaska'\n",
       "3. 'Arizona'\n",
       "4. 'Arkansas'\n",
       "5. 'California'\n",
       "6. 'Colorado'\n",
       "7. 'Connecticut'\n",
       "8. 'Delaware'\n",
       "9. 'Florida'\n",
       "10. 'Georgia'\n",
       "11. 'Hawaii'\n",
       "12. 'Idaho'\n",
       "13. 'Illinois'\n",
       "14. 'Indiana'\n",
       "15. 'Iowa'\n",
       "16. 'Kansas'\n",
       "17. 'Kentucky'\n",
       "18. 'Louisiana'\n",
       "19. 'Maine'\n",
       "20. 'Maryland'\n",
       "21. 'Massachusetts'\n",
       "22. 'Michigan'\n",
       "23. 'Minnesota'\n",
       "24. 'Mississippi'\n",
       "25. 'Missouri'\n",
       "26. 'Montana'\n",
       "27. 'Nebraska'\n",
       "28. 'Nevada'\n",
       "29. 'New Hampshire'\n",
       "30. 'New Jersey'\n",
       "31. 'New Mexico'\n",
       "32. 'New York'\n",
       "33. 'North Carolina'\n",
       "34. 'North Dakota'\n",
       "35. 'Ohio'\n",
       "36. 'Oklahoma'\n",
       "37. 'Oregon'\n",
       "38. 'Pennsylvania'\n",
       "39. 'Rhode Island'\n",
       "40. 'South Carolina'\n",
       "41. 'South Dakota'\n",
       "42. 'Tennessee'\n",
       "43. 'Texas'\n",
       "44. 'Utah'\n",
       "45. 'Vermont'\n",
       "46. 'Virginia'\n",
       "47. 'Washington'\n",
       "48. 'West Virginia'\n",
       "49. 'Wisconsin'\n",
       "50. 'Wyoming'\n",
       "\n",
       "\n"
      ],
      "text/plain": [
       "[1] New York\n",
       "50 Levels: Alabama Alaska Arizona Arkansas California Colorado ... Wyoming"
      ]
     },
     "metadata": {},
     "output_type": "display_data"
    }
   ],
   "source": [
    "# solution to problem 1.4\n",
    "# To find out the outlier data in the murderrate \n",
    "\n",
    "regional_murder_rate = tapply(statedata$Murder, statedata$state.region, identity)\n",
    "northeast_murder_rate = subset(statedata, statedata$state.region == 'Northeast')\n",
    "northeast_murder_rate[which.max(northeast_muder_rate$Murder), ]$state.name\n",
    "\n",
    "# the statename which is an outlier as well as the highest murder rate in Northeast state is \"NewYork\""
   ]
  },
  {
   "cell_type": "markdown",
   "metadata": {},
   "source": [
    "# solution to problem 1.5\n",
    "\n",
    "# predicting the life expectancy using all available data\n",
    "\n",
    "\n",
    "life_expectancy_reg_model = lm(Life.Exp ~ Population + Income + Illiteracy + Murder + HS.Grad + Frost + Area , data=statedata)\n",
    "summary(life_expectancy_reg_model)\n",
    "\n",
    "# The coefficient of income is -2.18e-5"
   ]
  },
  {
   "cell_type": "code",
   "execution_count": 56,
   "metadata": {},
   "outputs": [
    {
     "data": {
      "image/png": "[encoded data removed]",
      "text/plain": [
       "plot without title"
      ]
     },
     "metadata": {},
     "output_type": "display_data"
    },
    {
     "data": {
      "text/html": [
       "0.340255338936367"
      ],
      "text/latex": [
       "0.340255338936367"
      ],
      "text/markdown": [
       "0.340255338936367"
      ],
      "text/plain": [
       "[1] 0.3402553"
      ]
     },
     "metadata": {},
     "output_type": "display_data"
    },
    {
     "data": {
      "image/png": "[encoded data removed]",
      "text/plain": [
       "plot without title"
      ]
     },
     "metadata": {},
     "output_type": "display_data"
    }
   ],
   "source": [
    "# plotting graph of life expectancy and income\n",
    "\n",
    "scatter.smooth(statedata$Income, statedata$Life.Exp )\n",
    "scatter.smooth(statedata$Life.Exp, statedata$Income)\n",
    "cor(statedata$Life.Exp, statedata$Income)"
   ]
  },
  {
   "cell_type": "code",
   "execution_count": 61,
   "metadata": {},
   "outputs": [
    {
     "data": {
      "text/plain": [
       "\n",
       "Call:\n",
       "lm(formula = Life.Exp ~ Population + Income + Illiteracy + Murder + \n",
       "    HS.Grad + Frost + Area, data = statedata)\n",
       "\n",
       "Residuals:\n",
       "     Min       1Q   Median       3Q      Max \n",
       "-1.48895 -0.51232 -0.02747  0.57002  1.49447 \n",
       "\n",
       "Coefficients:\n",
       "              Estimate Std. Error t value Pr(>|t|)    \n",
       "(Intercept)  7.094e+01  1.748e+00  40.586  < 2e-16 ***\n",
       "Population   5.180e-05  2.919e-05   1.775   0.0832 .  \n",
       "Income      -2.180e-05  2.444e-04  -0.089   0.9293    \n",
       "Illiteracy   3.382e-02  3.663e-01   0.092   0.9269    \n",
       "Murder      -3.011e-01  4.662e-02  -6.459 8.68e-08 ***\n",
       "HS.Grad      4.893e-02  2.332e-02   2.098   0.0420 *  \n",
       "Frost       -5.735e-03  3.143e-03  -1.825   0.0752 .  \n",
       "Area        -7.383e-08  1.668e-06  -0.044   0.9649    \n",
       "---\n",
       "Signif. codes:  0 ‘***’ 0.001 ‘**’ 0.01 ‘*’ 0.05 ‘.’ 0.1 ‘ ’ 1\n",
       "\n",
       "Residual standard error: 0.7448 on 42 degrees of freedom\n",
       "Multiple R-squared:  0.7362,\tAdjusted R-squared:  0.6922 \n",
       "F-statistic: 16.74 on 7 and 42 DF,  p-value: 2.534e-10\n"
      ]
     },
     "metadata": {},
     "output_type": "display_data"
    },
    {
     "data": {
      "text/plain": [
       "\n",
       "Call:\n",
       "lm(formula = Life.Exp ~ Income + Murder + HS.Grad + Frost, data = statedata)\n",
       "\n",
       "Residuals:\n",
       "     Min       1Q   Median       3Q      Max \n",
       "-1.40443 -0.53191  0.07086  0.59086  1.20543 \n",
       "\n",
       "Coefficients:\n",
       "              Estimate Std. Error t value Pr(>|t|)    \n",
       "(Intercept) 70.8367894  1.0504710  67.433  < 2e-16 ***\n",
       "Income       0.0001274  0.0002232   0.571  0.57103    \n",
       "Murder      -0.2855582  0.0372605  -7.664 1.07e-09 ***\n",
       "HS.Grad      0.0435538  0.0189754   2.295  0.02643 *  \n",
       "Frost       -0.0069835  0.0024688  -2.829  0.00696 ** \n",
       "---\n",
       "Signif. codes:  0 ‘***’ 0.001 ‘**’ 0.01 ‘*’ 0.05 ‘.’ 0.1 ‘ ’ 1\n",
       "\n",
       "Residual standard error: 0.7482 on 45 degrees of freedom\n",
       "Multiple R-squared:  0.7147,\tAdjusted R-squared:  0.6894 \n",
       "F-statistic: 28.19 on 4 and 45 DF,  p-value: 9.46e-12\n"
      ]
     },
     "metadata": {},
     "output_type": "display_data"
    },
    {
     "data": {
      "text/plain": [
       "\n",
       "Call:\n",
       "lm(formula = Life.Exp ~ Population + Income + HS.Grad + Frost, \n",
       "    data = statedata)\n",
       "\n",
       "Residuals:\n",
       "    Min      1Q  Median      3Q     Max \n",
       "-3.0771 -0.6406 -0.0087  0.6746  2.1241 \n",
       "\n",
       "Coefficients:\n",
       "              Estimate Std. Error t value Pr(>|t|)    \n",
       "(Intercept)  6.591e+01  1.261e+00  52.251  < 2e-16 ***\n",
       "Population   5.803e-06  4.137e-05   0.140 0.889067    \n",
       "Income      -9.158e-05  3.612e-04  -0.254 0.801015    \n",
       "HS.Grad      9.758e-02  2.738e-02   3.564 0.000878 ***\n",
       "Frost        1.617e-03  3.568e-03   0.453 0.652561    \n",
       "---\n",
       "Signif. codes:  0 ‘***’ 0.001 ‘**’ 0.01 ‘*’ 0.05 ‘.’ 0.1 ‘ ’ 1\n",
       "\n",
       "Residual standard error: 1.136 on 45 degrees of freedom\n",
       "Multiple R-squared:  0.3427,\tAdjusted R-squared:  0.2842 \n",
       "F-statistic: 5.865 on 4 and 45 DF,  p-value: 0.000692\n"
      ]
     },
     "metadata": {},
     "output_type": "display_data"
    },
    {
     "data": {
      "text/plain": [
       "\n",
       "Call:\n",
       "lm(formula = Life.Exp ~ Murder + HS.Grad + Frost + Illiteracy, \n",
       "    data = statedata)\n",
       "\n",
       "Residuals:\n",
       "     Min       1Q   Median       3Q      Max \n",
       "-1.48906 -0.51040  0.09793  0.55193  1.33480 \n",
       "\n",
       "Coefficients:\n",
       "             Estimate Std. Error t value Pr(>|t|)    \n",
       "(Intercept) 71.519958   1.320487  54.162  < 2e-16 ***\n",
       "Murder      -0.273118   0.041138  -6.639  3.5e-08 ***\n",
       "HS.Grad      0.044970   0.017759   2.532  0.01490 *  \n",
       "Frost       -0.007678   0.002828  -2.715  0.00936 ** \n",
       "Illiteracy  -0.181608   0.327846  -0.554  0.58236    \n",
       "---\n",
       "Signif. codes:  0 ‘***’ 0.001 ‘**’ 0.01 ‘*’ 0.05 ‘.’ 0.1 ‘ ’ 1\n",
       "\n",
       "Residual standard error: 0.7483 on 45 degrees of freedom\n",
       "Multiple R-squared:  0.7146,\tAdjusted R-squared:  0.6892 \n",
       "F-statistic: 28.17 on 4 and 45 DF,  p-value: 9.547e-12\n"
      ]
     },
     "metadata": {},
     "output_type": "display_data"
    },
    {
     "data": {
      "text/plain": [
       "\n",
       "Call:\n",
       "lm(formula = Life.Exp ~ Population + Murder + HS.Grad + Frost, \n",
       "    data = statedata)\n",
       "\n",
       "Residuals:\n",
       "     Min       1Q   Median       3Q      Max \n",
       "-1.47095 -0.53464 -0.03701  0.57621  1.50683 \n",
       "\n",
       "Coefficients:\n",
       "              Estimate Std. Error t value Pr(>|t|)    \n",
       "(Intercept)  7.103e+01  9.529e-01  74.542  < 2e-16 ***\n",
       "Population   5.014e-05  2.512e-05   1.996  0.05201 .  \n",
       "Murder      -3.001e-01  3.661e-02  -8.199 1.77e-10 ***\n",
       "HS.Grad      4.658e-02  1.483e-02   3.142  0.00297 ** \n",
       "Frost       -5.943e-03  2.421e-03  -2.455  0.01802 *  \n",
       "---\n",
       "Signif. codes:  0 ‘***’ 0.001 ‘**’ 0.01 ‘*’ 0.05 ‘.’ 0.1 ‘ ’ 1\n",
       "\n",
       "Residual standard error: 0.7197 on 45 degrees of freedom\n",
       "Multiple R-squared:  0.736,\tAdjusted R-squared:  0.7126 \n",
       "F-statistic: 31.37 on 4 and 45 DF,  p-value: 1.696e-12\n"
      ]
     },
     "metadata": {},
     "output_type": "display_data"
    }
   ],
   "source": [
    "life_expectancy_reg_model = lm(Life.Exp ~ Population + Income + Illiteracy + Murder + HS.Grad + Frost + Area , data=statedata)\n",
    "\n",
    "life_expectancy_reg_model_1 = lm(Life.Exp ~ Income + Murder + HS.Grad + Frost, data=statedata)\n",
    "life_expectancy_reg_model_2 = lm(Life.Exp ~ Population + Income + HS.Grad + Frost, data=statedata)\n",
    "life_expectancy_reg_model_3 = lm(Life.Exp ~ Murder + HS.Grad + Frost + Illiteracy, data=statedata)\n",
    "life_expectancy_reg_model_4 = lm(Life.Exp ~ Population + Murder + HS.Grad + Frost , data=statedata)\n",
    "\n",
    "summary(life_expectancy_reg_model)\n",
    "summary(life_expectancy_reg_model_1)\n",
    "summary(life_expectancy_reg_model_2)\n",
    "summary(life_expectancy_reg_model_3)\n",
    "summary(life_expectancy_reg_model_4)\n",
    "\n",
    "# since the r2 value of the 4th model is the highest, we choose it as the most significant model\n",
    "# and reject remaining model"
   ]
  },
  {
   "cell_type": "code",
   "execution_count": 72,
   "metadata": {},
   "outputs": [
    {
     "data": {
      "text/html": [
       "<table>\n",
       "<thead><tr><th></th><th scope=col>Population</th><th scope=col>Income</th><th scope=col>Illiteracy</th><th scope=col>Life.Exp</th><th scope=col>Murder</th><th scope=col>HS.Grad</th><th scope=col>Frost</th><th scope=col>Area</th><th scope=col>state.abb</th><th scope=col>state.area</th><th scope=col>x</th><th scope=col>y</th><th scope=col>state.division</th><th scope=col>state.name</th><th scope=col>state.region</th></tr></thead>\n",
       "<tbody>\n",
       "\t<tr><th scope=row>Alabama</th><td>3615              </td><td>3624              </td><td>2.1               </td><td>69.05             </td><td>15.1              </td><td>41.3              </td><td>20                </td><td>50708             </td><td>AL                </td><td>51609             </td><td>-86.7509          </td><td>32.5901           </td><td>East South Central</td><td>Alabama           </td><td>South             </td></tr>\n",
       "</tbody>\n",
       "</table>\n"
      ],
      "text/latex": [
       "\\begin{tabular}{r|lllllllllllllll}\n",
       "  & Population & Income & Illiteracy & Life.Exp & Murder & HS.Grad & Frost & Area & state.abb & state.area & x & y & state.division & state.name & state.region\\\\\n",
       "\\hline\n",
       "\tAlabama & 3615               & 3624               & 2.1                & 69.05              & 15.1               & 41.3               & 20                 & 50708              & AL                 & 51609              & -86.7509           & 32.5901            & East South Central & Alabama            & South             \\\\\n",
       "\\end{tabular}\n"
      ],
      "text/markdown": [
       "\n",
       "| <!--/--> | Population | Income | Illiteracy | Life.Exp | Murder | HS.Grad | Frost | Area | state.abb | state.area | x | y | state.division | state.name | state.region | \n",
       "|---|\n",
       "| Alabama | 3615               | 3624               | 2.1                | 69.05              | 15.1               | 41.3               | 20                 | 50708              | AL                 | 51609              | -86.7509           | 32.5901            | East South Central | Alabama            | South              | \n",
       "\n",
       "\n"
      ],
      "text/plain": [
       "        Population Income Illiteracy Life.Exp Murder HS.Grad Frost Area \n",
       "Alabama 3615       3624   2.1        69.05    15.1   41.3    20    50708\n",
       "        state.abb state.area x        y       state.division     state.name\n",
       "Alabama AL        51609      -86.7509 32.5901 East South Central Alabama   \n",
       "        state.region\n",
       "Alabama South       "
      ]
     },
     "metadata": {},
     "output_type": "display_data"
    },
    {
     "data": {
      "text/html": [
       "<table>\n",
       "<thead><tr><th></th><th scope=col>Population</th><th scope=col>Income</th><th scope=col>Illiteracy</th><th scope=col>Life.Exp</th><th scope=col>Murder</th><th scope=col>HS.Grad</th><th scope=col>Frost</th><th scope=col>Area</th><th scope=col>state.abb</th><th scope=col>state.area</th><th scope=col>x</th><th scope=col>y</th><th scope=col>state.division</th><th scope=col>state.name</th><th scope=col>state.region</th></tr></thead>\n",
       "<tbody>\n",
       "\t<tr><th scope=row>South Carolina</th><td>2816          </td><td>3635          </td><td>2.3           </td><td>67.96         </td><td>11.6          </td><td>37.8          </td><td>65            </td><td>30225         </td><td>SC            </td><td>31055         </td><td>-80.5056      </td><td>33.619        </td><td>South Atlantic</td><td>South Carolina</td><td>South         </td></tr>\n",
       "</tbody>\n",
       "</table>\n"
      ],
      "text/latex": [
       "\\begin{tabular}{r|lllllllllllllll}\n",
       "  & Population & Income & Illiteracy & Life.Exp & Murder & HS.Grad & Frost & Area & state.abb & state.area & x & y & state.division & state.name & state.region\\\\\n",
       "\\hline\n",
       "\tSouth Carolina & 2816           & 3635           & 2.3            & 67.96          & 11.6           & 37.8           & 65             & 30225          & SC             & 31055          & -80.5056       & 33.619         & South Atlantic & South Carolina & South         \\\\\n",
       "\\end{tabular}\n"
      ],
      "text/markdown": [
       "\n",
       "| <!--/--> | Population | Income | Illiteracy | Life.Exp | Murder | HS.Grad | Frost | Area | state.abb | state.area | x | y | state.division | state.name | state.region | \n",
       "|---|\n",
       "| South Carolina | 2816           | 3635           | 2.3            | 67.96          | 11.6           | 37.8           | 65             | 30225          | SC             | 31055          | -80.5056       | 33.619         | South Atlantic | South Carolina | South          | \n",
       "\n",
       "\n"
      ],
      "text/plain": [
       "               Population Income Illiteracy Life.Exp Murder HS.Grad Frost Area \n",
       "South Carolina 2816       3635   2.3        67.96    11.6   37.8    65    30225\n",
       "               state.abb state.area x        y      state.division\n",
       "South Carolina SC        31055      -80.5056 33.619 South Atlantic\n",
       "               state.name     state.region\n",
       "South Carolina South Carolina South       "
      ]
     },
     "metadata": {},
     "output_type": "display_data"
    }
   ],
   "source": [
    "# solution to problem 3.3\n",
    "prediction_model_4 = predict(life_expectancy_reg_model_4)\n",
    "\n",
    "predicted_low_life_exp_state = statedata[which.min(prediction_model_4), ]\n",
    "actual_low_life_exp_state =  statedata[which.min(statedata$Life.Exp),]\n",
    "\n",
    "predicted_low_life_exp_state\n",
    "actual_low_life_exp_state\n",
    "# cbind(prediction_model_4, statedata$Life.Exp)\n"
   ]
  },
  {
   "cell_type": "code",
   "execution_count": 73,
   "metadata": {},
   "outputs": [
    {
     "data": {
      "text/html": [
       "<table>\n",
       "<thead><tr><th></th><th scope=col>Population</th><th scope=col>Income</th><th scope=col>Illiteracy</th><th scope=col>Life.Exp</th><th scope=col>Murder</th><th scope=col>HS.Grad</th><th scope=col>Frost</th><th scope=col>Area</th><th scope=col>state.abb</th><th scope=col>state.area</th><th scope=col>x</th><th scope=col>y</th><th scope=col>state.division</th><th scope=col>state.name</th><th scope=col>state.region</th></tr></thead>\n",
       "<tbody>\n",
       "\t<tr><th scope=row>Washington</th><td>3559      </td><td>4864      </td><td>0.6       </td><td>71.72     </td><td>4.3       </td><td>63.5      </td><td>32        </td><td>66570     </td><td>WA        </td><td>68192     </td><td>-119.746  </td><td>47.4231   </td><td>Pacific   </td><td>Washington</td><td>West      </td></tr>\n",
       "</tbody>\n",
       "</table>\n"
      ],
      "text/latex": [
       "\\begin{tabular}{r|lllllllllllllll}\n",
       "  & Population & Income & Illiteracy & Life.Exp & Murder & HS.Grad & Frost & Area & state.abb & state.area & x & y & state.division & state.name & state.region\\\\\n",
       "\\hline\n",
       "\tWashington & 3559       & 4864       & 0.6        & 71.72      & 4.3        & 63.5       & 32         & 66570      & WA         & 68192      & -119.746   & 47.4231    & Pacific    & Washington & West      \\\\\n",
       "\\end{tabular}\n"
      ],
      "text/markdown": [
       "\n",
       "| <!--/--> | Population | Income | Illiteracy | Life.Exp | Murder | HS.Grad | Frost | Area | state.abb | state.area | x | y | state.division | state.name | state.region | \n",
       "|---|\n",
       "| Washington | 3559       | 4864       | 0.6        | 71.72      | 4.3        | 63.5       | 32         | 66570      | WA         | 68192      | -119.746   | 47.4231    | Pacific    | Washington | West       | \n",
       "\n",
       "\n"
      ],
      "text/plain": [
       "           Population Income Illiteracy Life.Exp Murder HS.Grad Frost Area \n",
       "Washington 3559       4864   0.6        71.72    4.3    63.5    32    66570\n",
       "           state.abb state.area x        y       state.division state.name\n",
       "Washington WA        68192      -119.746 47.4231 Pacific        Washington\n",
       "           state.region\n",
       "Washington West        "
      ]
     },
     "metadata": {},
     "output_type": "display_data"
    },
    {
     "data": {
      "text/html": [
       "<table>\n",
       "<thead><tr><th></th><th scope=col>Population</th><th scope=col>Income</th><th scope=col>Illiteracy</th><th scope=col>Life.Exp</th><th scope=col>Murder</th><th scope=col>HS.Grad</th><th scope=col>Frost</th><th scope=col>Area</th><th scope=col>state.abb</th><th scope=col>state.area</th><th scope=col>x</th><th scope=col>y</th><th scope=col>state.division</th><th scope=col>state.name</th><th scope=col>state.region</th></tr></thead>\n",
       "<tbody>\n",
       "\t<tr><th scope=row>Hawaii</th><td>868    </td><td>4963   </td><td>1.9    </td><td>73.6   </td><td>6.2    </td><td>61.9   </td><td>0      </td><td>6425   </td><td>HI     </td><td>6450   </td><td>-126.25</td><td>31.75  </td><td>Pacific</td><td>Hawaii </td><td>West   </td></tr>\n",
       "</tbody>\n",
       "</table>\n"
      ],
      "text/latex": [
       "\\begin{tabular}{r|lllllllllllllll}\n",
       "  & Population & Income & Illiteracy & Life.Exp & Murder & HS.Grad & Frost & Area & state.abb & state.area & x & y & state.division & state.name & state.region\\\\\n",
       "\\hline\n",
       "\tHawaii & 868     & 4963    & 1.9     & 73.6    & 6.2     & 61.9    & 0       & 6425    & HI      & 6450    & -126.25 & 31.75   & Pacific & Hawaii  & West   \\\\\n",
       "\\end{tabular}\n"
      ],
      "text/markdown": [
       "\n",
       "| <!--/--> | Population | Income | Illiteracy | Life.Exp | Murder | HS.Grad | Frost | Area | state.abb | state.area | x | y | state.division | state.name | state.region | \n",
       "|---|\n",
       "| Hawaii | 868     | 4963    | 1.9     | 73.6    | 6.2     | 61.9    | 0       | 6425    | HI      | 6450    | -126.25 | 31.75   | Pacific | Hawaii  | West    | \n",
       "\n",
       "\n"
      ],
      "text/plain": [
       "       Population Income Illiteracy Life.Exp Murder HS.Grad Frost Area\n",
       "Hawaii 868        4963   1.9        73.6     6.2    61.9    0     6425\n",
       "       state.abb state.area x       y     state.division state.name\n",
       "Hawaii HI        6450       -126.25 31.75 Pacific        Hawaii    \n",
       "       state.region\n",
       "Hawaii West        "
      ]
     },
     "metadata": {},
     "output_type": "display_data"
    }
   ],
   "source": [
    "# solution to problem 3.4\n",
    "predicted_high_life_exp_state = statedata[which.max(prediction_model_4), ]\n",
    "actual_high_life_exp_state =  statedata[which.max(statedata$Life.Exp),]\n",
    "\n",
    "predicted_high_life_exp_state\n",
    "actual_high_life_exp_state"
   ]
  },
  {
   "cell_type": "code",
   "execution_count": 77,
   "metadata": {},
   "outputs": [
    {
     "data": {
      "text/html": [
       "<table>\n",
       "<thead><tr><th></th><th scope=col>Population</th><th scope=col>Income</th><th scope=col>Illiteracy</th><th scope=col>Life.Exp</th><th scope=col>Murder</th><th scope=col>HS.Grad</th><th scope=col>Frost</th><th scope=col>Area</th><th scope=col>state.abb</th><th scope=col>state.area</th><th scope=col>x</th><th scope=col>y</th><th scope=col>state.division</th><th scope=col>state.name</th><th scope=col>state.region</th></tr></thead>\n",
       "<tbody>\n",
       "\t<tr><th scope=row>Maine</th><td>1058       </td><td>3694       </td><td>0.7        </td><td>70.39      </td><td>2.7        </td><td>54.7       </td><td>161        </td><td>30920      </td><td>ME         </td><td>33215      </td><td>-68.9801   </td><td>45.6226    </td><td>New England</td><td>Maine      </td><td>Northeast  </td></tr>\n",
       "</tbody>\n",
       "</table>\n"
      ],
      "text/latex": [
       "\\begin{tabular}{r|lllllllllllllll}\n",
       "  & Population & Income & Illiteracy & Life.Exp & Murder & HS.Grad & Frost & Area & state.abb & state.area & x & y & state.division & state.name & state.region\\\\\n",
       "\\hline\n",
       "\tMaine & 1058        & 3694        & 0.7         & 70.39       & 2.7         & 54.7        & 161         & 30920       & ME          & 33215       & -68.9801    & 45.6226     & New England & Maine       & Northeast  \\\\\n",
       "\\end{tabular}\n"
      ],
      "text/markdown": [
       "\n",
       "| <!--/--> | Population | Income | Illiteracy | Life.Exp | Murder | HS.Grad | Frost | Area | state.abb | state.area | x | y | state.division | state.name | state.region | \n",
       "|---|\n",
       "| Maine | 1058        | 3694        | 0.7         | 70.39       | 2.7         | 54.7        | 161         | 30920       | ME          | 33215       | -68.9801    | 45.6226     | New England | Maine       | Northeast   | \n",
       "\n",
       "\n"
      ],
      "text/plain": [
       "      Population Income Illiteracy Life.Exp Murder HS.Grad Frost Area \n",
       "Maine 1058       3694   0.7        70.39    2.7    54.7    161   30920\n",
       "      state.abb state.area x        y       state.division state.name\n",
       "Maine ME        33215      -68.9801 45.6226 New England    Maine     \n",
       "      state.region\n",
       "Maine Northeast   "
      ]
     },
     "metadata": {},
     "output_type": "display_data"
    },
    {
     "data": {
      "text/html": [
       "<table>\n",
       "<thead><tr><th></th><th scope=col>Population</th><th scope=col>Income</th><th scope=col>Illiteracy</th><th scope=col>Life.Exp</th><th scope=col>Murder</th><th scope=col>HS.Grad</th><th scope=col>Frost</th><th scope=col>Area</th><th scope=col>state.abb</th><th scope=col>state.area</th><th scope=col>x</th><th scope=col>y</th><th scope=col>state.division</th><th scope=col>state.name</th><th scope=col>state.region</th></tr></thead>\n",
       "<tbody>\n",
       "\t<tr><th scope=row>Hawaii</th><td>868    </td><td>4963   </td><td>1.9    </td><td>73.6   </td><td>6.2    </td><td>61.9   </td><td>0      </td><td>6425   </td><td>HI     </td><td>6450   </td><td>-126.25</td><td>31.75  </td><td>Pacific</td><td>Hawaii </td><td>West   </td></tr>\n",
       "</tbody>\n",
       "</table>\n"
      ],
      "text/latex": [
       "\\begin{tabular}{r|lllllllllllllll}\n",
       "  & Population & Income & Illiteracy & Life.Exp & Murder & HS.Grad & Frost & Area & state.abb & state.area & x & y & state.division & state.name & state.region\\\\\n",
       "\\hline\n",
       "\tHawaii & 868     & 4963    & 1.9     & 73.6    & 6.2     & 61.9    & 0       & 6425    & HI      & 6450    & -126.25 & 31.75   & Pacific & Hawaii  & West   \\\\\n",
       "\\end{tabular}\n"
      ],
      "text/markdown": [
       "\n",
       "| <!--/--> | Population | Income | Illiteracy | Life.Exp | Murder | HS.Grad | Frost | Area | state.abb | state.area | x | y | state.division | state.name | state.region | \n",
       "|---|\n",
       "| Hawaii | 868     | 4963    | 1.9     | 73.6    | 6.2     | 61.9    | 0       | 6425    | HI      | 6450    | -126.25 | 31.75   | Pacific | Hawaii  | West    | \n",
       "\n",
       "\n"
      ],
      "text/plain": [
       "       Population Income Illiteracy Life.Exp Murder HS.Grad Frost Area\n",
       "Hawaii 868        4963   1.9        73.6     6.2    61.9    0     6425\n",
       "       state.abb state.area x       y     state.division state.name\n",
       "Hawaii HI        6450       -126.25 31.75 Pacific        Hawaii    \n",
       "       state.region\n",
       "Hawaii West        "
      ]
     },
     "metadata": {},
     "output_type": "display_data"
    }
   ],
   "source": [
    "# solution to problem 3.5\n",
    "# which state's life expectancy have the minimum error (determine those from the residuals property of the reg model)\n",
    "statedata[which.min(life_expectancy_reg_model_4$residuals), ]\n",
    "statedata[which.max(life_expectancy_reg_model_4$residuals), ]"
   ]
  }
 ],
 "metadata": {
  "kernelspec": {
   "display_name": "R",
   "language": "R",
   "name": "ir"
  },
  "language_info": {
   "codemirror_mode": "r",
   "file_extension": ".r",
   "mimetype": "text/x-r-source",
   "name": "R",
   "pygments_lexer": "r",
   "version": "3.2.3"
  }
 },
 "nbformat": 4,
 "nbformat_minor": 2
}
