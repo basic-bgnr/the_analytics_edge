{
 "cells": [
  {
   "cell_type": "markdown",
   "metadata": {},
   "source": [
    "#### Studying Analytics (Edx Course)\n",
    "___\n",
    "\n",
    "__Date Started:__  \n",
    "__Nov 22, 2018__  \n",
    "\n",
    "__Introduction:__  \n",
    "__The course is intended as an introductory tool for data Analysis using R Programming language__  \n",
    "__Unit : 2__  (Assignment)\n",
    "\n",
    "\n",
    "__Content__:\n",
    "* Linear Regression testing weather data to validate that the average global temperature is rising.  \n",
    "\n",
    "\n",
    "__links:__  \n",
    "* temperature data       : http://www.cru.uea.ac.uk/cru/data/temperature/  \n",
    "* GHG concentrations     : https://www.esrl.noaa.gov/gmd/ccgg/data-products.html  \n",
    "* Aerosol concentration  : http://data.giss.nasa.gov/modelforce/strataer/  \n",
    "* Total Solar Irradiance : http://solarisheppa.geomar.de/solarisheppa/cmip5  \n",
    "* El nino indicators     : http://www.esrl.noaa.gov/psd/enso/mei/table.html"
   ]
  },
  {
   "cell_type": "code",
   "execution_count": 34,
   "metadata": {},
   "outputs": [],
   "source": [
    "climate_change = read.csv('climate_change.csv')"
   ]
  },
  {
   "cell_type": "code",
   "execution_count": 35,
   "metadata": {},
   "outputs": [
    {
     "name": "stdout",
     "output_type": "stream",
     "text": [
      "'data.frame':\t284 obs. of  11 variables:\n",
      " $ Year    : int  1983 1983 1983 1983 1983 1983 1983 1983 1984 1984 ...\n",
      " $ Month   : int  5 6 7 8 9 10 11 12 1 2 ...\n",
      " $ MEI     : num  2.556 2.167 1.741 1.13 0.428 ...\n",
      " $ CO2     : num  346 346 344 342 340 ...\n",
      " $ CH4     : num  1639 1634 1633 1631 1648 ...\n",
      " $ N2O     : num  304 304 304 304 304 ...\n",
      " $ CFC.11  : num  191 192 193 194 194 ...\n",
      " $ CFC.12  : num  350 352 354 356 357 ...\n",
      " $ TSI     : num  1366 1366 1366 1366 1366 ...\n",
      " $ Aerosols: num  0.0863 0.0794 0.0731 0.0673 0.0619 0.0569 0.0524 0.0486 0.0451 0.0416 ...\n",
      " $ Temp    : num  0.109 0.118 0.137 0.176 0.149 0.093 0.232 0.078 0.089 0.013 ...\n",
      "'data.frame':\t24 obs. of  11 variables:\n",
      " $ Year    : int  2007 2007 2007 2007 2007 2007 2007 2007 2007 2007 ...\n",
      " $ Month   : int  1 2 3 4 5 6 7 8 9 10 ...\n",
      " $ MEI     : num  0.974 0.51 0.074 -0.049 0.183 ...\n",
      " $ CO2     : num  383 384 385 386 387 ...\n",
      " $ CH4     : num  1800 1803 1803 1802 1796 ...\n",
      " $ N2O     : num  321 321 321 321 320 ...\n",
      " $ CFC.11  : num  248 248 248 248 247 ...\n",
      " $ CFC.12  : num  539 539 539 539 538 ...\n",
      " $ TSI     : num  1366 1366 1366 1366 1366 ...\n",
      " $ Aerosols: num  0.0054 0.0051 0.0045 0.0045 0.0041 0.004 0.004 0.0041 0.0042 0.0041 ...\n",
      " $ Temp    : num  0.601 0.498 0.435 0.466 0.372 0.382 0.394 0.358 0.402 0.362 ...\n"
     ]
    }
   ],
   "source": [
    "# summary(climate_change)\n",
    "# str(climate_change)\n",
    "# climate_change[1, ]\n",
    "\n",
    "# create training data upto 2006 and test data then onwards using previously available data\n",
    "\n",
    "training_data = subset(climate_change, climate_change$Year <= 2006)\n",
    "test_data     = subset(climate_change, climate_change$Year > 2006)\n",
    "\n",
    "str(training_data)\n",
    "str(test_data)"
   ]
  },
  {
   "cell_type": "code",
   "execution_count": 36,
   "metadata": {},
   "outputs": [],
   "source": [
    "model1_all_variable_considered = lm(formula = Temp ~ Year + Month + MEI + CO2 + CH4 + N2O + CFC.11 + CFC.12 + Aerosols, data = training_data)\n",
    "# summary(model1_all_variable_considered)\n",
    "\n",
    "model2_ch4_removed  = lm(formula = Temp ~ Year + Month + MEI + CO2 + N2O + CFC.11 + CFC.12 + Aerosols, data = training_data)\n",
    "# summary(model2_ch4_removed)\n",
    "\n",
    "model3_month_removed = lm(formula = Temp ~ Year + MEI + CO2 +  N2O + CFC.11 + CFC.12 + Aerosols, data = training_data)\n",
    "# summary(model3_month_removed)\n"
   ]
  },
  {
   "cell_type": "code",
   "execution_count": 37,
   "metadata": {},
   "outputs": [
    {
     "data": {
      "text/plain": [
       "\n",
       "Call:\n",
       "lm(formula = Temp ~ MEI + CO2 + CH4 + N2O + CFC.11 + CFC.12 + \n",
       "    TSI + Aerosols, data = training_data)\n",
       "\n",
       "Residuals:\n",
       "     Min       1Q   Median       3Q      Max \n",
       "-0.25888 -0.05913 -0.00082  0.05649  0.32433 \n",
       "\n",
       "Coefficients:\n",
       "              Estimate Std. Error t value Pr(>|t|)    \n",
       "(Intercept) -1.246e+02  1.989e+01  -6.265 1.43e-09 ***\n",
       "MEI          6.421e-02  6.470e-03   9.923  < 2e-16 ***\n",
       "CO2          6.457e-03  2.285e-03   2.826  0.00505 ** \n",
       "CH4          1.240e-04  5.158e-04   0.240  0.81015    \n",
       "N2O         -1.653e-02  8.565e-03  -1.930  0.05467 .  \n",
       "CFC.11      -6.631e-03  1.626e-03  -4.078 5.96e-05 ***\n",
       "CFC.12       3.808e-03  1.014e-03   3.757  0.00021 ***\n",
       "TSI          9.314e-02  1.475e-02   6.313 1.10e-09 ***\n",
       "Aerosols    -1.538e+00  2.133e-01  -7.210 5.41e-12 ***\n",
       "---\n",
       "Signif. codes:  0 ‘***’ 0.001 ‘**’ 0.01 ‘*’ 0.05 ‘.’ 0.1 ‘ ’ 1\n",
       "\n",
       "Residual standard error: 0.09171 on 275 degrees of freedom\n",
       "Multiple R-squared:  0.7509,\tAdjusted R-squared:  0.7436 \n",
       "F-statistic: 103.6 on 8 and 275 DF,  p-value: < 2.2e-16\n"
      ]
     },
     "metadata": {},
     "output_type": "display_data"
    }
   ],
   "source": [
    "# solution to question 1\n",
    "\n",
    "model_question = lm(formula = Temp ~ MEI + CO2 + CH4 + N2O + CFC.11 + CFC.12 + TSI + Aerosols, data = training_data)\n",
    "summary(model_question)"
   ]
  },
  {
   "cell_type": "code",
   "execution_count": 38,
   "metadata": {},
   "outputs": [
    {
     "data": {
      "text/html": [
       "-0.0508197754723296"
      ],
      "text/latex": [
       "-0.0508197754723296"
      ],
      "text/markdown": [
       "-0.0508197754723296"
      ],
      "text/plain": [
       "[1] -0.05081978"
      ]
     },
     "metadata": {},
     "output_type": "display_data"
    },
    {
     "data": {
      "text/html": [
       "0.976719818217478"
      ],
      "text/latex": [
       "0.976719818217478"
      ],
      "text/markdown": [
       "0.976719818217478"
      ],
      "text/plain": [
       "[1] 0.9767198"
      ]
     },
     "metadata": {},
     "output_type": "display_data"
    },
    {
     "data": {
      "text/html": [
       "0.899838643766285"
      ],
      "text/latex": [
       "0.899838643766285"
      ],
      "text/markdown": [
       "0.899838643766285"
      ],
      "text/plain": [
       "[1] 0.8998386"
      ]
     },
     "metadata": {},
     "output_type": "display_data"
    },
    {
     "data": {
      "text/html": [
       "0.522477318794013"
      ],
      "text/latex": [
       "0.522477318794013"
      ],
      "text/markdown": [
       "0.522477318794013"
      ],
      "text/plain": [
       "[1] 0.5224773"
      ]
     },
     "metadata": {},
     "output_type": "display_data"
    },
    {
     "data": {
      "text/html": [
       "0.867930775708513"
      ],
      "text/latex": [
       "0.867930775708513"
      ],
      "text/markdown": [
       "0.867930775708513"
      ],
      "text/plain": [
       "[1] 0.8679308"
      ]
     },
     "metadata": {},
     "output_type": "display_data"
    },
    {
     "data": {
      "text/html": [
       "0.199756679427515"
      ],
      "text/latex": [
       "0.199756679427515"
      ],
      "text/markdown": [
       "0.199756679427515"
      ],
      "text/plain": [
       "[1] 0.1997567"
      ]
     },
     "metadata": {},
     "output_type": "display_data"
    },
    {
     "data": {
      "text/html": [
       "-0.337054570706549"
      ],
      "text/latex": [
       "-0.337054570706549"
      ],
      "text/markdown": [
       "-0.337054570706549"
      ],
      "text/plain": [
       "[1] -0.3370546"
      ]
     },
     "metadata": {},
     "output_type": "display_data"
    }
   ],
   "source": [
    "# problem 2.2 \n",
    "# finding correlation between N2O and other variable \n",
    "cor(training_data$N2O, training_data$MEI)\n",
    "cor(training_data$N2O, training_data$CO2)\n",
    "cor(training_data$N2O, training_data$CH4)\n",
    "cor(training_data$N2O, training_data$CFC.11)\n",
    "cor(training_data$N2O, training_data$CFC.12)\n",
    "cor(training_data$N2O, training_data$TSI)\n",
    "cor(training_data$N2O, training_data$Aerosols)"
   ]
  },
  {
   "cell_type": "code",
   "execution_count": 39,
   "metadata": {},
   "outputs": [
    {
     "data": {
      "text/html": [
       "0.069000438724312"
      ],
      "text/latex": [
       "0.069000438724312"
      ],
      "text/markdown": [
       "0.069000438724312"
      ],
      "text/plain": [
       "[1] 0.06900044"
      ]
     },
     "metadata": {},
     "output_type": "display_data"
    },
    {
     "data": {
      "text/html": [
       "0.514059748009346"
      ],
      "text/latex": [
       "0.514059748009346"
      ],
      "text/markdown": [
       "0.514059748009346"
      ],
      "text/plain": [
       "[1] 0.5140597"
      ]
     },
     "metadata": {},
     "output_type": "display_data"
    },
    {
     "data": {
      "text/html": [
       "0.779904020023314"
      ],
      "text/latex": [
       "0.779904020023314"
      ],
      "text/markdown": [
       "0.779904020023314"
      ],
      "text/plain": [
       "[1] 0.779904"
      ]
     },
     "metadata": {},
     "output_type": "display_data"
    },
    {
     "data": {
      "text/html": [
       "0.522477318794013"
      ],
      "text/latex": [
       "0.522477318794013"
      ],
      "text/markdown": [
       "0.522477318794013"
      ],
      "text/plain": [
       "[1] 0.5224773"
      ]
     },
     "metadata": {},
     "output_type": "display_data"
    },
    {
     "data": {
      "text/html": [
       "0.868985182783086"
      ],
      "text/latex": [
       "0.868985182783086"
      ],
      "text/markdown": [
       "0.868985182783086"
      ],
      "text/plain": [
       "[1] 0.8689852"
      ]
     },
     "metadata": {},
     "output_type": "display_data"
    },
    {
     "data": {
      "text/html": [
       "0.272045960296639"
      ],
      "text/latex": [
       "0.272045960296639"
      ],
      "text/markdown": [
       "0.272045960296639"
      ],
      "text/plain": [
       "[1] 0.272046"
      ]
     },
     "metadata": {},
     "output_type": "display_data"
    },
    {
     "data": {
      "text/html": [
       "-0.0439211981477644"
      ],
      "text/latex": [
       "-0.0439211981477644"
      ],
      "text/markdown": [
       "-0.0439211981477644"
      ],
      "text/plain": [
       "[1] -0.0439212"
      ]
     },
     "metadata": {},
     "output_type": "display_data"
    }
   ],
   "source": [
    "# problem 2.3\n",
    "# finding corelation between \n",
    "cor(training_data$CFC.11, training_data$MEI)\n",
    "cor(training_data$CFC.11, training_data$CO2)\n",
    "cor(training_data$CFC.11, training_data$CH4)\n",
    "cor(training_data$CFC.11, training_data$N2O)\n",
    "cor(training_data$CFC.11, training_data$CFC.12)\n",
    "cor(training_data$CFC.11, training_data$TSI)\n",
    "cor(training_data$CFC.11, training_data$Aerosols)"
   ]
  },
  {
   "cell_type": "code",
   "execution_count": 40,
   "metadata": {},
   "outputs": [
    {
     "data": {
      "text/plain": [
       "\n",
       "Call:\n",
       "lm(formula = Temp ~ MEI + TSI + Aerosols + N2O, data = training_data)\n",
       "\n",
       "Residuals:\n",
       "     Min       1Q   Median       3Q      Max \n",
       "-0.27916 -0.05975 -0.00595  0.05672  0.34195 \n",
       "\n",
       "Coefficients:\n",
       "              Estimate Std. Error t value Pr(>|t|)    \n",
       "(Intercept) -1.162e+02  2.022e+01  -5.747 2.37e-08 ***\n",
       "MEI          6.419e-02  6.652e-03   9.649  < 2e-16 ***\n",
       "TSI          7.949e-02  1.487e-02   5.344 1.89e-07 ***\n",
       "Aerosols    -1.702e+00  2.180e-01  -7.806 1.19e-13 ***\n",
       "N2O          2.532e-02  1.311e-03  19.307  < 2e-16 ***\n",
       "---\n",
       "Signif. codes:  0 ‘***’ 0.001 ‘**’ 0.01 ‘*’ 0.05 ‘.’ 0.1 ‘ ’ 1\n",
       "\n",
       "Residual standard error: 0.09547 on 279 degrees of freedom\n",
       "Multiple R-squared:  0.7261,\tAdjusted R-squared:  0.7222 \n",
       "F-statistic: 184.9 on 4 and 279 DF,  p-value: < 2.2e-16\n"
      ]
     },
     "metadata": {},
     "output_type": "display_data"
    }
   ],
   "source": [
    "# solution to promblem 3\n",
    "\n",
    "# simplifying model to fewer variable\n",
    "\n",
    "simple_model = lm(formula = Temp ~ MEI+TSI+Aerosols+N2O, data=training_data)\n",
    "\n",
    "summary(simple_model)"
   ]
  },
  {
   "cell_type": "code",
   "execution_count": 41,
   "metadata": {},
   "outputs": [
    {
     "name": "stdout",
     "output_type": "stream",
     "text": [
      "Start:  AIC=-1348.16\n",
      "Temp ~ MEI + CO2 + CH4 + N2O + CFC.11 + CFC.12 + TSI + Aerosols\n",
      "\n",
      "           Df Sum of Sq    RSS     AIC\n",
      "- CH4       1   0.00049 2.3135 -1350.1\n",
      "<none>                  2.3130 -1348.2\n",
      "- N2O       1   0.03132 2.3443 -1346.3\n",
      "- CO2       1   0.06719 2.3802 -1342.0\n",
      "- CFC.12    1   0.11874 2.4318 -1335.9\n",
      "- CFC.11    1   0.13986 2.4529 -1333.5\n",
      "- TSI       1   0.33516 2.6482 -1311.7\n",
      "- Aerosols  1   0.43727 2.7503 -1301.0\n",
      "- MEI       1   0.82823 3.1412 -1263.2\n",
      "\n",
      "Step:  AIC=-1350.1\n",
      "Temp ~ MEI + CO2 + N2O + CFC.11 + CFC.12 + TSI + Aerosols\n",
      "\n",
      "           Df Sum of Sq    RSS     AIC\n",
      "<none>                  2.3135 -1350.1\n",
      "- N2O       1   0.03133 2.3448 -1348.3\n",
      "- CO2       1   0.06672 2.3802 -1344.0\n",
      "- CFC.12    1   0.13023 2.4437 -1336.5\n",
      "- CFC.11    1   0.13938 2.4529 -1335.5\n",
      "- TSI       1   0.33500 2.6485 -1313.7\n",
      "- Aerosols  1   0.43987 2.7534 -1302.7\n",
      "- MEI       1   0.83118 3.1447 -1264.9\n"
     ]
    },
    {
     "data": {
      "text/plain": [
       "\n",
       "Call:\n",
       "lm(formula = Temp ~ MEI + CO2 + N2O + CFC.11 + CFC.12 + TSI + \n",
       "    Aerosols, data = training_data)\n",
       "\n",
       "Residuals:\n",
       "     Min       1Q   Median       3Q      Max \n",
       "-0.25770 -0.05994 -0.00104  0.05588  0.32203 \n",
       "\n",
       "Coefficients:\n",
       "              Estimate Std. Error t value Pr(>|t|)    \n",
       "(Intercept) -1.245e+02  1.985e+01  -6.273 1.37e-09 ***\n",
       "MEI          6.407e-02  6.434e-03   9.958  < 2e-16 ***\n",
       "CO2          6.402e-03  2.269e-03   2.821 0.005129 ** \n",
       "N2O         -1.602e-02  8.287e-03  -1.933 0.054234 .  \n",
       "CFC.11      -6.609e-03  1.621e-03  -4.078 5.95e-05 ***\n",
       "CFC.12       3.868e-03  9.812e-04   3.942 0.000103 ***\n",
       "TSI          9.312e-02  1.473e-02   6.322 1.04e-09 ***\n",
       "Aerosols    -1.540e+00  2.126e-01  -7.244 4.36e-12 ***\n",
       "---\n",
       "Signif. codes:  0 ‘***’ 0.001 ‘**’ 0.01 ‘*’ 0.05 ‘.’ 0.1 ‘ ’ 1\n",
       "\n",
       "Residual standard error: 0.09155 on 276 degrees of freedom\n",
       "Multiple R-squared:  0.7508,\tAdjusted R-squared:  0.7445 \n",
       "F-statistic: 118.8 on 7 and 276 DF,  p-value: < 2.2e-16\n"
      ]
     },
     "metadata": {},
     "output_type": "display_data"
    }
   ],
   "source": [
    "# problem 4 \n",
    "# using step function to reduce constructed model to a much simpler model\n",
    "# by removing variables with least significance.\n",
    "\n",
    "model_4 = model1_all_variable_considered\n",
    "model_4 = model_question\n",
    "new_model = step(model_4)\n",
    "summary(new_model)\n"
   ]
  },
  {
   "cell_type": "code",
   "execution_count": 47,
   "metadata": {},
   "outputs": [
    {
     "data": {
      "text/plain": [
       "   Min. 1st Qu.  Median    Mean 3rd Qu.    Max. \n",
       " 0.3142  0.3418  0.3771  0.3832  0.4245  0.4678 "
      ]
     },
     "metadata": {},
     "output_type": "display_data"
    },
    {
     "data": {
      "text/html": [
       "0.628605122509888"
      ],
      "text/latex": [
       "0.628605122509888"
      ],
      "text/markdown": [
       "0.628605122509888"
      ],
      "text/plain": [
       "[1] 0.6286051"
      ]
     },
     "metadata": {},
     "output_type": "display_data"
    }
   ],
   "source": [
    "# using model to predict new data\n",
    "\n",
    "prediction = predict(new_model, newdata=test_data)\n",
    "\n",
    "summary(prediction)\n",
    "\n",
    "sse = sum((prediction - test_data$Temp)^2)\n",
    "sst = sum((test_data$Temp - mean(training_data$Temp))^2)\n",
    "\n",
    "r2 = 1 - sse/sst\n",
    "\n",
    "r2\n"
   ]
  }
 ],
 "metadata": {
  "kernelspec": {
   "display_name": "R",
   "language": "R",
   "name": "ir"
  },
  "language_info": {
   "codemirror_mode": "r",
   "file_extension": ".r",
   "mimetype": "text/x-r-source",
   "name": "R",
   "pygments_lexer": "r",
   "version": "3.2.3"
  }
 },
 "nbformat": 4,
 "nbformat_minor": 2
}
