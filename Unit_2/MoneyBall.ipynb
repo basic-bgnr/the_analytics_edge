{
 "cells": [
  {
   "cell_type": "markdown",
   "metadata": {},
   "source": [
    "#### Studying Analytics (Edx Course)\n",
    "___\n",
    "\n",
    "__Date Started:__  \n",
    "__Nov 15, 2018__  \n",
    "\n",
    "__Introduction:__  \n",
    "__The course is intended as an introductory tool for data Analysis using R Programming language__  \n",
    "__Unit : 2__  \n",
    "\n",
    "\n",
    "__Content__:\n",
    "* Linear Regression (Money ball, Sports Analytics)"
   ]
  },
  {
   "cell_type": "code",
   "execution_count": 1,
   "metadata": {},
   "outputs": [],
   "source": [
    "baseball = read.csv('baseball.csv')"
   ]
  },
  {
   "cell_type": "code",
   "execution_count": 1,
   "metadata": {},
   "outputs": [
    {
     "name": "stdout",
     "output_type": "stream",
     "text": [
      "'data.frame':\t1232 obs. of  15 variables:\n",
      " $ Team        : Factor w/ 39 levels \"ANA\",\"ARI\",\"ATL\",..: 2 3 4 5 7 8 9 10 11 12 ...\n",
      " $ League      : Factor w/ 2 levels \"AL\",\"NL\": 2 2 1 1 2 1 2 1 2 1 ...\n",
      " $ Year        : int  2012 2012 2012 2012 2012 2012 2012 2012 2012 2012 ...\n",
      " $ RS          : int  734 700 712 734 613 748 669 667 758 726 ...\n",
      " $ RA          : int  688 600 705 806 759 676 588 845 890 670 ...\n",
      " $ W           : int  81 94 93 69 61 85 97 68 64 88 ...\n",
      " $ OBP         : num  0.328 0.32 0.311 0.315 0.302 0.318 0.315 0.324 0.33 0.335 ...\n",
      " $ SLG         : num  0.418 0.389 0.417 0.415 0.378 0.422 0.411 0.381 0.436 0.422 ...\n",
      " $ BA          : num  0.259 0.247 0.247 0.26 0.24 0.255 0.251 0.251 0.274 0.268 ...\n",
      " $ Playoffs    : int  0 1 1 0 0 0 1 0 0 1 ...\n",
      " $ RankSeason  : int  NA 4 5 NA NA NA 2 NA NA 6 ...\n",
      " $ RankPlayoffs: int  NA 5 4 NA NA NA 4 NA NA 2 ...\n",
      " $ G           : int  162 162 162 162 162 162 162 162 162 162 ...\n",
      " $ OOBP        : num  0.317 0.306 0.315 0.331 0.335 0.319 0.305 0.336 0.357 0.314 ...\n",
      " $ OSLG        : num  0.415 0.378 0.403 0.428 0.424 0.405 0.39 0.43 0.47 0.402 ...\n"
     ]
    }
   ],
   "source": [
    "str(baseball)"
   ]
  },
  {
   "cell_type": "code",
   "execution_count": 2,
   "metadata": {},
   "outputs": [
    {
     "name": "stdout",
     "output_type": "stream",
     "text": [
      "'data.frame':\t902 obs. of  16 variables:\n",
      " $ Team        : Factor w/ 39 levels \"ANA\",\"ARI\",\"ATL\",..: 1 2 3 4 5 7 8 9 10 11 ...\n",
      " $ League      : Factor w/ 2 levels \"AL\",\"NL\": 1 2 2 1 1 2 1 2 1 2 ...\n",
      " $ Year        : int  2001 2001 2001 2001 2001 2001 2001 2001 2001 2001 ...\n",
      " $ RS          : int  691 818 729 687 772 777 798 735 897 923 ...\n",
      " $ RA          : int  730 677 643 829 745 701 795 850 821 906 ...\n",
      " $ W           : int  75 92 88 63 82 88 83 66 91 73 ...\n",
      " $ OBP         : num  0.327 0.341 0.324 0.319 0.334 0.336 0.334 0.324 0.35 0.354 ...\n",
      " $ SLG         : num  0.405 0.442 0.412 0.38 0.439 0.43 0.451 0.419 0.458 0.483 ...\n",
      " $ BA          : num  0.261 0.267 0.26 0.248 0.266 0.261 0.268 0.262 0.278 0.292 ...\n",
      " $ Playoffs    : int  0 1 1 0 0 0 0 0 1 0 ...\n",
      " $ RankSeason  : int  NA 5 7 NA NA NA NA NA 6 NA ...\n",
      " $ RankPlayoffs: int  NA 1 3 NA NA NA NA NA 4 NA ...\n",
      " $ G           : int  162 162 162 162 161 162 162 162 162 162 ...\n",
      " $ OOBP        : num  0.331 0.311 0.314 0.337 0.329 0.321 0.334 0.341 0.341 0.35 ...\n",
      " $ OSLG        : num  0.412 0.404 0.384 0.439 0.393 0.398 0.427 0.455 0.417 0.48 ...\n",
      " $ rd          : int  -39 141 86 -142 27 76 3 -115 76 17 ...\n"
     ]
    },
    {
     "data": {
      "text/plain": [
       "\n",
       "Call:\n",
       "lm(formula = W ~ rd, data = baseball_till_2002)\n",
       "\n",
       "Residuals:\n",
       "     Min       1Q   Median       3Q      Max \n",
       "-14.2662  -2.6509   0.1234   2.9364  11.6570 \n",
       "\n",
       "Coefficients:\n",
       "             Estimate Std. Error t value Pr(>|t|)    \n",
       "(Intercept) 80.881375   0.131157  616.67   <2e-16 ***\n",
       "rd           0.105766   0.001297   81.55   <2e-16 ***\n",
       "---\n",
       "Signif. codes:  0 ‘***’ 0.001 ‘**’ 0.01 ‘*’ 0.05 ‘.’ 0.1 ‘ ’ 1\n",
       "\n",
       "Residual standard error: 3.939 on 900 degrees of freedom\n",
       "Multiple R-squared:  0.8808,\tAdjusted R-squared:  0.8807 \n",
       "F-statistic:  6651 on 1 and 900 DF,  p-value: < 2.2e-16\n"
      ]
     },
     "metadata": {},
     "output_type": "display_data"
    }
   ],
   "source": [
    "#construct a linear regression model to show relationship between Wins and \n",
    "#run difference (rd) for each team calculated as the (RS - RA)\n",
    "\n",
    "\n",
    "baseball_till_2002 = subset(baseball, baseball$Year < 2002)\n",
    "baseball_till_2002$rd = - baseball_till_2002$RA + baseball_till_2002$RS\n",
    "str(baseball_till_2002)\n",
    "# plot(baseball_till_2002$rd, baseball_till_2002$W)\n",
    "# scatter.smooth(baseball_till_2002$rd, baseball_till_2002$W)\n",
    "\n",
    "# the following linear model signifies that there is strong linear relationship between \n",
    "# run difference and the wins associated with the game.\n",
    "linear_model = lm(W ~ rd , data=baseball_till_2002)\n",
    "summary(linear_model)"
   ]
  },
  {
   "cell_type": "code",
   "execution_count": 3,
   "metadata": {},
   "outputs": [
    {
     "data": {
      "text/html": [
       "<strong>1:</strong> 91.3521713453207"
      ],
      "text/latex": [
       "\\textbf{1:} 91.3521713453207"
      ],
      "text/markdown": [
       "**1:** 91.3521713453207"
      ],
      "text/plain": [
       "       1 \n",
       "91.35217 "
      ]
     },
     "metadata": {},
     "output_type": "display_data"
    },
    {
     "data": {
      "text/plain": [
       "   Min. 1st Qu.  Median    Mean 3rd Qu.    Max. \n",
       "  91.35   91.35   91.35   91.35   91.35   91.35 "
      ]
     },
     "metadata": {},
     "output_type": "display_data"
    },
    {
     "name": "stdout",
     "output_type": "stream",
     "text": [
      " Named num 91.4\n",
      " - attr(*, \"names\")= chr \"1\"\n"
     ]
    }
   ],
   "source": [
    "# solution to quick question\n",
    "# using the linear model derived above to predict new val\n",
    "\n",
    "prediction = predict(linear_model, newdata=data.frame(rd=c(713-614)))\n",
    "prediction\n",
    "\n",
    "summary(prediction)\n",
    "str(prediction)"
   ]
  },
  {
   "cell_type": "code",
   "execution_count": 6,
   "metadata": {},
   "outputs": [
    {
     "data": {
      "text/plain": [
       "\n",
       "Call:\n",
       "lm(formula = RS ~ OBP + SLG, data = baseball_till_2002)\n",
       "\n",
       "Residuals:\n",
       "    Min      1Q  Median      3Q     Max \n",
       "-70.838 -17.174  -1.108  16.770  90.036 \n",
       "\n",
       "Coefficients:\n",
       "            Estimate Std. Error t value Pr(>|t|)    \n",
       "(Intercept)  -804.63      18.92  -42.53   <2e-16 ***\n",
       "OBP          2737.77      90.68   30.19   <2e-16 ***\n",
       "SLG          1584.91      42.16   37.60   <2e-16 ***\n",
       "---\n",
       "Signif. codes:  0 ‘***’ 0.001 ‘**’ 0.01 ‘*’ 0.05 ‘.’ 0.1 ‘ ’ 1\n",
       "\n",
       "Residual standard error: 24.79 on 899 degrees of freedom\n",
       "Multiple R-squared:  0.9296,\tAdjusted R-squared:  0.9294 \n",
       "F-statistic:  5934 on 2 and 899 DF,  p-value: < 2.2e-16\n"
      ]
     },
     "metadata": {},
     "output_type": "display_data"
    }
   ],
   "source": [
    "# predicting Wins using OBP(on Board Percentage) SLG (Sluggish Percentage) and comparing it with BA (Batting Avg)\n",
    "\n",
    "linear_model_obp_slg = lm(RS ~ OBP + SLG, data=baseball_till_2002)\n",
    "linear_model_ba      = lm(RS ~ BA, data=baseball_till_2002)\n",
    "\n",
    "\n",
    "linear_model_oobp_oslg = lm(RA ~ OOBP + OSLG, data=baseball_till_2002)\n",
    "summary(linear_model_obp_slg)\n",
    "# summary(linear_model_ba)"
   ]
  },
  {
   "cell_type": "code",
   "execution_count": 5,
   "metadata": {},
   "outputs": [
    {
     "data": {
      "text/html": [
       "<strong>1:</strong> 688.7067790756"
      ],
      "text/latex": [
       "\\textbf{1:} 688.7067790756"
      ],
      "text/markdown": [
       "**1:** 688.7067790756"
      ],
      "text/plain": [
       "       1 \n",
       "688.7068 "
      ]
     },
     "metadata": {},
     "output_type": "display_data"
    },
    {
     "data": {
      "text/html": [
       "<strong>1:</strong> 588.246963287913"
      ],
      "text/latex": [
       "\\textbf{1:} 588.246963287913"
      ],
      "text/markdown": [
       "**1:** 588.246963287913"
      ],
      "text/plain": [
       "      1 \n",
       "588.247 "
      ]
     },
     "metadata": {},
     "output_type": "display_data"
    }
   ],
   "source": [
    "#solution to quick question \n",
    "# prediction of values based on above model\n",
    "\n",
    "\n",
    "input_data1 = data.frame(OBP=c(0.311), SLG=c(0.405))\n",
    "input_data2 = data.frame(OOBP=c(0.297), OSLG=c(0.370))\n",
    "\n",
    "prediction_rs = predict(linear_model_obp_slg, newdata=input_data1)\n",
    "prediction_ors = predict(linear_model_oobp_oslg, newdata=input_data2)\n",
    "prediction_rs\n",
    "prediction_ors"
   ]
  },
  {
   "cell_type": "code",
   "execution_count": 13,
   "metadata": {},
   "outputs": [
    {
     "data": {
      "text/plain": [
       "\n",
       "Call:\n",
       "lm(formula = salary ~ obp + slg, data = table_values)\n",
       "\n",
       "Residuals:\n",
       "      1       2       3       4       5 \n",
       " 281878  361754  -86308   76645 -633969 \n",
       "\n",
       "Coefficients:\n",
       "            Estimate Std. Error t value Pr(>|t|)\n",
       "(Intercept) -1092030    4571993  -0.239    0.833\n",
       "obp          -425467    9752244  -0.044    0.969\n",
       "slg          4359186    4665176   0.934    0.449\n",
       "\n",
       "Residual standard error: 559300 on 2 degrees of freedom\n",
       "Multiple R-squared:  0.3283,\tAdjusted R-squared:  -0.3434 \n",
       "F-statistic: 0.4888 on 2 and 2 DF,  p-value: 0.6717\n"
      ]
     },
     "metadata": {},
     "output_type": "display_data"
    }
   ],
   "source": [
    "# quick question (using additional constraint, Money!!! to select best possible players)\n",
    "\n",
    "obp_values = c(0.338, 0.391, 0.369, 0.313, 0.361)\n",
    "slg_values = c(0.54,  0.45,  0.374, 0.447, 0.500)\n",
    "salary_values = c(1400000, 1065000, 295000, 800000, 300000)\n",
    "\n",
    "table_values = data.frame(obp= obp_values, slg=slg_values, salary= salary_values)\n",
    "\n",
    "constraint =1500000\n",
    "model_money_constraint = lm(salary ~ obp + slg, data=table_values)\n",
    "\n",
    "summary(model_money_constraint)\n",
    "\n",
    "# plot(model_money_constraint)"
   ]
  },
  {
   "cell_type": "code",
   "execution_count": 36,
   "metadata": {},
   "outputs": [
    {
     "data": {
      "text/html": [
       "-0.938781362244978"
      ],
      "text/latex": [
       "-0.938781362244978"
      ],
      "text/markdown": [
       "-0.938781362244978"
      ],
      "text/plain": [
       "[1] -0.9387814"
      ]
     },
     "metadata": {},
     "output_type": "display_data"
    }
   ],
   "source": [
    "#solution to quick question \n",
    "\n",
    "teamRank = c(1,2,3,3,4,4,4,4,5,5)\n",
    "data_2012 = subset(baseball, baseball$Year == 2012)\n",
    "\n",
    "data_2012 = data_2012[order(data_2012$W,decreasing = TRUE),]\n",
    "\n",
    "cor_2012 = cor(data_2012$W[1:10], teamRank)\n",
    "\n",
    "cor_2012\n",
    "\n"
   ]
  }
 ],
 "metadata": {
  "kernelspec": {
   "display_name": "R",
   "language": "R",
   "name": "ir"
  },
  "language_info": {
   "codemirror_mode": "r",
   "file_extension": ".r",
   "mimetype": "text/x-r-source",
   "name": "R",
   "pygments_lexer": "r",
   "version": "3.2.3"
  }
 },
 "nbformat": 4,
 "nbformat_minor": 2
}
