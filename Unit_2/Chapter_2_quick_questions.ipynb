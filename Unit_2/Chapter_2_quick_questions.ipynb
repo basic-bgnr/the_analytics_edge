{
 "cells": [
  {
   "cell_type": "markdown",
   "metadata": {},
   "source": [
    "#### Studying Analytics (Edx Course)\n",
    "___\n",
    "\n",
    "__Date Started:__  \n",
    "__Nov 6, 2018__  \n",
    "\n",
    "__Introduction:__  \n",
    "__The course is intended as an introductory tool for data Analysis using R Programming language__  \n",
    "__Unit : 2__  \n",
    "\n",
    "\n",
    "__Content__:\n",
    "* Linear Regression"
   ]
  },
  {
   "cell_type": "code",
   "execution_count": 1,
   "metadata": {},
   "outputs": [
    {
     "name": "stdout",
     "output_type": "stream",
     "text": [
      "'data.frame':\t25 obs. of  7 variables:\n",
      " $ Year       : int  1952 1953 1955 1957 1958 1959 1960 1961 1962 1963 ...\n",
      " $ Price      : num  7.5 8.04 7.69 6.98 6.78 ...\n",
      " $ WinterRain : int  600 690 502 420 582 485 763 830 697 608 ...\n",
      " $ AGST       : num  17.1 16.7 17.1 16.1 16.4 ...\n",
      " $ HarvestRain: int  160 80 130 110 187 187 290 38 52 155 ...\n",
      " $ Age        : int  31 30 28 26 25 24 23 22 21 20 ...\n",
      " $ FrancePop  : num  43184 43495 44218 45152 45654 ...\n"
     ]
    },
    {
     "data": {
      "text/plain": [
       "      Year          Price         WinterRain         AGST        HarvestRain   \n",
       " Min.   :1952   Min.   :6.205   Min.   :376.0   Min.   :14.98   Min.   : 38.0  \n",
       " 1st Qu.:1960   1st Qu.:6.519   1st Qu.:536.0   1st Qu.:16.20   1st Qu.: 89.0  \n",
       " Median :1966   Median :7.121   Median :600.0   Median :16.53   Median :130.0  \n",
       " Mean   :1966   Mean   :7.067   Mean   :605.3   Mean   :16.51   Mean   :148.6  \n",
       " 3rd Qu.:1972   3rd Qu.:7.495   3rd Qu.:697.0   3rd Qu.:17.07   3rd Qu.:187.0  \n",
       " Max.   :1978   Max.   :8.494   Max.   :830.0   Max.   :17.65   Max.   :292.0  \n",
       "      Age         FrancePop    \n",
       " Min.   : 5.0   Min.   :43184  \n",
       " 1st Qu.:11.0   1st Qu.:46584  \n",
       " Median :17.0   Median :50255  \n",
       " Mean   :17.2   Mean   :49694  \n",
       " 3rd Qu.:23.0   3rd Qu.:52894  \n",
       " Max.   :31.0   Max.   :54602  "
      ]
     },
     "metadata": {},
     "output_type": "display_data"
    }
   ],
   "source": [
    "#loads up the wine csv and displays the structure of the file.\n",
    "\n",
    "wine = read.csv('wine.csv')\n",
    "wine_test = read.csv('wine_test.csv')\n",
    "\n",
    "\n",
    "str(wine)\n",
    "summary(wine)"
   ]
  },
  {
   "cell_type": "code",
   "execution_count": 2,
   "metadata": {},
   "outputs": [
    {
     "data": {
      "text/plain": [
       "\n",
       "Call:\n",
       "lm(formula = Price ~ AGST, data = wine)\n",
       "\n",
       "Residuals:\n",
       "     Min       1Q   Median       3Q      Max \n",
       "-0.78450 -0.23882 -0.03727  0.38992  0.90318 \n",
       "\n",
       "Coefficients:\n",
       "            Estimate Std. Error t value Pr(>|t|)    \n",
       "(Intercept)  -3.4178     2.4935  -1.371 0.183710    \n",
       "AGST          0.6351     0.1509   4.208 0.000335 ***\n",
       "---\n",
       "Signif. codes:  0 ‘***’ 0.001 ‘**’ 0.01 ‘*’ 0.05 ‘.’ 0.1 ‘ ’ 1\n",
       "\n",
       "Residual standard error: 0.4993 on 23 degrees of freedom\n",
       "Multiple R-squared:  0.435,\tAdjusted R-squared:  0.4105 \n",
       "F-statistic: 17.71 on 1 and 23 DF,  p-value: 0.000335\n"
      ]
     },
     "metadata": {},
     "output_type": "display_data"
    },
    {
     "name": "stdout",
     "output_type": "stream",
     "text": [
      "[1] \"The sum of square is \"\n",
      "[1] 5.734875\n"
     ]
    }
   ],
   "source": [
    "# regression analysis of single dependent and single independent variable\n",
    "model1 = lm(Price ~ AGST, data = wine)\n",
    "\n",
    "summary(model1)\n",
    "\n",
    "#calculate the sum of square \n",
    "\n",
    "sse = sum(model1$residuals^2)\n",
    "\n",
    "print('The sum of square is ' )\n",
    "\n",
    "print(sse)"
   ]
  },
  {
   "cell_type": "code",
   "execution_count": 3,
   "metadata": {},
   "outputs": [
    {
     "data": {
      "text/plain": [
       "\n",
       "Call:\n",
       "lm(formula = Price ~ AGST + HarvestRain, data = wine)\n",
       "\n",
       "Residuals:\n",
       "     Min       1Q   Median       3Q      Max \n",
       "-0.88321 -0.19600  0.06178  0.15379  0.59722 \n",
       "\n",
       "Coefficients:\n",
       "            Estimate Std. Error t value Pr(>|t|)    \n",
       "(Intercept) -2.20265    1.85443  -1.188 0.247585    \n",
       "AGST         0.60262    0.11128   5.415 1.94e-05 ***\n",
       "HarvestRain -0.00457    0.00101  -4.525 0.000167 ***\n",
       "---\n",
       "Signif. codes:  0 ‘***’ 0.001 ‘**’ 0.01 ‘*’ 0.05 ‘.’ 0.1 ‘ ’ 1\n",
       "\n",
       "Residual standard error: 0.3674 on 22 degrees of freedom\n",
       "Multiple R-squared:  0.7074,\tAdjusted R-squared:  0.6808 \n",
       "F-statistic: 26.59 on 2 and 22 DF,  p-value: 1.347e-06\n"
      ]
     },
     "metadata": {},
     "output_type": "display_data"
    },
    {
     "data": {
      "text/html": [
       "2.97037334017354"
      ],
      "text/latex": [
       "2.97037334017354"
      ],
      "text/markdown": [
       "2.97037334017354"
      ],
      "text/plain": [
       "[1] 2.970373"
      ]
     },
     "metadata": {},
     "output_type": "display_data"
    }
   ],
   "source": [
    "# linear regression between 2 dependent and 1 independent variable\n",
    "\n",
    "model2 = lm(Price ~ AGST + HarvestRain, data=wine)\n",
    "\n",
    "summary(model2)\n",
    "\n",
    "sse2 = sum(model2$residuals^2)\n",
    "\n",
    "sse2"
   ]
  },
  {
   "cell_type": "code",
   "execution_count": 4,
   "metadata": {},
   "outputs": [
    {
     "data": {
      "text/plain": [
       "\n",
       "Call:\n",
       "lm(formula = Price ~ HarvestRain + WinterRain, data = wine)\n",
       "\n",
       "Residuals:\n",
       "    Min      1Q  Median      3Q     Max \n",
       "-1.0933 -0.3222 -0.1012  0.3871  1.1877 \n",
       "\n",
       "Coefficients:\n",
       "              Estimate Std. Error t value Pr(>|t|)    \n",
       "(Intercept)  7.865e+00  6.616e-01  11.888 4.76e-11 ***\n",
       "HarvestRain -4.971e-03  1.601e-03  -3.105  0.00516 ** \n",
       "WinterRain  -9.848e-05  9.007e-04  -0.109  0.91392    \n",
       "---\n",
       "Signif. codes:  0 ‘***’ 0.001 ‘**’ 0.01 ‘*’ 0.05 ‘.’ 0.1 ‘ ’ 1\n",
       "\n",
       "Residual standard error: 0.5611 on 22 degrees of freedom\n",
       "Multiple R-squared:  0.3177,\tAdjusted R-squared:  0.2557 \n",
       "F-statistic: 5.122 on 2 and 22 DF,  p-value: 0.01492\n"
      ]
     },
     "metadata": {},
     "output_type": "display_data"
    },
    {
     "data": {
      "text/html": [
       "6.92575608658694"
      ],
      "text/latex": [
       "6.92575608658694"
      ],
      "text/markdown": [
       "6.92575608658694"
      ],
      "text/plain": [
       "[1] 6.925756"
      ]
     },
     "metadata": {},
     "output_type": "display_data"
    }
   ],
   "source": [
    "# solution to quick question \n",
    "\n",
    "# relation of price to harvestrain and winterrain\n",
    "\n",
    "model3 = lm(Price ~ HarvestRain + WinterRain, data=wine)\n",
    "summary(model3)\n",
    "\n",
    "sse3 = sum(model3$residuals^2)\n",
    "\n",
    "sse3"
   ]
  },
  {
   "cell_type": "code",
   "execution_count": 5,
   "metadata": {},
   "outputs": [
    {
     "data": {
      "text/plain": [
       "\n",
       "Call:\n",
       "lm(formula = Price ~ HarvestRain + AGST + WinterRain + Age, data = wine)\n",
       "\n",
       "Residuals:\n",
       "     Min       1Q   Median       3Q      Max \n",
       "-0.45470 -0.24273  0.00752  0.19773  0.53637 \n",
       "\n",
       "Coefficients:\n",
       "              Estimate Std. Error t value Pr(>|t|)    \n",
       "(Intercept) -3.4299802  1.7658975  -1.942 0.066311 .  \n",
       "HarvestRain -0.0039715  0.0008538  -4.652 0.000154 ***\n",
       "AGST         0.6072093  0.0987022   6.152  5.2e-06 ***\n",
       "WinterRain   0.0010755  0.0005073   2.120 0.046694 *  \n",
       "Age          0.0239308  0.0080969   2.956 0.007819 ** \n",
       "---\n",
       "Signif. codes:  0 ‘***’ 0.001 ‘**’ 0.01 ‘*’ 0.05 ‘.’ 0.1 ‘ ’ 1\n",
       "\n",
       "Residual standard error: 0.295 on 20 degrees of freedom\n",
       "Multiple R-squared:  0.8286,\tAdjusted R-squared:  0.7943 \n",
       "F-statistic: 24.17 on 4 and 20 DF,  p-value: 2.036e-07\n"
      ]
     },
     "metadata": {},
     "output_type": "display_data"
    }
   ],
   "source": [
    "# solution to quick questions (using all variables to calcualte the price of wine)\n",
    "\n",
    "model4 = lm(Price ~ HarvestRain + WinterRain + AGST + Year + Age + FrancePop, data=wine)\n",
    "\n",
    "#summary(model4)\n",
    "\n",
    "sse4 = sum(model4$residuals^2)\n",
    "\n",
    "#sse4\n",
    "\n",
    "\n",
    "model5 = lm(formula = Price ~ HarvestRain + AGST + WinterRain + Age, data=wine)\n",
    "summary(model5)"
   ]
  },
  {
   "cell_type": "code",
   "execution_count": 6,
   "metadata": {},
   "outputs": [
    {
     "data": {
      "text/plain": [
       "\n",
       "Call:\n",
       "lm(formula = Price ~ HarvestRain + WinterRain, data = wine)\n",
       "\n",
       "Residuals:\n",
       "    Min      1Q  Median      3Q     Max \n",
       "-1.0933 -0.3222 -0.1012  0.3871  1.1877 \n",
       "\n",
       "Coefficients:\n",
       "              Estimate Std. Error t value Pr(>|t|)    \n",
       "(Intercept)  7.865e+00  6.616e-01  11.888 4.76e-11 ***\n",
       "HarvestRain -4.971e-03  1.601e-03  -3.105  0.00516 ** \n",
       "WinterRain  -9.848e-05  9.007e-04  -0.109  0.91392    \n",
       "---\n",
       "Signif. codes:  0 ‘***’ 0.001 ‘**’ 0.01 ‘*’ 0.05 ‘.’ 0.1 ‘ ’ 1\n",
       "\n",
       "Residual standard error: 0.5611 on 22 degrees of freedom\n",
       "Multiple R-squared:  0.3177,\tAdjusted R-squared:  0.2557 \n",
       "F-statistic: 5.122 on 2 and 22 DF,  p-value: 0.01492\n"
      ]
     },
     "metadata": {},
     "output_type": "display_data"
    }
   ],
   "source": [
    "# solution to quick questions \n",
    "\n",
    "model_6 = lm(Price ~ HarvestRain + WinterRain, data=wine)\n",
    "summary(model_6)"
   ]
  },
  {
   "cell_type": "code",
   "execution_count": 11,
   "metadata": {},
   "outputs": [
    {
     "data": {
      "text/html": [
       "0.13665054738763"
      ],
      "text/latex": [
       "0.13665054738763"
      ],
      "text/markdown": [
       "0.13665054738763"
      ],
      "text/plain": [
       "[1] 0.1366505"
      ]
     },
     "metadata": {},
     "output_type": "display_data"
    },
    {
     "data": {
      "text/html": [
       "-0.994485097111455"
      ],
      "text/latex": [
       "-0.994485097111455"
      ],
      "text/markdown": [
       "-0.994485097111455"
      ],
      "text/plain": [
       "[1] -0.9944851"
      ]
     },
     "metadata": {},
     "output_type": "display_data"
    },
    {
     "data": {
      "text/html": [
       "<table>\n",
       "<thead><tr><th></th><th scope=col>Year</th><th scope=col>Price</th><th scope=col>WinterRain</th><th scope=col>AGST</th><th scope=col>HarvestRain</th><th scope=col>Age</th><th scope=col>FrancePop</th></tr></thead>\n",
       "<tbody>\n",
       "\t<tr><th scope=row>Year</th><td> 1.00000000 </td><td>-0.4477679  </td><td> 0.016970024</td><td>-0.24691585 </td><td> 0.02800907 </td><td>-1.00000000 </td><td> 0.994485097</td></tr>\n",
       "\t<tr><th scope=row>Price</th><td>-0.44776786 </td><td> 1.0000000  </td><td> 0.136650547</td><td> 0.65956286 </td><td>-0.56332190 </td><td> 0.44776786 </td><td>-0.466861641</td></tr>\n",
       "\t<tr><th scope=row>WinterRain</th><td> 0.01697002 </td><td> 0.1366505  </td><td> 1.000000000</td><td>-0.32109061 </td><td>-0.27544085 </td><td>-0.01697002 </td><td>-0.001621627</td></tr>\n",
       "\t<tr><th scope=row>AGST</th><td>-0.24691585 </td><td> 0.6595629  </td><td>-0.321090611</td><td> 1.00000000 </td><td>-0.06449593 </td><td> 0.24691585 </td><td>-0.259162274</td></tr>\n",
       "\t<tr><th scope=row>HarvestRain</th><td> 0.02800907 </td><td>-0.5633219  </td><td>-0.275440854</td><td>-0.06449593 </td><td> 1.00000000 </td><td>-0.02800907 </td><td> 0.041264394</td></tr>\n",
       "\t<tr><th scope=row>Age</th><td>-1.00000000 </td><td> 0.4477679  </td><td>-0.016970024</td><td> 0.24691585 </td><td>-0.02800907 </td><td> 1.00000000 </td><td>-0.994485097</td></tr>\n",
       "\t<tr><th scope=row>FrancePop</th><td> 0.99448510 </td><td>-0.4668616  </td><td>-0.001621627</td><td>-0.25916227 </td><td> 0.04126439 </td><td>-0.99448510 </td><td> 1.000000000</td></tr>\n",
       "</tbody>\n",
       "</table>\n"
      ],
      "text/latex": [
       "\\begin{tabular}{r|lllllll}\n",
       "  & Year & Price & WinterRain & AGST & HarvestRain & Age & FrancePop\\\\\n",
       "\\hline\n",
       "\tYear &  1.00000000  & -0.4477679   &  0.016970024 & -0.24691585  &  0.02800907  & -1.00000000  &  0.994485097\\\\\n",
       "\tPrice & -0.44776786  &  1.0000000   &  0.136650547 &  0.65956286  & -0.56332190  &  0.44776786  & -0.466861641\\\\\n",
       "\tWinterRain &  0.01697002  &  0.1366505   &  1.000000000 & -0.32109061  & -0.27544085  & -0.01697002  & -0.001621627\\\\\n",
       "\tAGST & -0.24691585  &  0.6595629   & -0.321090611 &  1.00000000  & -0.06449593  &  0.24691585  & -0.259162274\\\\\n",
       "\tHarvestRain &  0.02800907  & -0.5633219   & -0.275440854 & -0.06449593  &  1.00000000  & -0.02800907  &  0.041264394\\\\\n",
       "\tAge & -1.00000000  &  0.4477679   & -0.016970024 &  0.24691585  & -0.02800907  &  1.00000000  & -0.994485097\\\\\n",
       "\tFrancePop &  0.99448510  & -0.4668616   & -0.001621627 & -0.25916227  &  0.04126439  & -0.99448510  &  1.000000000\\\\\n",
       "\\end{tabular}\n"
      ],
      "text/markdown": [
       "\n",
       "| <!--/--> | Year | Price | WinterRain | AGST | HarvestRain | Age | FrancePop | \n",
       "|---|---|---|---|---|---|---|\n",
       "| Year |  1.00000000  | -0.4477679   |  0.016970024 | -0.24691585  |  0.02800907  | -1.00000000  |  0.994485097 | \n",
       "| Price | -0.44776786  |  1.0000000   |  0.136650547 |  0.65956286  | -0.56332190  |  0.44776786  | -0.466861641 | \n",
       "| WinterRain |  0.01697002  |  0.1366505   |  1.000000000 | -0.32109061  | -0.27544085  | -0.01697002  | -0.001621627 | \n",
       "| AGST | -0.24691585  |  0.6595629   | -0.321090611 |  1.00000000  | -0.06449593  |  0.24691585  | -0.259162274 | \n",
       "| HarvestRain |  0.02800907  | -0.5633219   | -0.275440854 | -0.06449593  |  1.00000000  | -0.02800907  |  0.041264394 | \n",
       "| Age | -1.00000000  |  0.4477679   | -0.016970024 |  0.24691585  | -0.02800907  |  1.00000000  | -0.994485097 | \n",
       "| FrancePop |  0.99448510  | -0.4668616   | -0.001621627 | -0.25916227  |  0.04126439  | -0.99448510  |  1.000000000 | \n",
       "\n",
       "\n"
      ],
      "text/plain": [
       "            Year        Price      WinterRain   AGST        HarvestRain\n",
       "Year         1.00000000 -0.4477679  0.016970024 -0.24691585  0.02800907\n",
       "Price       -0.44776786  1.0000000  0.136650547  0.65956286 -0.56332190\n",
       "WinterRain   0.01697002  0.1366505  1.000000000 -0.32109061 -0.27544085\n",
       "AGST        -0.24691585  0.6595629 -0.321090611  1.00000000 -0.06449593\n",
       "HarvestRain  0.02800907 -0.5633219 -0.275440854 -0.06449593  1.00000000\n",
       "Age         -1.00000000  0.4477679 -0.016970024  0.24691585 -0.02800907\n",
       "FrancePop    0.99448510 -0.4668616 -0.001621627 -0.25916227  0.04126439\n",
       "            Age         FrancePop   \n",
       "Year        -1.00000000  0.994485097\n",
       "Price        0.44776786 -0.466861641\n",
       "WinterRain  -0.01697002 -0.001621627\n",
       "AGST         0.24691585 -0.259162274\n",
       "HarvestRain -0.02800907  0.041264394\n",
       "Age          1.00000000 -0.994485097\n",
       "FrancePop   -0.99448510  1.000000000"
      ]
     },
     "metadata": {},
     "output_type": "display_data"
    }
   ],
   "source": [
    "# calculation coreleation between winterrain and price \n",
    "\n",
    "\n",
    "cor_winterrain_price = cor(wine$WinterRain, wine$Price)\n",
    "cor_winterrain_price\n",
    "\n",
    "cor_wineage_population = cor(wine$Age, wine$FrancePop)\n",
    "\n",
    "cor_wineage_population\n",
    "\n",
    "# for the entire sets of data\n",
    "\n",
    "cor(wine)"
   ]
  },
  {
   "cell_type": "code",
   "execution_count": 26,
   "metadata": {},
   "outputs": [
    {
     "data": {
      "text/html": [
       "<table>\n",
       "<thead><tr><th scope=col>Year</th><th scope=col>Price</th><th scope=col>WinterRain</th><th scope=col>AGST</th><th scope=col>HarvestRain</th><th scope=col>Age</th><th scope=col>FrancePop</th></tr></thead>\n",
       "<tbody>\n",
       "\t<tr><td>1979    </td><td>6.9541  </td><td>717     </td><td>16.1667 </td><td>122     </td><td>4       </td><td>54835.83</td></tr>\n",
       "\t<tr><td>1980    </td><td>6.4979  </td><td>578     </td><td>16.0000 </td><td> 74     </td><td>3       </td><td>55110.24</td></tr>\n",
       "</tbody>\n",
       "</table>\n"
      ],
      "text/latex": [
       "\\begin{tabular}{r|lllllll}\n",
       " Year & Price & WinterRain & AGST & HarvestRain & Age & FrancePop\\\\\n",
       "\\hline\n",
       "\t 1979     & 6.9541   & 717      & 16.1667  & 122      & 4        & 54835.83\\\\\n",
       "\t 1980     & 6.4979   & 578      & 16.0000  &  74      & 3        & 55110.24\\\\\n",
       "\\end{tabular}\n"
      ],
      "text/markdown": [
       "\n",
       "Year | Price | WinterRain | AGST | HarvestRain | Age | FrancePop | \n",
       "|---|---|\n",
       "| 1979     | 6.9541   | 717      | 16.1667  | 122      | 4        | 54835.83 | \n",
       "| 1980     | 6.4979   | 578      | 16.0000  |  74      | 3        | 55110.24 | \n",
       "\n",
       "\n"
      ],
      "text/plain": [
       "  Year Price  WinterRain AGST    HarvestRain Age FrancePop\n",
       "1 1979 6.9541 717        16.1667 122         4   54835.83 \n",
       "2 1980 6.4979 578        16.0000  74         3   55110.24 "
      ]
     },
     "metadata": {},
     "output_type": "display_data"
    },
    {
     "data": {
      "text/html": [
       "-0.0819994766738095"
      ],
      "text/latex": [
       "-0.0819994766738095"
      ],
      "text/markdown": [
       "-0.0819994766738095"
      ],
      "text/plain": [
       "[1] -0.08199948"
      ]
     },
     "metadata": {},
     "output_type": "display_data"
    }
   ],
   "source": [
    "# video 7 \n",
    "wine_test\n",
    "model_wine_test = lm(Price ~ AGST + HarvestRain, data=wine)\n",
    "prediction = predict(model_wine_test, newdata=wine_test)\n",
    "\n",
    "sum_of_sqr_error = sum((wine_test$Price - prediction)^2)\n",
    "total_sum_of_sqr = sum((wine_test$Price - mean(wine$Price))^2)\n",
    "\n",
    "1 - sum_of_sqr_error/total_sum_of_sqr"
   ]
  }
 ],
 "metadata": {
  "kernelspec": {
   "display_name": "R",
   "language": "R",
   "name": "ir"
  },
  "language_info": {
   "codemirror_mode": "r",
   "file_extension": ".r",
   "mimetype": "text/x-r-source",
   "name": "R",
   "pygments_lexer": "r",
   "version": "3.2.3"
  }
 },
 "nbformat": 4,
 "nbformat_minor": 2
}
