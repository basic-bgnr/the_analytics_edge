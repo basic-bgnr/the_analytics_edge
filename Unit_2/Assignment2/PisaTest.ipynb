{
 "cells": [
  {
   "cell_type": "markdown",
   "metadata": {},
   "source": [
    "#### Studying Analytics (Edx Course)\n",
    "___\n",
    "\n",
    "__Date Started:__  \n",
    "__Nov 22, 2018__  \n",
    "\n",
    "__Introduction:__  \n",
    "__The course is intended as an introductory tool for data Analysis using R Programming language__  \n",
    "__Unit : 2__  (Assignment no 2)\n",
    "\n",
    "\n",
    "__Content__:\n",
    "* Linear Regression testing weather data to determine the reading habit of american students(Programme for International Student Assessment (PISA).  \n",
    "\n",
    "\n",
    "__links:__  \n",
    "* PISA : http://nces.ed.gov/pubsearch/pubsinfo.asp?pubid=2011038  \n",
    "* United States National Center for Education Statistics (NCES): https://prod-edxapp.edx-cdn.org/assets/courseware/v1/8522b75c7463c923fb96ae274fdf8213/asset-v1:MITx+15.071x+3T2018+type@asset+block/NCES_Data_Use_Agreement.txt"
   ]
  },
  {
   "cell_type": "code",
   "execution_count": 86,
   "metadata": {},
   "outputs": [],
   "source": [
    "pisa_train = read.csv('pisa2009train.csv')\n",
    "pisa_test  = read.csv('pisa2009test.csv')"
   ]
  },
  {
   "cell_type": "code",
   "execution_count": 87,
   "metadata": {},
   "outputs": [
    {
     "data": {
      "text/html": [
       "<table>\n",
       "<thead><tr><th scope=col>grade</th><th scope=col>male</th><th scope=col>raceeth</th><th scope=col>preschool</th><th scope=col>expectBachelors</th><th scope=col>motherHS</th><th scope=col>motherBachelors</th><th scope=col>motherWork</th><th scope=col>fatherHS</th><th scope=col>fatherBachelors</th><th scope=col>⋯</th><th scope=col>englishAtHome</th><th scope=col>computerForSchoolwork</th><th scope=col>read30MinsADay</th><th scope=col>minutesPerWeekEnglish</th><th scope=col>studentsInEnglish</th><th scope=col>schoolHasLibrary</th><th scope=col>publicSchool</th><th scope=col>urban</th><th scope=col>schoolSize</th><th scope=col>readingScore</th></tr></thead>\n",
       "<tbody>\n",
       "\t<tr><td>11 </td><td>1  </td><td>NA </td><td>NA </td><td>0  </td><td>NA </td><td>NA </td><td>1  </td><td>NA </td><td>NA </td><td>⋯  </td><td>0  </td><td>1  </td><td>0  </td><td>225</td><td>NA </td><td>1  </td><td>1  </td><td>1  </td><td>673</td><td>476</td></tr>\n",
       "</tbody>\n",
       "</table>\n"
      ],
      "text/latex": [
       "\\begin{tabular}{r|llllllllllllllllllllllll}\n",
       " grade & male & raceeth & preschool & expectBachelors & motherHS & motherBachelors & motherWork & fatherHS & fatherBachelors & ⋯ & englishAtHome & computerForSchoolwork & read30MinsADay & minutesPerWeekEnglish & studentsInEnglish & schoolHasLibrary & publicSchool & urban & schoolSize & readingScore\\\\\n",
       "\\hline\n",
       "\t 11  & 1   & NA  & NA  & 0   & NA  & NA  & 1   & NA  & NA  & ⋯   & 0   & 1   & 0   & 225 & NA  & 1   & 1   & 1   & 673 & 476\\\\\n",
       "\\end{tabular}\n"
      ],
      "text/markdown": [
       "\n",
       "grade | male | raceeth | preschool | expectBachelors | motherHS | motherBachelors | motherWork | fatherHS | fatherBachelors | ⋯ | englishAtHome | computerForSchoolwork | read30MinsADay | minutesPerWeekEnglish | studentsInEnglish | schoolHasLibrary | publicSchool | urban | schoolSize | readingScore | \n",
       "|---|\n",
       "| 11  | 1   | NA  | NA  | 0   | NA  | NA  | 1   | NA  | NA  | ⋯   | 0   | 1   | 0   | 225 | NA  | 1   | 1   | 1   | 673 | 476 | \n",
       "\n",
       "\n"
      ],
      "text/plain": [
       "  grade male raceeth preschool expectBachelors motherHS motherBachelors\n",
       "1 11    1    NA      NA        0               NA       NA             \n",
       "  motherWork fatherHS fatherBachelors ⋯ englishAtHome computerForSchoolwork\n",
       "1 1          NA       NA              ⋯ 0             1                    \n",
       "  read30MinsADay minutesPerWeekEnglish studentsInEnglish schoolHasLibrary\n",
       "1 0              225                   NA                1               \n",
       "  publicSchool urban schoolSize readingScore\n",
       "1 1            1     673        476         "
      ]
     },
     "metadata": {},
     "output_type": "display_data"
    }
   ],
   "source": [
    "# str(pisa_train)\n",
    "# str(pisa_test)\n",
    "\n",
    "pisa_train[1, ]"
   ]
  },
  {
   "cell_type": "code",
   "execution_count": 88,
   "metadata": {},
   "outputs": [],
   "source": [
    "# finding the average reading scores of male\n",
    "\n",
    "# tapply(pisa_train$readingScore, pisa_train$male, mean)"
   ]
  },
  {
   "cell_type": "code",
   "execution_count": 89,
   "metadata": {},
   "outputs": [
    {
     "data": {
      "text/plain": [
       "     grade            male                      raceeth       preschool     \n",
       " Min.   : 8.00   Min.   :0.0000   White             :2015   Min.   :0.0000  \n",
       " 1st Qu.:10.00   1st Qu.:0.0000   Hispanic          : 834   1st Qu.:0.0000  \n",
       " Median :10.00   Median :1.0000   Black             : 444   Median :1.0000  \n",
       " Mean   :10.09   Mean   :0.5111   Asian             : 143   Mean   :0.7228  \n",
       " 3rd Qu.:10.00   3rd Qu.:1.0000   More than one race: 124   3rd Qu.:1.0000  \n",
       " Max.   :12.00   Max.   :1.0000   (Other)           :  68   Max.   :1.0000  \n",
       "                                  NA's              :  35   NA's   :56      \n",
       " expectBachelors     motherHS    motherBachelors    motherWork    \n",
       " Min.   :0.0000   Min.   :0.00   Min.   :0.0000   Min.   :0.0000  \n",
       " 1st Qu.:1.0000   1st Qu.:1.00   1st Qu.:0.0000   1st Qu.:0.0000  \n",
       " Median :1.0000   Median :1.00   Median :0.0000   Median :1.0000  \n",
       " Mean   :0.7859   Mean   :0.88   Mean   :0.3481   Mean   :0.7345  \n",
       " 3rd Qu.:1.0000   3rd Qu.:1.00   3rd Qu.:1.0000   3rd Qu.:1.0000  \n",
       " Max.   :1.0000   Max.   :1.00   Max.   :1.0000   Max.   :1.0000  \n",
       " NA's   :62       NA's   :97     NA's   :397      NA's   :93      \n",
       "    fatherHS      fatherBachelors    fatherWork       selfBornUS    \n",
       " Min.   :0.0000   Min.   :0.0000   Min.   :0.0000   Min.   :0.0000  \n",
       " 1st Qu.:1.0000   1st Qu.:0.0000   1st Qu.:1.0000   1st Qu.:1.0000  \n",
       " Median :1.0000   Median :0.0000   Median :1.0000   Median :1.0000  \n",
       " Mean   :0.8593   Mean   :0.3319   Mean   :0.8531   Mean   :0.9313  \n",
       " 3rd Qu.:1.0000   3rd Qu.:1.0000   3rd Qu.:1.0000   3rd Qu.:1.0000  \n",
       " Max.   :1.0000   Max.   :1.0000   Max.   :1.0000   Max.   :1.0000  \n",
       " NA's   :245      NA's   :569      NA's   :233      NA's   :69      \n",
       "  motherBornUS     fatherBornUS    englishAtHome    computerForSchoolwork\n",
       " Min.   :0.0000   Min.   :0.0000   Min.   :0.0000   Min.   :0.0000       \n",
       " 1st Qu.:1.0000   1st Qu.:1.0000   1st Qu.:1.0000   1st Qu.:1.0000       \n",
       " Median :1.0000   Median :1.0000   Median :1.0000   Median :1.0000       \n",
       " Mean   :0.7725   Mean   :0.7668   Mean   :0.8717   Mean   :0.8994       \n",
       " 3rd Qu.:1.0000   3rd Qu.:1.0000   3rd Qu.:1.0000   3rd Qu.:1.0000       \n",
       " Max.   :1.0000   Max.   :1.0000   Max.   :1.0000   Max.   :1.0000       \n",
       " NA's   :71       NA's   :113      NA's   :71       NA's   :65           \n",
       " read30MinsADay   minutesPerWeekEnglish studentsInEnglish schoolHasLibrary\n",
       " Min.   :0.0000   Min.   :   0.0        Min.   : 1.0      Min.   :0.0000  \n",
       " 1st Qu.:0.0000   1st Qu.: 225.0        1st Qu.:20.0      1st Qu.:1.0000  \n",
       " Median :0.0000   Median : 250.0        Median :25.0      Median :1.0000  \n",
       " Mean   :0.2899   Mean   : 266.2        Mean   :24.5      Mean   :0.9676  \n",
       " 3rd Qu.:1.0000   3rd Qu.: 300.0        3rd Qu.:30.0      3rd Qu.:1.0000  \n",
       " Max.   :1.0000   Max.   :2400.0        Max.   :75.0      Max.   :1.0000  \n",
       " NA's   :34       NA's   :186           NA's   :249       NA's   :143     \n",
       "  publicSchool        urban          schoolSize    readingScore  \n",
       " Min.   :0.0000   Min.   :0.0000   Min.   : 100   Min.   :168.6  \n",
       " 1st Qu.:1.0000   1st Qu.:0.0000   1st Qu.: 712   1st Qu.:431.7  \n",
       " Median :1.0000   Median :0.0000   Median :1212   Median :499.7  \n",
       " Mean   :0.9339   Mean   :0.3849   Mean   :1369   Mean   :497.9  \n",
       " 3rd Qu.:1.0000   3rd Qu.:1.0000   3rd Qu.:1900   3rd Qu.:566.2  \n",
       " Max.   :1.0000   Max.   :1.0000   Max.   :6694   Max.   :746.0  \n",
       "                                   NA's   :162                   "
      ]
     },
     "metadata": {},
     "output_type": "display_data"
    }
   ],
   "source": [
    "summary(pisa_train)"
   ]
  },
  {
   "cell_type": "code",
   "execution_count": 90,
   "metadata": {},
   "outputs": [],
   "source": [
    "# using filtered data (removing na from the dataset)\n",
    "pisa_train = na.omit(pisa_train)\n",
    "pisa_test  = na.omit(pisa_test)\n",
    "\n",
    "# str(pisa_train)\n",
    "# str(pisa_test)"
   ]
  },
  {
   "cell_type": "code",
   "execution_count": 91,
   "metadata": {},
   "outputs": [],
   "source": [
    "# important (regression model using non numeric value can be included in calculation by )\n",
    "# introducing new \"Binay variable\" corresponding to each unique value of the variable\n",
    "# creating every binary variable for each \"raceeth\", except the base level\n",
    "# \n",
    "# unique(sort(pisa_test$raceeth, decreasing=TRUE))\n",
    "pisa_train$EthNativeHawaiian = pisa_train$raceeth == \"Native Hawaiian/Other Pacific Islander\"\n",
    "pisa_train$EthMore           = pisa_train$raceeth == 'More than one race'\n",
    "pisa_train$EthHispanic       = pisa_train$raceeth == 'Hispanic'\n",
    "pisa_train$EthBlack          = pisa_train$raceeth == 'Black'\n",
    "pisa_train$EthAsian          = pisa_train$raceeth == 'Asian'\n",
    "pisa_train$EthAmericanInd    = pisa_train$raceeth == 'American Indian/Alaska Native'\n",
    "\n",
    "\n",
    "pisa_test$EthNativeHawaiian = pisa_test$raceeth == \"Native Hawaiian/Other Pacific Islander\"\n",
    "pisa_test$EthMore           = pisa_test$raceeth == 'More than one race'\n",
    "pisa_test$EthHispanic       = pisa_test$raceeth == 'Hispanic'\n",
    "pisa_test$EthBlack          = pisa_test$raceeth == 'Black'\n",
    "pisa_test$EthAsian          = pisa_test$raceeth == 'Asian'\n",
    "pisa_test$EthAmericanInd    = pisa_test$raceeth == 'American Indian/Alaska Native'\n",
    "\n",
    "# pisa_test[1,]"
   ]
  },
  {
   "cell_type": "code",
   "execution_count": 92,
   "metadata": {},
   "outputs": [],
   "source": [
    "# releveling data in R \n",
    "# pisa_test$raceeth = relevel(pisa_test$raceeth, \"White\")\n",
    "# pisa_train$raceeth = relevel(pisa_train$raceeth, \"White\")"
   ]
  },
  {
   "cell_type": "code",
   "execution_count": 93,
   "metadata": {},
   "outputs": [],
   "source": [
    "\n",
    "relevelled_train_model = lm(readingScore ~ ., data=pisa_train)\n",
    "relevelled_test_model  = lm(readingScore ~ ., data=pisa_test)\n",
    "\n",
    "# summary(relevelled_train_model)\n",
    "# summary(relevelled_test_model)\n",
    "\n",
    "# R2 = 0.3285"
   ]
  },
  {
   "cell_type": "code",
   "execution_count": 94,
   "metadata": {},
   "outputs": [
    {
     "data": {
      "text/html": [
       "73.3655514329845"
      ],
      "text/latex": [
       "73.3655514329845"
      ],
      "text/markdown": [
       "73.3655514329845"
      ],
      "text/plain": [
       "[1] 73.36555"
      ]
     },
     "metadata": {},
     "output_type": "display_data"
    }
   ],
   "source": [
    "# calculating root mean square of the training set \n",
    "# method of calculating residuals explicitly \n",
    "prediction = predict(relevelled_train_model, pisa_train)\n",
    "# prediction\n",
    "rms_error = sqrt(\n",
    "                 mean(\n",
    "                     (prediction - pisa_train$readingScore)^2\n",
    "                    )\n",
    "               )\n",
    "rms_error\n"
   ]
  },
  {
   "cell_type": "code",
   "execution_count": 97,
   "metadata": {},
   "outputs": [
    {
     "data": {
      "text/html": [
       "<table>\n",
       "<thead><tr><th></th><th scope=col>grade</th><th scope=col>male</th><th scope=col>raceeth</th><th scope=col>preschool</th><th scope=col>expectBachelors</th><th scope=col>motherHS</th><th scope=col>motherBachelors</th><th scope=col>motherWork</th><th scope=col>fatherHS</th><th scope=col>fatherBachelors</th><th scope=col>⋯</th><th scope=col>englishAtHome</th><th scope=col>computerForSchoolwork</th><th scope=col>read30MinsADay</th><th scope=col>minutesPerWeekEnglish</th><th scope=col>studentsInEnglish</th><th scope=col>schoolHasLibrary</th><th scope=col>publicSchool</th><th scope=col>urban</th><th scope=col>schoolSize</th><th scope=col>readingScore</th></tr></thead>\n",
       "<tbody>\n",
       "\t<tr><th scope=row>2</th><td>11    </td><td>1     </td><td>White </td><td>0     </td><td>0     </td><td>1     </td><td>1     </td><td>1     </td><td>1     </td><td>0     </td><td>⋯     </td><td>1     </td><td>1     </td><td>1     </td><td>450   </td><td>25    </td><td>1     </td><td>1     </td><td>0     </td><td>1173  </td><td>575.01</td></tr>\n",
       "</tbody>\n",
       "</table>\n"
      ],
      "text/latex": [
       "\\begin{tabular}{r|llllllllllllllllllllllll}\n",
       "  & grade & male & raceeth & preschool & expectBachelors & motherHS & motherBachelors & motherWork & fatherHS & fatherBachelors & ⋯ & englishAtHome & computerForSchoolwork & read30MinsADay & minutesPerWeekEnglish & studentsInEnglish & schoolHasLibrary & publicSchool & urban & schoolSize & readingScore\\\\\n",
       "\\hline\n",
       "\t2 & 11     & 1      & White  & 0      & 0      & 1      & 1      & 1      & 1      & 0      & ⋯      & 1      & 1      & 1      & 450    & 25     & 1      & 1      & 0      & 1173   & 575.01\\\\\n",
       "\\end{tabular}\n"
      ],
      "text/markdown": [
       "\n",
       "| <!--/--> | grade | male | raceeth | preschool | expectBachelors | motherHS | motherBachelors | motherWork | fatherHS | fatherBachelors | ⋯ | englishAtHome | computerForSchoolwork | read30MinsADay | minutesPerWeekEnglish | studentsInEnglish | schoolHasLibrary | publicSchool | urban | schoolSize | readingScore | \n",
       "|---|\n",
       "| 2 | 11     | 1      | White  | 0      | 0      | 1      | 1      | 1      | 1      | 0      | ⋯      | 1      | 1      | 1      | 450    | 25     | 1      | 1      | 0      | 1173   | 575.01 | \n",
       "\n",
       "\n"
      ],
      "text/plain": [
       "  grade male raceeth preschool expectBachelors motherHS motherBachelors\n",
       "2 11    1    White   0         0               1        1              \n",
       "  motherWork fatherHS fatherBachelors ⋯ englishAtHome computerForSchoolwork\n",
       "2 1          1        0               ⋯ 1             1                    \n",
       "  read30MinsADay minutesPerWeekEnglish studentsInEnglish schoolHasLibrary\n",
       "2 1              450                   25                1               \n",
       "  publicSchool urban schoolSize readingScore\n",
       "2 1            0     1173       575.01      "
      ]
     },
     "metadata": {},
     "output_type": "display_data"
    },
    {
     "data": {
      "text/plain": [
       "\n",
       "Call:\n",
       "lm(formula = readingScore ~ ., data = pisa_train)\n",
       "\n",
       "Residuals:\n",
       "    Min      1Q  Median      3Q     Max \n",
       "-247.44  -48.86    1.86   49.77  217.18 \n",
       "\n",
       "Coefficients:\n",
       "                                                Estimate Std. Error t value\n",
       "(Intercept)                                    76.489006  37.302678   2.050\n",
       "grade                                          29.542707   2.937399  10.057\n",
       "male                                          -14.521653   3.155926  -4.601\n",
       "raceethAsian                                   63.167002  18.972648   3.329\n",
       "raceethBlack                                    0.264980  17.369507   0.015\n",
       "raceethHispanic                                28.301842  17.258860   1.640\n",
       "raceethMore than one race                      50.354805  18.570123   2.712\n",
       "raceethNative Hawaiian/Other Pacific Islander  62.175726  23.782766   2.614\n",
       "raceethWhite                                   67.277327  16.786935   4.008\n",
       "preschool                                      -4.463670   3.486055  -1.280\n",
       "expectBachelors                                55.267080   4.293893  12.871\n",
       "motherHS                                        6.058774   6.091423   0.995\n",
       "motherBachelors                                12.638068   3.861457   3.273\n",
       "motherWork                                     -2.809101   3.521827  -0.798\n",
       "fatherHS                                        4.018214   5.579269   0.720\n",
       "fatherBachelors                                16.929755   3.995253   4.237\n",
       "fatherWork                                      5.842798   4.395978   1.329\n",
       "selfBornUS                                     -3.806278   7.323718  -0.520\n",
       "motherBornUS                                   -8.798153   6.587621  -1.336\n",
       "fatherBornUS                                    4.306994   6.263875   0.688\n",
       "englishAtHome                                   8.035685   6.859492   1.171\n",
       "computerForSchoolwork                          22.500232   5.702562   3.946\n",
       "read30MinsADay                                 34.871924   3.408447  10.231\n",
       "minutesPerWeekEnglish                           0.012788   0.010712   1.194\n",
       "studentsInEnglish                              -0.286631   0.227819  -1.258\n",
       "schoolHasLibrary                               12.215085   9.264884   1.318\n",
       "publicSchool                                  -16.857475   6.725614  -2.506\n",
       "urban                                          -0.110132   3.962724  -0.028\n",
       "schoolSize                                      0.006540   0.002197   2.977\n",
       "                                              Pr(>|t|)    \n",
       "(Intercept)                                   0.040425 *  \n",
       "grade                                          < 2e-16 ***\n",
       "male                                          4.42e-06 ***\n",
       "raceethAsian                                  0.000884 ***\n",
       "raceethBlack                                  0.987830    \n",
       "raceethHispanic                               0.101169    \n",
       "raceethMore than one race                     0.006744 ** \n",
       "raceethNative Hawaiian/Other Pacific Islander 0.008997 ** \n",
       "raceethWhite                                  6.32e-05 ***\n",
       "preschool                                     0.200516    \n",
       "expectBachelors                                < 2e-16 ***\n",
       "motherHS                                      0.320012    \n",
       "motherBachelors                               0.001080 ** \n",
       "motherWork                                    0.425167    \n",
       "fatherHS                                      0.471470    \n",
       "fatherBachelors                               2.35e-05 ***\n",
       "fatherWork                                    0.183934    \n",
       "selfBornUS                                    0.603307    \n",
       "motherBornUS                                  0.181821    \n",
       "fatherBornUS                                  0.491776    \n",
       "englishAtHome                                 0.241527    \n",
       "computerForSchoolwork                         8.19e-05 ***\n",
       "read30MinsADay                                 < 2e-16 ***\n",
       "minutesPerWeekEnglish                         0.232644    \n",
       "studentsInEnglish                             0.208460    \n",
       "schoolHasLibrary                              0.187487    \n",
       "publicSchool                                  0.012261 *  \n",
       "urban                                         0.977830    \n",
       "schoolSize                                    0.002942 ** \n",
       "---\n",
       "Signif. codes:  0 ‘***’ 0.001 ‘**’ 0.01 ‘*’ 0.05 ‘.’ 0.1 ‘ ’ 1\n",
       "\n",
       "Residual standard error: 73.81 on 2385 degrees of freedom\n",
       "Multiple R-squared:  0.3251,\tAdjusted R-squared:  0.3172 \n",
       "F-statistic: 41.04 on 28 and 2385 DF,  p-value: < 2.2e-16\n"
      ]
     },
     "metadata": {},
     "output_type": "display_data"
    }
   ],
   "source": [
    "pisa_train[1, ]\n",
    "summary(relevelled_train_model)"
   ]
  },
  {
   "cell_type": "code",
   "execution_count": 102,
   "metadata": {},
   "outputs": [
    {
     "data": {
      "text/html": [
       "284.468311795139"
      ],
      "text/latex": [
       "284.468311795139"
      ],
      "text/markdown": [
       "284.468311795139"
      ],
      "text/plain": [
       "[1] 284.4683"
      ]
     },
     "metadata": {},
     "output_type": "display_data"
    },
    {
     "data": {
      "text/html": [
       "<pre class=language-r><code>.Primitive(\"range\")</code></pre>"
      ],
      "text/latex": [
       "\\begin{minted}{r}\n",
       ".Primitive(\"range\")\n",
       "\\end{minted}"
      ],
      "text/markdown": [
       "```r\n",
       ".Primitive(\"range\")\n",
       "```"
      ],
      "text/plain": [
       "function (..., na.rm = FALSE)  .Primitive(\"range\")"
      ]
     },
     "metadata": {},
     "output_type": "display_data"
    }
   ],
   "source": [
    "# prediction test \n",
    "\n",
    "# new function : \"range\" : returns the max and min values from a vector\n",
    "\n",
    "\n",
    "predict = predict(relevelled_train_model, newdata=pisa_test)\n",
    "min_max = range(predict)\n",
    "min_max[2] - min_max[1]\n",
    "\n",
    "range"
   ]
  },
  {
   "cell_type": "code",
   "execution_count": 106,
   "metadata": {},
   "outputs": [
    {
     "data": {
      "text/html": [
       "5762082.37114441"
      ],
      "text/latex": [
       "5762082.37114441"
      ],
      "text/markdown": [
       "5762082.37114441"
      ],
      "text/plain": [
       "[1] 5762082"
      ]
     },
     "metadata": {},
     "output_type": "display_data"
    },
    {
     "data": {
      "text/html": [
       "76.2907938310921"
      ],
      "text/latex": [
       "76.2907938310921"
      ],
      "text/markdown": [
       "76.2907938310921"
      ],
      "text/plain": [
       "[1] 76.29079"
      ]
     },
     "metadata": {},
     "output_type": "display_data"
    }
   ],
   "source": [
    "# testing set  SSE\n",
    "\n",
    "# pred = predict(relevelled_train_model, newdata=pisa_test)\n",
    "err = pisa_test$readingScore - predict\n",
    "sse = sum ( (err) ^ 2)\n",
    "sse\n",
    "\n",
    "rmse = sqrt( \n",
    "            mean(err^2)\n",
    "            )\n",
    "\n",
    "rmse"
   ]
  },
  {
   "cell_type": "code",
   "execution_count": 108,
   "metadata": {},
   "outputs": [
    {
     "data": {
      "text/html": [
       "0.26115545096876"
      ],
      "text/latex": [
       "0.26115545096876"
      ],
      "text/markdown": [
       "0.26115545096876"
      ],
      "text/plain": [
       "[1] 0.2611555"
      ]
     },
     "metadata": {},
     "output_type": "display_data"
    }
   ],
   "source": [
    "# predicted score in the baseline model\n",
    "\n",
    "# test set R2 value\n",
    "\n",
    "\n",
    "sse = sum ( (predict - pisa_test$readingScore)^ 2)\n",
    "sst = sum ( (pisa_test$readingScore - mean(pisa_test$readingScore))^ 2)\n",
    "\n",
    "r2 = 1 - sse/sst\n",
    "\n",
    "r2"
   ]
  }
 ],
 "metadata": {
  "kernelspec": {
   "display_name": "R",
   "language": "R",
   "name": "ir"
  },
  "language_info": {
   "codemirror_mode": "r",
   "file_extension": ".r",
   "mimetype": "text/x-r-source",
   "name": "R",
   "pygments_lexer": "r",
   "version": "3.2.3"
  }
 },
 "nbformat": 4,
 "nbformat_minor": 2
}
