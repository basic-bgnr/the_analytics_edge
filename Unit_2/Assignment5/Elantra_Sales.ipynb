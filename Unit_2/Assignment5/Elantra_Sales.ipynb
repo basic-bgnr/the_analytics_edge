{
 "cells": [
  {
   "cell_type": "markdown",
   "metadata": {},
   "source": [
    "#### Studying Analytics (Edx Course)\n",
    "___\n",
    "\n",
    "__Date Started:__  \n",
    "__Nov 23, 2018__  \n",
    "\n",
    "__Introduction:__  \n",
    "__The course is intended as an introductory tool for data Analysis using R Programming language__  \n",
    "__Unit : 2__  (Assignment no 4)\n",
    "\n",
    "\n",
    "__Content__:  \n",
    "* In this problem, we will be examining the \"sales\" dataset of Elantra sedans, we will try to predict monthly sales of the Hyundai Elantra in the United States. The Hyundai Motor Company is a major automobile manufacturer based in South Korea. The Elantra is a car model that has been produced by Hyundai since 1990 and is sold all over the world, including the United States. We will build a linear regression model to predict monthly sales using economic indicators of the United States as well as Google search queries.\n",
    "\n",
    " * Month = the month of the year for the observation (1 = January, 2 = February, 3 = March, ...).\n",
    " * Year = the year of the observation.\n",
    " * ElantraSales = the number of units of the Hyundai Elantra sold in the United States in the given month.\n",
    " * Unemployment = the estimated unemployment percentage in the United States in the given month.\n",
    " * Queries = a (normalized) approximation of the number of Google searches for \"hyundai elantra\" in the given month.\n",
    " * CPI_energy = the monthly consumer price index (CPI) for energy for the given month.\n",
    " * CPI_all = the consumer price index (CPI) for all products for the given month; this is a measure of the magnitude of the prices paid by consumer households for goods and services (e.g., food, clothing, electricity, etc.).\n",
    "\n",
    "\n",
    "__links:__  \n",
    "* NA"
   ]
  },
  {
   "cell_type": "code",
   "execution_count": 18,
   "metadata": {},
   "outputs": [],
   "source": [
    "# loading the dataset\n",
    "\n",
    "elantra_sales = read.csv('elantra.csv')"
   ]
  },
  {
   "cell_type": "code",
   "execution_count": 19,
   "metadata": {},
   "outputs": [
    {
     "name": "stdout",
     "output_type": "stream",
     "text": [
      "'data.frame':\t50 obs. of  7 variables:\n",
      " $ Month       : int  1 1 1 1 1 2 2 2 2 2 ...\n",
      " $ Year        : int  2010 2011 2012 2013 2014 2010 2011 2012 2013 2014 ...\n",
      " $ ElantraSales: int  7690 9659 10900 12174 15326 7966 12289 13820 16219 16393 ...\n",
      " $ Unemployment: num  9.7 9.1 8.2 7.9 6.6 9.8 9 8.3 7.7 6.7 ...\n",
      " $ Queries     : int  153 259 354 230 232 130 266 296 239 240 ...\n",
      " $ CPI_energy  : num  213 229 244 243 248 ...\n",
      " $ CPI_all     : num  217 221 228 231 235 ...\n"
     ]
    },
    {
     "data": {
      "text/html": [
       "<table>\n",
       "<thead><tr><th scope=col>Month</th><th scope=col>Year</th><th scope=col>ElantraSales</th><th scope=col>Unemployment</th><th scope=col>Queries</th><th scope=col>CPI_energy</th><th scope=col>CPI_all</th></tr></thead>\n",
       "<tbody>\n",
       "\t<tr><td>1      </td><td>2010   </td><td> 7690  </td><td>9.7    </td><td>153    </td><td>213.377</td><td>217.466</td></tr>\n",
       "\t<tr><td>1      </td><td>2011   </td><td> 9659  </td><td>9.1    </td><td>259    </td><td>229.353</td><td>221.082</td></tr>\n",
       "\t<tr><td>1      </td><td>2012   </td><td>10900  </td><td>8.2    </td><td>354    </td><td>244.178</td><td>227.666</td></tr>\n",
       "\t<tr><td>1      </td><td>2013   </td><td>12174  </td><td>7.9    </td><td>230    </td><td>242.560</td><td>231.321</td></tr>\n",
       "\t<tr><td>1      </td><td>2014   </td><td>15326  </td><td>6.6    </td><td>232    </td><td>247.575</td><td>234.933</td></tr>\n",
       "\t<tr><td>2      </td><td>2010   </td><td> 7966  </td><td>9.8    </td><td>130    </td><td>209.924</td><td>217.251</td></tr>\n",
       "\t<tr><td>2      </td><td>2011   </td><td>12289  </td><td>9.0    </td><td>266    </td><td>232.188</td><td>221.816</td></tr>\n",
       "\t<tr><td>2      </td><td>2012   </td><td>13820  </td><td>8.3    </td><td>296    </td><td>247.615</td><td>228.138</td></tr>\n",
       "\t<tr><td>2      </td><td>2013   </td><td>16219  </td><td>7.7    </td><td>239    </td><td>252.639</td><td>232.599</td></tr>\n",
       "\t<tr><td>2      </td><td>2014   </td><td>16393  </td><td>6.7    </td><td>240    </td><td>246.389</td><td>235.169</td></tr>\n",
       "</tbody>\n",
       "</table>\n"
      ],
      "text/latex": [
       "\\begin{tabular}{r|lllllll}\n",
       " Month & Year & ElantraSales & Unemployment & Queries & CPI\\_energy & CPI\\_all\\\\\n",
       "\\hline\n",
       "\t 1       & 2010    &  7690   & 9.7     & 153     & 213.377 & 217.466\\\\\n",
       "\t 1       & 2011    &  9659   & 9.1     & 259     & 229.353 & 221.082\\\\\n",
       "\t 1       & 2012    & 10900   & 8.2     & 354     & 244.178 & 227.666\\\\\n",
       "\t 1       & 2013    & 12174   & 7.9     & 230     & 242.560 & 231.321\\\\\n",
       "\t 1       & 2014    & 15326   & 6.6     & 232     & 247.575 & 234.933\\\\\n",
       "\t 2       & 2010    &  7966   & 9.8     & 130     & 209.924 & 217.251\\\\\n",
       "\t 2       & 2011    & 12289   & 9.0     & 266     & 232.188 & 221.816\\\\\n",
       "\t 2       & 2012    & 13820   & 8.3     & 296     & 247.615 & 228.138\\\\\n",
       "\t 2       & 2013    & 16219   & 7.7     & 239     & 252.639 & 232.599\\\\\n",
       "\t 2       & 2014    & 16393   & 6.7     & 240     & 246.389 & 235.169\\\\\n",
       "\\end{tabular}\n"
      ],
      "text/markdown": [
       "\n",
       "Month | Year | ElantraSales | Unemployment | Queries | CPI_energy | CPI_all | \n",
       "|---|---|---|---|---|---|---|---|---|---|\n",
       "| 1       | 2010    |  7690   | 9.7     | 153     | 213.377 | 217.466 | \n",
       "| 1       | 2011    |  9659   | 9.1     | 259     | 229.353 | 221.082 | \n",
       "| 1       | 2012    | 10900   | 8.2     | 354     | 244.178 | 227.666 | \n",
       "| 1       | 2013    | 12174   | 7.9     | 230     | 242.560 | 231.321 | \n",
       "| 1       | 2014    | 15326   | 6.6     | 232     | 247.575 | 234.933 | \n",
       "| 2       | 2010    |  7966   | 9.8     | 130     | 209.924 | 217.251 | \n",
       "| 2       | 2011    | 12289   | 9.0     | 266     | 232.188 | 221.816 | \n",
       "| 2       | 2012    | 13820   | 8.3     | 296     | 247.615 | 228.138 | \n",
       "| 2       | 2013    | 16219   | 7.7     | 239     | 252.639 | 232.599 | \n",
       "| 2       | 2014    | 16393   | 6.7     | 240     | 246.389 | 235.169 | \n",
       "\n",
       "\n"
      ],
      "text/plain": [
       "   Month Year ElantraSales Unemployment Queries CPI_energy CPI_all\n",
       "1  1     2010  7690        9.7          153     213.377    217.466\n",
       "2  1     2011  9659        9.1          259     229.353    221.082\n",
       "3  1     2012 10900        8.2          354     244.178    227.666\n",
       "4  1     2013 12174        7.9          230     242.560    231.321\n",
       "5  1     2014 15326        6.6          232     247.575    234.933\n",
       "6  2     2010  7966        9.8          130     209.924    217.251\n",
       "7  2     2011 12289        9.0          266     232.188    221.816\n",
       "8  2     2012 13820        8.3          296     247.615    228.138\n",
       "9  2     2013 16219        7.7          239     252.639    232.599\n",
       "10 2     2014 16393        6.7          240     246.389    235.169"
      ]
     },
     "metadata": {},
     "output_type": "display_data"
    }
   ],
   "source": [
    "# Displays the structure of the dataset and displays the first 10 entries to the dataset.\n",
    "str(elantra_sales)\n",
    "elantra_sales[1:10, ]"
   ]
  },
  {
   "cell_type": "code",
   "execution_count": 20,
   "metadata": {},
   "outputs": [
    {
     "name": "stdout",
     "output_type": "stream",
     "text": [
      "'data.frame':\t36 obs. of  7 variables:\n",
      " $ Month       : int  1 1 1 2 2 2 3 3 3 4 ...\n",
      " $ Year        : int  2010 2011 2012 2010 2011 2012 2010 2011 2012 2010 ...\n",
      " $ ElantraSales: int  7690 9659 10900 7966 12289 13820 8225 19255 19681 9657 ...\n",
      " $ Unemployment: num  9.7 9.1 8.2 9.8 9 8.3 9.9 9 8.2 9.9 ...\n",
      " $ Queries     : int  153 259 354 130 266 296 138 281 303 132 ...\n",
      " $ CPI_energy  : num  213 229 244 210 232 ...\n",
      " $ CPI_all     : num  217 221 228 217 222 ...\n",
      "'data.frame':\t14 obs. of  7 variables:\n",
      " $ Month       : int  1 1 2 2 3 4 5 6 7 8 ...\n",
      " $ Year        : int  2013 2014 2013 2014 2013 2013 2013 2013 2013 2013 ...\n",
      " $ ElantraSales: int  12174 15326 16219 16393 26153 24445 25090 22163 23958 24700 ...\n",
      " $ Unemployment: num  7.9 6.6 7.7 6.7 7.5 7.5 7.5 7.5 7.3 7.2 ...\n",
      " $ Queries     : int  230 232 239 240 313 248 252 320 274 271 ...\n",
      " $ CPI_energy  : num  243 248 253 246 245 ...\n",
      " $ CPI_all     : num  231 235 233 235 232 ...\n"
     ]
    }
   ],
   "source": [
    "# create test sets and train sets from existing data\n",
    "train_set = subset(elantra_sales, elantra_sales$Year <= 2012)\n",
    "test_set = subset(elantra_sales, elantra_sales$Year > 2012)\n",
    "\n",
    "str(train_set)\n",
    "str(test_set)"
   ]
  },
  {
   "cell_type": "code",
   "execution_count": 21,
   "metadata": {},
   "outputs": [
    {
     "data": {
      "text/plain": [
       "\n",
       "Call:\n",
       "lm(formula = ElantraSales ~ Unemployment + Queries + CPI_energy + \n",
       "    CPI_all, data = train_set)\n",
       "\n",
       "Residuals:\n",
       "    Min      1Q  Median      3Q     Max \n",
       "-6785.2 -2101.8  -562.5  2901.7  7021.0 \n",
       "\n",
       "Coefficients:\n",
       "              Estimate Std. Error t value Pr(>|t|)\n",
       "(Intercept)   95385.36  170663.81   0.559    0.580\n",
       "Unemployment  -3179.90    3610.26  -0.881    0.385\n",
       "Queries          19.03      11.26   1.690    0.101\n",
       "CPI_energy       38.51     109.60   0.351    0.728\n",
       "CPI_all        -297.65     704.84  -0.422    0.676\n",
       "\n",
       "Residual standard error: 3295 on 31 degrees of freedom\n",
       "Multiple R-squared:  0.4282,\tAdjusted R-squared:  0.3544 \n",
       "F-statistic: 5.803 on 4 and 31 DF,  p-value: 0.00132\n"
      ]
     },
     "metadata": {},
     "output_type": "display_data"
    }
   ],
   "source": [
    "reg_model_1 = lm( ElantraSales ~ Unemployment + Queries + CPI_energy + CPI_all , data = train_set)\n",
    "summary(reg_model_1)"
   ]
  },
  {
   "cell_type": "code",
   "execution_count": 22,
   "metadata": {},
   "outputs": [
    {
     "data": {
      "text/plain": [
       "\n",
       "Call:\n",
       "lm(formula = ElantraSales ~ Month + Unemployment + Queries + \n",
       "    CPI_energy + CPI_all, data = train_set)\n",
       "\n",
       "Residuals:\n",
       "    Min      1Q  Median      3Q     Max \n",
       "-6416.6 -2068.7  -597.1  2616.3  7183.2 \n",
       "\n",
       "Coefficients:\n",
       "              Estimate Std. Error t value Pr(>|t|)  \n",
       "(Intercept)  148330.49  195373.51   0.759   0.4536  \n",
       "Month           110.69     191.66   0.578   0.5679  \n",
       "Unemployment  -4137.28    4008.56  -1.032   0.3103  \n",
       "Queries          21.19      11.98   1.769   0.0871 .\n",
       "CPI_energy       54.18     114.08   0.475   0.6382  \n",
       "CPI_all        -517.99     808.26  -0.641   0.5265  \n",
       "---\n",
       "Signif. codes:  0 ‘***’ 0.001 ‘**’ 0.01 ‘*’ 0.05 ‘.’ 0.1 ‘ ’ 1\n",
       "\n",
       "Residual standard error: 3331 on 30 degrees of freedom\n",
       "Multiple R-squared:  0.4344,\tAdjusted R-squared:  0.3402 \n",
       "F-statistic: 4.609 on 5 and 30 DF,  p-value: 0.003078\n"
      ]
     },
     "metadata": {},
     "output_type": "display_data"
    }
   ],
   "source": [
    "reg_model_2 = lm( ElantraSales ~ Month + Unemployment + Queries + CPI_energy + CPI_all , data = train_set)\n",
    "summary(reg_model_2)"
   ]
  },
  {
   "cell_type": "code",
   "execution_count": 24,
   "metadata": {},
   "outputs": [
    {
     "data": {
      "text/plain": [
       "\n",
       "Call:\n",
       "lm(formula = ElantraSales ~ Months_factor + Unemployment + Queries + \n",
       "    CPI_energy + CPI_all, data = train_set)\n",
       "\n",
       "Residuals:\n",
       "    Min      1Q  Median      3Q     Max \n",
       "-3865.1 -1211.7   -77.1  1207.5  3562.2 \n",
       "\n",
       "Coefficients:\n",
       "                  Estimate Std. Error t value Pr(>|t|)    \n",
       "(Intercept)     312509.280 144061.867   2.169 0.042288 *  \n",
       "Months_factor2    2254.998   1943.249   1.160 0.259540    \n",
       "Months_factor3    6696.557   1991.635   3.362 0.003099 ** \n",
       "Months_factor4    7556.607   2038.022   3.708 0.001392 ** \n",
       "Months_factor5    7420.249   1950.139   3.805 0.001110 ** \n",
       "Months_factor6    9215.833   1995.230   4.619 0.000166 ***\n",
       "Months_factor7    9929.464   2238.800   4.435 0.000254 ***\n",
       "Months_factor8    7939.447   2064.629   3.845 0.001010 ** \n",
       "Months_factor9    5013.287   2010.745   2.493 0.021542 *  \n",
       "Months_factor10   2500.184   2084.057   1.200 0.244286    \n",
       "Months_factor11   3238.932   2397.231   1.351 0.191747    \n",
       "Months_factor12   5293.911   2228.310   2.376 0.027621 *  \n",
       "Unemployment     -7739.381   2968.747  -2.607 0.016871 *  \n",
       "Queries             -4.764     12.938  -0.368 0.716598    \n",
       "CPI_energy         288.631     97.974   2.946 0.007988 ** \n",
       "CPI_all          -1343.307    592.919  -2.266 0.034732 *  \n",
       "---\n",
       "Signif. codes:  0 ‘***’ 0.001 ‘**’ 0.01 ‘*’ 0.05 ‘.’ 0.1 ‘ ’ 1\n",
       "\n",
       "Residual standard error: 2306 on 20 degrees of freedom\n",
       "Multiple R-squared:  0.8193,\tAdjusted R-squared:  0.6837 \n",
       "F-statistic: 6.044 on 15 and 20 DF,  p-value: 0.0001469\n"
      ]
     },
     "metadata": {},
     "output_type": "display_data"
    }
   ],
   "source": [
    "# data correction, correcting months data as factor\n",
    "\n",
    "train_set$Months_factor = as.factor(train_set$Month)\n",
    "test_set$Months_factor  = as.factor(test_set$Month)\n",
    "# corrected model\n",
    "reg_model_3 = lm( ElantraSales ~ Months_factor + Unemployment + Queries + CPI_energy + CPI_all , data = train_set)\n",
    "summary(reg_model_3)"
   ]
  },
  {
   "cell_type": "code",
   "execution_count": 28,
   "metadata": {},
   "outputs": [
    {
     "data": {
      "text/html": [
       "0.176019820659522"
      ],
      "text/latex": [
       "0.176019820659522"
      ],
      "text/markdown": [
       "0.176019820659522"
      ],
      "text/plain": [
       "[1] 0.1760198"
      ]
     },
     "metadata": {},
     "output_type": "display_data"
    },
    {
     "data": {
      "text/html": [
       "-0.800718807452179"
      ],
      "text/latex": [
       "-0.800718807452179"
      ],
      "text/markdown": [
       "-0.800718807452179"
      ],
      "text/plain": [
       "[1] -0.8007188"
      ]
     },
     "metadata": {},
     "output_type": "display_data"
    },
    {
     "data": {
      "text/html": [
       "0.832838105860978"
      ],
      "text/latex": [
       "0.832838105860978"
      ],
      "text/markdown": [
       "0.832838105860978"
      ],
      "text/plain": [
       "[1] 0.8328381"
      ]
     },
     "metadata": {},
     "output_type": "display_data"
    },
    {
     "data": {
      "text/html": [
       "0.913225909008234"
      ],
      "text/latex": [
       "0.913225909008234"
      ],
      "text/markdown": [
       "0.913225909008234"
      ],
      "text/plain": [
       "[1] 0.9132259"
      ]
     },
     "metadata": {},
     "output_type": "display_data"
    }
   ],
   "source": [
    "# correlation between various datas\n",
    "cor(train_set$Month, train_set$CPI_energy)\n",
    "cor(train_set$Unemployment, train_set$CPI_energy)\n",
    "cor(train_set$Queries, train_set$CPI_energy)\n",
    "cor(train_set$CPI_all, train_set$CPI_energy)"
   ]
  },
  {
   "cell_type": "code",
   "execution_count": 30,
   "metadata": {},
   "outputs": [
    {
     "data": {
      "text/html": [
       "<table>\n",
       "<thead><tr><th></th><th scope=col>Unemployment</th><th scope=col>Month</th><th scope=col>Queries</th><th scope=col>CPI_energy</th><th scope=col>CPI_all</th></tr></thead>\n",
       "<tbody>\n",
       "\t<tr><th scope=row>Unemployment</th><td> 1.0000000</td><td>-0.2036029</td><td>-0.6411093</td><td>-0.8007188</td><td>-0.9562123</td></tr>\n",
       "\t<tr><th scope=row>Month</th><td>-0.2036029</td><td> 1.0000000</td><td> 0.0158443</td><td> 0.1760198</td><td> 0.2667883</td></tr>\n",
       "\t<tr><th scope=row>Queries</th><td>-0.6411093</td><td> 0.0158443</td><td> 1.0000000</td><td> 0.8328381</td><td> 0.7536732</td></tr>\n",
       "\t<tr><th scope=row>CPI_energy</th><td>-0.8007188</td><td> 0.1760198</td><td> 0.8328381</td><td> 1.0000000</td><td> 0.9132259</td></tr>\n",
       "\t<tr><th scope=row>CPI_all</th><td>-0.9562123</td><td> 0.2667883</td><td> 0.7536732</td><td> 0.9132259</td><td> 1.0000000</td></tr>\n",
       "</tbody>\n",
       "</table>\n"
      ],
      "text/latex": [
       "\\begin{tabular}{r|lllll}\n",
       "  & Unemployment & Month & Queries & CPI\\_energy & CPI\\_all\\\\\n",
       "\\hline\n",
       "\tUnemployment &  1.0000000 & -0.2036029 & -0.6411093 & -0.8007188 & -0.9562123\\\\\n",
       "\tMonth & -0.2036029 &  1.0000000 &  0.0158443 &  0.1760198 &  0.2667883\\\\\n",
       "\tQueries & -0.6411093 &  0.0158443 &  1.0000000 &  0.8328381 &  0.7536732\\\\\n",
       "\tCPI\\_energy & -0.8007188 &  0.1760198 &  0.8328381 &  1.0000000 &  0.9132259\\\\\n",
       "\tCPI\\_all & -0.9562123 &  0.2667883 &  0.7536732 &  0.9132259 &  1.0000000\\\\\n",
       "\\end{tabular}\n"
      ],
      "text/markdown": [
       "\n",
       "| <!--/--> | Unemployment | Month | Queries | CPI_energy | CPI_all | \n",
       "|---|---|---|---|---|\n",
       "| Unemployment |  1.0000000 | -0.2036029 | -0.6411093 | -0.8007188 | -0.9562123 | \n",
       "| Month | -0.2036029 |  1.0000000 |  0.0158443 |  0.1760198 |  0.2667883 | \n",
       "| Queries | -0.6411093 |  0.0158443 |  1.0000000 |  0.8328381 |  0.7536732 | \n",
       "| CPI_energy | -0.8007188 |  0.1760198 |  0.8328381 |  1.0000000 |  0.9132259 | \n",
       "| CPI_all | -0.9562123 |  0.2667883 |  0.7536732 |  0.9132259 |  1.0000000 | \n",
       "\n",
       "\n"
      ],
      "text/plain": [
       "             Unemployment Month      Queries    CPI_energy CPI_all   \n",
       "Unemployment  1.0000000   -0.2036029 -0.6411093 -0.8007188 -0.9562123\n",
       "Month        -0.2036029    1.0000000  0.0158443  0.1760198  0.2667883\n",
       "Queries      -0.6411093    0.0158443  1.0000000  0.8328381  0.7536732\n",
       "CPI_energy   -0.8007188    0.1760198  0.8328381  1.0000000  0.9132259\n",
       "CPI_all      -0.9562123    0.2667883  0.7536732  0.9132259  1.0000000"
      ]
     },
     "metadata": {},
     "output_type": "display_data"
    }
   ],
   "source": [
    "cor(train_set[c(\"Unemployment\",\"Month\",\"Queries\",\"CPI_energy\",\"CPI_all\")])"
   ]
  },
  {
   "cell_type": "code",
   "execution_count": 31,
   "metadata": {},
   "outputs": [
    {
     "data": {
      "text/plain": [
       "\n",
       "Call:\n",
       "lm(formula = ElantraSales ~ Months_factor + Unemployment + CPI_energy + \n",
       "    CPI_all, data = train_set)\n",
       "\n",
       "Residuals:\n",
       "    Min      1Q  Median      3Q     Max \n",
       "-3866.0 -1283.3  -107.2  1098.3  3650.1 \n",
       "\n",
       "Coefficients:\n",
       "                 Estimate Std. Error t value Pr(>|t|)    \n",
       "(Intercept)     325709.15  136627.85   2.384 0.026644 *  \n",
       "Months_factor2    2410.91    1857.10   1.298 0.208292    \n",
       "Months_factor3    6880.09    1888.15   3.644 0.001517 ** \n",
       "Months_factor4    7697.36    1960.21   3.927 0.000774 ***\n",
       "Months_factor5    7444.64    1908.48   3.901 0.000823 ***\n",
       "Months_factor6    9223.13    1953.64   4.721 0.000116 ***\n",
       "Months_factor7    9602.72    2012.66   4.771 0.000103 ***\n",
       "Months_factor8    7919.50    2020.99   3.919 0.000789 ***\n",
       "Months_factor9    5074.29    1962.23   2.586 0.017237 *  \n",
       "Months_factor10   2724.24    1951.78   1.396 0.177366    \n",
       "Months_factor11   3665.08    2055.66   1.783 0.089062 .  \n",
       "Months_factor12   5643.19    1974.36   2.858 0.009413 ** \n",
       "Unemployment     -7971.34    2840.79  -2.806 0.010586 *  \n",
       "CPI_energy         268.03      78.75   3.403 0.002676 ** \n",
       "CPI_all          -1377.58     573.39  -2.403 0.025610 *  \n",
       "---\n",
       "Signif. codes:  0 ‘***’ 0.001 ‘**’ 0.01 ‘*’ 0.05 ‘.’ 0.1 ‘ ’ 1\n",
       "\n",
       "Residual standard error: 2258 on 21 degrees of freedom\n",
       "Multiple R-squared:  0.818,\tAdjusted R-squared:  0.6967 \n",
       "F-statistic: 6.744 on 14 and 21 DF,  p-value: 5.73e-05\n"
      ]
     },
     "metadata": {},
     "output_type": "display_data"
    }
   ],
   "source": [
    "reg_model_4 = lm( ElantraSales ~ Months_factor + Unemployment + CPI_energy + CPI_all , data = train_set)\n",
    "summary(reg_model_4)"
   ]
  },
  {
   "cell_type": "code",
   "execution_count": 39,
   "metadata": {},
   "outputs": [
    {
     "data": {
      "text/html": [
       "190757747.444365"
      ],
      "text/latex": [
       "190757747.444365"
      ],
      "text/markdown": [
       "190757747.444365"
      ],
      "text/plain": [
       "[1] 190757747"
      ]
     },
     "metadata": {},
     "output_type": "display_data"
    },
    {
     "data": {
      "text/html": [
       "701375142.375"
      ],
      "text/latex": [
       "701375142.375"
      ],
      "text/markdown": [
       "701375142.375"
      ],
      "text/plain": [
       "[1] 701375142"
      ]
     },
     "metadata": {},
     "output_type": "display_data"
    },
    {
     "data": {
      "text/html": [
       "0.728023227629054"
      ],
      "text/latex": [
       "0.728023227629054"
      ],
      "text/markdown": [
       "0.728023227629054"
      ],
      "text/plain": [
       "[1] 0.7280232"
      ]
     },
     "metadata": {},
     "output_type": "display_data"
    },
    {
     "data": {
      "text/html": [
       "7491.4876927117"
      ],
      "text/latex": [
       "7491.4876927117"
      ],
      "text/markdown": [
       "7491.4876927117"
      ],
      "text/plain": [
       "[1] 7491.488"
      ]
     },
     "metadata": {},
     "output_type": "display_data"
    },
    {
     "data": {
      "text/html": [
       "<table>\n",
       "<thead><tr><th></th><th scope=col>Month</th><th scope=col>Year</th><th scope=col>ElantraSales</th><th scope=col>Unemployment</th><th scope=col>Queries</th><th scope=col>CPI_energy</th><th scope=col>CPI_all</th><th scope=col>Months_factor</th></tr></thead>\n",
       "<tbody>\n",
       "\t<tr><th scope=row>14</th><td>3      </td><td>2013   </td><td>26153  </td><td>7.5    </td><td>313    </td><td>244.598</td><td>232.075</td><td>3      </td></tr>\n",
       "</tbody>\n",
       "</table>\n"
      ],
      "text/latex": [
       "\\begin{tabular}{r|llllllll}\n",
       "  & Month & Year & ElantraSales & Unemployment & Queries & CPI\\_energy & CPI\\_all & Months\\_factor\\\\\n",
       "\\hline\n",
       "\t14 & 3       & 2013    & 26153   & 7.5     & 313     & 244.598 & 232.075 & 3      \\\\\n",
       "\\end{tabular}\n"
      ],
      "text/markdown": [
       "\n",
       "| <!--/--> | Month | Year | ElantraSales | Unemployment | Queries | CPI_energy | CPI_all | Months_factor | \n",
       "|---|\n",
       "| 14 | 3       | 2013    | 26153   | 7.5     | 313     | 244.598 | 232.075 | 3       | \n",
       "\n",
       "\n"
      ],
      "text/plain": [
       "   Month Year ElantraSales Unemployment Queries CPI_energy CPI_all\n",
       "14 3     2013 26153        7.5          313     244.598    232.075\n",
       "   Months_factor\n",
       "14 3            "
      ]
     },
     "metadata": {},
     "output_type": "display_data"
    }
   ],
   "source": [
    "prediction = predict(reg_model_4, newdata=test_set)\n",
    "\n",
    "sse = sum(\n",
    "          (prediction - test_set$ElantraSales)^2 \n",
    "         )\n",
    "\n",
    "sst = sum(\n",
    "          (mean(train_set$ElantraSales) - test_set$ElantraSales)^2\n",
    "         )\n",
    "\n",
    "r2 = 1 - sse/sst\n",
    "\n",
    "\n",
    "sse\n",
    "sst\n",
    "r2\n",
    "max_error = abs(prediction - test_set$ElantraSales)\n",
    "max(max_error)\n",
    "\n",
    "index_of_max_error = which.max(max_error)\n",
    "test_set[index_of_max_error, ]"
   ]
  }
 ],
 "metadata": {
  "kernelspec": {
   "display_name": "R",
   "language": "R",
   "name": "ir"
  },
  "language_info": {
   "codemirror_mode": "r",
   "file_extension": ".r",
   "mimetype": "text/x-r-source",
   "name": "R",
   "pygments_lexer": "r",
   "version": "3.2.3"
  }
 },
 "nbformat": 4,
 "nbformat_minor": 2
}
