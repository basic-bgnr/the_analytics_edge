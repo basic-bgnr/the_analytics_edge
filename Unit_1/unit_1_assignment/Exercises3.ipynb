{
 "cells": [
  {
   "cell_type": "markdown",
   "metadata": {},
   "source": [
    "# Exercise 2\n",
    "  \n",
    "___  \n",
    "\n",
    "__Date Started__ : Nov 3, 2018\n",
    "\n",
    "___\n",
    "\n",
    "Content Details:\n",
    "* Population Dynamics \n",
    "  * Analyzing Populaton Statistics \n",
    "  \n",
    "___\n",
    "\n",
    "Data Used:\n",
    " 1. [CPSData](./CPSData.csv)\n",
    " 1. [CountryCodes](./CountryCodes.csv)\n",
    " 1. [MetropolitanAreaCodes](./MetroAreaCodes.csv)"
   ]
  },
  {
   "cell_type": "code",
   "execution_count": 31,
   "metadata": {},
   "outputs": [],
   "source": [
    "# loading the content of the csv file\n",
    "\n",
    "cps_data = read.csv('CPSData.csv')\n",
    "country_codes = read.csv('CountryCodes.csv')\n",
    "metro_codes   = read.csv('MetroAreaCodes.csv')\n"
   ]
  },
  {
   "cell_type": "code",
   "execution_count": 7,
   "metadata": {},
   "outputs": [
    {
     "name": "stdout",
     "output_type": "stream",
     "text": [
      "'data.frame':\t131302 obs. of  14 variables:\n",
      " $ PeopleInHousehold : int  1 3 3 3 3 3 3 2 2 2 ...\n",
      " $ Region            : Factor w/ 4 levels \"Midwest\",\"Northeast\",..: 3 3 3 3 3 3 3 3 3 3 ...\n",
      " $ State             : Factor w/ 51 levels \"Alabama\",\"Alaska\",..: 1 1 1 1 1 1 1 1 1 1 ...\n",
      " $ MetroAreaCode     : int  26620 13820 13820 13820 26620 26620 26620 33660 33660 26620 ...\n",
      " $ Age               : int  85 21 37 18 52 24 26 71 43 52 ...\n",
      " $ Married           : Factor w/ 5 levels \"Divorced\",\"Married\",..: 5 3 3 3 5 3 3 1 1 3 ...\n",
      " $ Sex               : Factor w/ 2 levels \"Female\",\"Male\": 1 2 1 2 1 2 2 1 2 2 ...\n",
      " $ Education         : Factor w/ 8 levels \"Associate degree\",..: 1 4 4 6 1 2 4 4 4 2 ...\n",
      " $ Race              : Factor w/ 6 levels \"American Indian\",..: 6 3 3 3 6 6 6 6 6 6 ...\n",
      " $ Hispanic          : int  0 0 0 0 0 0 0 0 0 0 ...\n",
      " $ CountryOfBirthCode: int  57 57 57 57 57 57 57 57 57 57 ...\n",
      " $ Citizenship       : Factor w/ 3 levels \"Citizen, Native\",..: 1 1 1 1 1 1 1 1 1 1 ...\n",
      " $ EmploymentStatus  : Factor w/ 5 levels \"Disabled\",\"Employed\",..: 4 5 1 3 2 2 2 2 3 2 ...\n",
      " $ Industry          : Factor w/ 14 levels \"Agriculture, forestry, fishing, and hunting\",..: NA 11 NA NA 11 4 14 4 NA 12 ...\n",
      "'data.frame':\t149 obs. of  2 variables:\n",
      " $ Code   : int  57 66 73 78 96 100 102 103 104 105 ...\n",
      " $ Country: Factor w/ 149 levels \"Afghanistan\",..: 138 57 105 141 97 3 11 18 24 36 ...\n"
     ]
    }
   ],
   "source": [
    "str(cps_data)\n",
    "str(country_codes)"
   ]
  },
  {
   "cell_type": "code",
   "execution_count": 13,
   "metadata": {},
   "outputs": [
    {
     "data": {
      "text/plain": [
       " PeopleInHousehold       Region               State       MetroAreaCode  \n",
       " Min.   : 1.000    Midwest  :30684   California  :11570   Min.   :10420  \n",
       " 1st Qu.: 2.000    Northeast:25939   Texas       : 7077   1st Qu.:21780  \n",
       " Median : 3.000    South    :41502   New York    : 5595   Median :34740  \n",
       " Mean   : 3.284    West     :33177   Florida     : 5149   Mean   :35075  \n",
       " 3rd Qu.: 4.000                      Pennsylvania: 3930   3rd Qu.:41860  \n",
       " Max.   :15.000                      Illinois    : 3912   Max.   :79600  \n",
       "                                     (Other)     :94069   NA's   :34238  \n",
       "      Age                 Married          Sex       \n",
       " Min.   : 0.00   Divorced     :11151   Female:67481  \n",
       " 1st Qu.:19.00   Married      :55509   Male  :63821  \n",
       " Median :39.00   Never Married:30772                 \n",
       " Mean   :38.83   Separated    : 2027                 \n",
       " 3rd Qu.:57.00   Widowed      : 6505                 \n",
       " Max.   :85.00   NA's         :25338                 \n",
       "                                                     \n",
       "                   Education                   Race           Hispanic     \n",
       " High school            :30906   American Indian :  1433   Min.   :0.0000  \n",
       " Bachelor's degree      :19443   Asian           :  6520   1st Qu.:0.0000  \n",
       " Some college, no degree:18863   Black           : 13913   Median :0.0000  \n",
       " No high school diploma :16095   Multiracial     :  2897   Mean   :0.1393  \n",
       " Associate degree       : 9913   Pacific Islander:   618   3rd Qu.:0.0000  \n",
       " (Other)                :10744   White           :105921   Max.   :1.0000  \n",
       " NA's                   :25338                                             \n",
       " CountryOfBirthCode               Citizenship               EmploymentStatus\n",
       " Min.   : 57.00     Citizen, Native     :116639   Disabled          : 5712  \n",
       " 1st Qu.: 57.00     Citizen, Naturalized:  7073   Employed          :61733  \n",
       " Median : 57.00     Non-Citizen         :  7590   Not in Labor Force:15246  \n",
       " Mean   : 82.68                                   Retired           :18619  \n",
       " 3rd Qu.: 57.00                                   Unemployed        : 4203  \n",
       " Max.   :555.00                                   NA's              :25789  \n",
       "                                                                            \n",
       "                               Industry    \n",
       " Educational and health services   :15017  \n",
       " Trade                             : 8933  \n",
       " Professional and business services: 7519  \n",
       " Manufacturing                     : 6791  \n",
       " Leisure and hospitality           : 6364  \n",
       " (Other)                           :21618  \n",
       " NA's                              :65060  "
      ]
     },
     "metadata": {},
     "output_type": "display_data"
    },
    {
     "data": {
      "text/plain": [
       "      Code                          Country   \n",
       " Min.   : 57.0   Afghanistan            :  1  \n",
       " 1st Qu.:152.0   Africa, not specified  :  1  \n",
       " Median :235.0   Albania                :  1  \n",
       " Mean   :262.8   Algeria                :  1  \n",
       " 3rd Qu.:362.0   Americas, not specified:  1  \n",
       " Max.   :555.0   Antigua and Barbuda    :  1  \n",
       "                 (Other)                :143  "
      ]
     },
     "metadata": {},
     "output_type": "display_data"
    }
   ],
   "source": [
    "summary(cps_data)\n",
    "summary(country_codes)"
   ]
  },
  {
   "cell_type": "markdown",
   "metadata": {},
   "source": [
    "#### Solution to problem 1: People in observation is 131302"
   ]
  },
  {
   "cell_type": "code",
   "execution_count": 119,
   "metadata": {},
   "outputs": [
    {
     "data": {
      "text/html": [
       "<strong>Educational and health services:</strong> 15017"
      ],
      "text/latex": [
       "\\textbf{Educational and health services:} 15017"
      ],
      "text/markdown": [
       "**Educational and health services:** 15017"
      ],
      "text/plain": [
       "Educational and health services \n",
       "                          15017 "
      ]
     },
     "metadata": {},
     "output_type": "display_data"
    }
   ],
   "source": [
    "# solution to the second problems\n",
    "\n",
    "jobs = table(cps_data$Industry)\n",
    "sort(jobs, decreasing = TRUE)[1]"
   ]
  },
  {
   "cell_type": "markdown",
   "metadata": {},
   "source": [
    "#### Solution to problem 2 : Education and Health 15017 "
   ]
  },
  {
   "cell_type": "code",
   "execution_count": 117,
   "metadata": {},
   "outputs": [
    {
     "data": {
      "text/html": [
       "<strong>Northeast:</strong> 25939"
      ],
      "text/latex": [
       "\\textbf{Northeast:} 25939"
      ],
      "text/markdown": [
       "**Northeast:** 25939"
      ],
      "text/plain": [
       "Northeast \n",
       "    25939 "
      ]
     },
     "metadata": {},
     "output_type": "display_data"
    },
    {
     "data": {
      "text/html": [
       "<strong>Midwest:</strong> 30684"
      ],
      "text/latex": [
       "\\textbf{Midwest:} 30684"
      ],
      "text/markdown": [
       "**Midwest:** 30684"
      ],
      "text/plain": [
       "Midwest \n",
       "  30684 "
      ]
     },
     "metadata": {},
     "output_type": "display_data"
    },
    {
     "data": {
      "text/html": [
       "<strong>West:</strong> 33177"
      ],
      "text/latex": [
       "\\textbf{West:} 33177"
      ],
      "text/markdown": [
       "**West:** 33177"
      ],
      "text/plain": [
       " West \n",
       "33177 "
      ]
     },
     "metadata": {},
     "output_type": "display_data"
    },
    {
     "data": {
      "text/html": [
       "<strong>South:</strong> 41502"
      ],
      "text/latex": [
       "\\textbf{South:} 41502"
      ],
      "text/markdown": [
       "**South:** 41502"
      ],
      "text/plain": [
       "South \n",
       "41502 "
      ]
     },
     "metadata": {},
     "output_type": "display_data"
    }
   ],
   "source": [
    "# solution to problem three (no of interviewee in a region)\n",
    "\n",
    "sort(table(cps_data$Region))[1]\n",
    "sort(table(cps_data$Region))[2]\n",
    "sort(table(cps_data$Region))[3]\n",
    "sort(table(cps_data$Region))[4]\n",
    "\n"
   ]
  },
  {
   "cell_type": "markdown",
   "metadata": {},
   "source": [
    "#### Solution to Problem : Max popn in south and min in Northeast"
   ]
  },
  {
   "cell_type": "code",
   "execution_count": 118,
   "metadata": {},
   "outputs": [
    {
     "data": {
      "text/html": [
       "<table>\n",
       "<thead><tr><th scope=col>PeopleInHousehold</th><th scope=col>Region</th><th scope=col>State</th><th scope=col>MetroAreaCode</th><th scope=col>Age</th><th scope=col>Married</th><th scope=col>Sex</th><th scope=col>Education</th><th scope=col>Race</th><th scope=col>Hispanic</th><th scope=col>CountryOfBirthCode</th><th scope=col>Citizenship</th><th scope=col>EmploymentStatus</th><th scope=col>Industry</th></tr></thead>\n",
       "<tbody>\n",
       "\t<tr><td>1               </td><td>South           </td><td>Alabama         </td><td>26620           </td><td>85              </td><td>Widowed         </td><td>Female          </td><td>Associate degree</td><td>White           </td><td>0               </td><td>57              </td><td>Citizen, Native </td><td>Retired         </td><td>NA              </td></tr>\n",
       "</tbody>\n",
       "</table>\n"
      ],
      "text/latex": [
       "\\begin{tabular}{r|llllllllllllll}\n",
       " PeopleInHousehold & Region & State & MetroAreaCode & Age & Married & Sex & Education & Race & Hispanic & CountryOfBirthCode & Citizenship & EmploymentStatus & Industry\\\\\n",
       "\\hline\n",
       "\t 1                & South            & Alabama          & 26620            & 85               & Widowed          & Female           & Associate degree & White            & 0                & 57               & Citizen, Native  & Retired          & NA              \\\\\n",
       "\\end{tabular}\n"
      ],
      "text/markdown": [
       "\n",
       "PeopleInHousehold | Region | State | MetroAreaCode | Age | Married | Sex | Education | Race | Hispanic | CountryOfBirthCode | Citizenship | EmploymentStatus | Industry | \n",
       "|---|\n",
       "| 1                | South            | Alabama          | 26620            | 85               | Widowed          | Female           | Associate degree | White            | 0                | 57               | Citizen, Native  | Retired          | NA               | \n",
       "\n",
       "\n"
      ],
      "text/plain": [
       "  PeopleInHousehold Region State   MetroAreaCode Age Married Sex   \n",
       "1 1                 South  Alabama 26620         85  Widowed Female\n",
       "  Education        Race  Hispanic CountryOfBirthCode Citizenship    \n",
       "1 Associate degree White 0        57                 Citizen, Native\n",
       "  EmploymentStatus Industry\n",
       "1 Retired          NA      "
      ]
     },
     "metadata": {},
     "output_type": "display_data"
    },
    {
     "data": {
      "text/plain": [
       "\n",
       "     Citizen, Native Citizen, Naturalized          Non-Citizen \n",
       "              116639                 7073                 7590 "
      ]
     },
     "metadata": {},
     "output_type": "display_data"
    },
    {
     "data": {
      "text/html": [
       "0.942194330627104"
      ],
      "text/latex": [
       "0.942194330627104"
      ],
      "text/markdown": [
       "0.942194330627104"
      ],
      "text/plain": [
       "[1] 0.9421943"
      ]
     },
     "metadata": {},
     "output_type": "display_data"
    }
   ],
   "source": [
    "#solution to problem 4\n",
    "\n",
    "us_country_code = country_codes$Code[country_codes$Country == 'United States']\n",
    "cps_data[1:1,]\n",
    "table(cps_data$Citizenship)\n",
    "(116639+7073)/(116639+7073+7590)"
   ]
  },
  {
   "cell_type": "code",
   "execution_count": 115,
   "metadata": {},
   "outputs": [
    {
     "data": {
      "text/html": [
       "<strong>American Indian:</strong> 304"
      ],
      "text/latex": [
       "\\textbf{American Indian:} 304"
      ],
      "text/markdown": [
       "**American Indian:** 304"
      ],
      "text/plain": [
       "American Indian \n",
       "            304 "
      ]
     },
     "metadata": {},
     "output_type": "display_data"
    }
   ],
   "source": [
    "hispanic = subset(cps_data, cps_data$Hispanic == 1)\n",
    "limit = 250\n",
    "hispanic_races_table = tapply(hispanic$Race, hispanic$Race, length)\n",
    "hispanic_races_above_limit = hispanic_races_table[hispanic_races_table>limit]\n",
    "hispanic_races_above_limit[1]"
   ]
  },
  {
   "cell_type": "code",
   "execution_count": 3,
   "metadata": {},
   "outputs": [
    {
     "data": {
      "text/plain": [
       " PeopleInHousehold       Region               State       MetroAreaCode  \n",
       " Min.   : 1.000    Midwest  :30684   California  :11570   Min.   :10420  \n",
       " 1st Qu.: 2.000    Northeast:25939   Texas       : 7077   1st Qu.:21780  \n",
       " Median : 3.000    South    :41502   New York    : 5595   Median :34740  \n",
       " Mean   : 3.284    West     :33177   Florida     : 5149   Mean   :35075  \n",
       " 3rd Qu.: 4.000                      Pennsylvania: 3930   3rd Qu.:41860  \n",
       " Max.   :15.000                      Illinois    : 3912   Max.   :79600  \n",
       "                                     (Other)     :94069   NA's   :34238  \n",
       "      Age                 Married          Sex       \n",
       " Min.   : 0.00   Divorced     :11151   Female:67481  \n",
       " 1st Qu.:19.00   Married      :55509   Male  :63821  \n",
       " Median :39.00   Never Married:30772                 \n",
       " Mean   :38.83   Separated    : 2027                 \n",
       " 3rd Qu.:57.00   Widowed      : 6505                 \n",
       " Max.   :85.00   NA's         :25338                 \n",
       "                                                     \n",
       "                   Education                   Race           Hispanic     \n",
       " High school            :30906   American Indian :  1433   Min.   :0.0000  \n",
       " Bachelor's degree      :19443   Asian           :  6520   1st Qu.:0.0000  \n",
       " Some college, no degree:18863   Black           : 13913   Median :0.0000  \n",
       " No high school diploma :16095   Multiracial     :  2897   Mean   :0.1393  \n",
       " Associate degree       : 9913   Pacific Islander:   618   3rd Qu.:0.0000  \n",
       " (Other)                :10744   White           :105921   Max.   :1.0000  \n",
       " NA's                   :25338                                             \n",
       " CountryOfBirthCode               Citizenship               EmploymentStatus\n",
       " Min.   : 57.00     Citizen, Native     :116639   Disabled          : 5712  \n",
       " 1st Qu.: 57.00     Citizen, Naturalized:  7073   Employed          :61733  \n",
       " Median : 57.00     Non-Citizen         :  7590   Not in Labor Force:15246  \n",
       " Mean   : 82.68                                   Retired           :18619  \n",
       " 3rd Qu.: 57.00                                   Unemployed        : 4203  \n",
       " Max.   :555.00                                   NA's              :25789  \n",
       "                                                                            \n",
       "                               Industry    \n",
       " Educational and health services   :15017  \n",
       " Trade                             : 8933  \n",
       " Professional and business services: 7519  \n",
       " Manufacturing                     : 6791  \n",
       " Leisure and hospitality           : 6364  \n",
       " (Other)                           :21618  \n",
       " NA's                              :65060  "
      ]
     },
     "metadata": {},
     "output_type": "display_data"
    }
   ],
   "source": [
    "summary(cps_data)"
   ]
  },
  {
   "cell_type": "code",
   "execution_count": 8,
   "metadata": {},
   "outputs": [
    {
     "data": {
      "text/plain": [
       "           \n",
       "            FALSE  TRUE\n",
       "  Midwest   24609  6075\n",
       "  Northeast 21432  4507\n",
       "  South     33535  7967\n",
       "  West      26388  6789"
      ]
     },
     "metadata": {},
     "output_type": "display_data"
    },
    {
     "data": {
      "text/plain": [
       "        \n",
       "         FALSE  TRUE\n",
       "  Female 55264 12217\n",
       "  Male   50700 13121"
      ]
     },
     "metadata": {},
     "output_type": "display_data"
    },
    {
     "data": {
      "text/plain": [
       "    \n",
       "     FALSE TRUE\n",
       "  0      0 1283\n",
       "  1      0 1559\n",
       "  2      0 1574\n",
       "  3      0 1693\n",
       "  4      0 1695\n",
       "  5      0 1795\n",
       "  6      0 1721\n",
       "  7      0 1681\n",
       "  8      0 1729\n",
       "  9      0 1748\n",
       "  10     0 1750\n",
       "  11     0 1721\n",
       "  12     0 1797\n",
       "  13     0 1802\n",
       "  14     0 1790\n",
       "  15  1795    0\n",
       "  16  1751    0\n",
       "  17  1764    0\n",
       "  18  1596    0\n",
       "  19  1517    0\n",
       "  20  1398    0\n",
       "  21  1525    0\n",
       "  22  1536    0\n",
       "  23  1638    0\n",
       "  24  1627    0\n",
       "  25  1604    0\n",
       "  26  1643    0\n",
       "  27  1657    0\n",
       "  28  1736    0\n",
       "  29  1645    0\n",
       "  30  1854    0\n",
       "  31  1762    0\n",
       "  32  1790    0\n",
       "  33  1804    0\n",
       "  34  1653    0\n",
       "  35  1716    0\n",
       "  36  1663    0\n",
       "  37  1531    0\n",
       "  38  1530    0\n",
       "  39  1542    0\n",
       "  40  1571    0\n",
       "  41  1673    0\n",
       "  42  1711    0\n",
       "  43  1819    0\n",
       "  44  1764    0\n",
       "  45  1749    0\n",
       "  46  1665    0\n",
       "  47  1647    0\n",
       "  48  1791    0\n",
       "  49  1989    0\n",
       "  50  1966    0\n",
       "  51  1931    0\n",
       "  52  1935    0\n",
       "  53  1994    0\n",
       "  54  1912    0\n",
       "  55  1895    0\n",
       "  56  1935    0\n",
       "  57  1827    0\n",
       "  58  1874    0\n",
       "  59  1758    0\n",
       "  60  1746    0\n",
       "  61  1735    0\n",
       "  62  1595    0\n",
       "  63  1596    0\n",
       "  64  1519    0\n",
       "  65  1569    0\n",
       "  66  1577    0\n",
       "  67  1227    0\n",
       "  68  1130    0\n",
       "  69  1062    0\n",
       "  70  1195    0\n",
       "  71  1031    0\n",
       "  72   941    0\n",
       "  73   896    0\n",
       "  74   842    0\n",
       "  75   763    0\n",
       "  76   729    0\n",
       "  77   698    0\n",
       "  78   659    0\n",
       "  79   661    0\n",
       "  80  2664    0\n",
       "  85  2446    0"
      ]
     },
     "metadata": {},
     "output_type": "display_data"
    }
   ],
   "source": [
    "# solution to problem 2.2\n",
    "# the following analysis helps in determining the presence of NA in the dataset of Married variable for each individual data.\n",
    "# on the third analysis, i.e Age Vs. Married data, it appears that for age 0-14 Married variable is entirely NA, it's because that\n",
    "# CPS doesn't ask for marital status for people within age group 0-14.\n",
    "#\n",
    "# Hence the entire reason there is presence of NA in the Married dataset is because 0-14 age group people are not asked that specific question.\n",
    "\n",
    "table(cps_data$Region, is.na(cps_data$Married))\n",
    "table(cps_data$Sex, is.na(cps_data$Married))\n",
    "table(cps_data$Age, is.na(cps_data$Married))"
   ]
  },
  {
   "cell_type": "markdown",
   "metadata": {},
   "source": [
    "#### # solution to problem 2.2\n",
    " the following analysis helps in determining the presence of NA in the dataset of Married variable for each individual data.\n",
    " on the third analysis, i.e Age Vs. Married data, it appears that for age 0-14 Married variable is entirely NA, it's because that\n",
    " CPS doesn't ask for marital status for people within age group 0-14.\n",
    "\n",
    " Hence the entire reason there is presence of NA in the Married dataset is because 0-14 age group people are not asked that specific question.\n"
   ]
  },
  {
   "cell_type": "code",
   "execution_count": 11,
   "metadata": {},
   "outputs": [
    {
     "data": {
      "text/plain": [
       "                      \n",
       "                       FALSE  TRUE\n",
       "  Alabama               1020   356\n",
       "  Alaska                   0  1590\n",
       "  Arizona               1327   201\n",
       "  Arkansas               724   697\n",
       "  California           11333   237\n",
       "  Colorado              2545   380\n",
       "  Connecticut           2593   243\n",
       "  Delaware              1696   518\n",
       "  District of Columbia  1791     0\n",
       "  Florida               4947   202\n",
       "  Georgia               2250   557\n",
       "  Hawaii                1576   523\n",
       "  Idaho                  761   757\n",
       "  Illinois              3473   439\n",
       "  Indiana               1420   584\n",
       "  Iowa                  1297  1231\n",
       "  Kansas                1234   701\n",
       "  Kentucky               908   933\n",
       "  Louisiana             1216   234\n",
       "  Maine                  909  1354\n",
       "  Maryland              2978   222\n",
       "  Massachusetts         1858   129\n",
       "  Michigan              2517   546\n",
       "  Minnesota             2150   989\n",
       "  Mississippi            376   854\n",
       "  Missouri              1440   705\n",
       "  Montana                199  1015\n",
       "  Nebraska               816  1133\n",
       "  Nevada                1609   247\n",
       "  New Hampshire         1148  1514\n",
       "  New Jersey            2567     0\n",
       "  New Mexico             832   270\n",
       "  New York              5144   451\n",
       "  North Carolina        1642   977\n",
       "  North Dakota           432  1213\n",
       "  Ohio                  2754   924\n",
       "  Oklahoma              1024   499\n",
       "  Oregon                1519   424\n",
       "  Pennsylvania          3245   685\n",
       "  Rhode Island          2209     0\n",
       "  South Carolina        1139   519\n",
       "  South Dakota           595  1405\n",
       "  Tennessee             1149   635\n",
       "  Texas                 6060  1017\n",
       "  Utah                  1455   387\n",
       "  Vermont                657  1233\n",
       "  Virginia              2367   586\n",
       "  Washington            1937   429\n",
       "  West Virginia          344  1065\n",
       "  Wisconsin             1882   804\n",
       "  Wyoming                  0  1624"
      ]
     },
     "metadata": {},
     "output_type": "display_data"
    }
   ],
   "source": [
    "table(cps_data$State, is.na(cps_data$MetroAreaCode))"
   ]
  },
  {
   "cell_type": "markdown",
   "metadata": {},
   "source": [
    "#### Solution to Problem 2.3\n",
    "* Wyoming and Alaska have all of their resident living in Non-metropolitan area\n",
    "* District of Columbia,New Jersey, Rhode island resident all live in metropolitan area"
   ]
  },
  {
   "cell_type": "code",
   "execution_count": 26,
   "metadata": {},
   "outputs": [
    {
     "data": {
      "text/plain": [
       "           \n",
       "            FALSE  TRUE\n",
       "  Midwest   20010 10674\n",
       "  Northeast 20330  5609\n",
       "  South     31631  9871\n",
       "  West      25093  8084"
      ]
     },
     "metadata": {},
     "output_type": "display_data"
    },
    {
     "data": {
      "text/html": [
       "0.533433283358321"
      ],
      "text/latex": [
       "0.533433283358321"
      ],
      "text/markdown": [
       "0.533433283358321"
      ],
      "text/plain": [
       "[1] 0.5334333"
      ]
     },
     "metadata": {},
     "output_type": "display_data"
    },
    {
     "data": {
      "text/html": [
       "0.275897688145598"
      ],
      "text/latex": [
       "0.275897688145598"
      ],
      "text/markdown": [
       "0.275897688145598"
      ],
      "text/plain": [
       "[1] 0.2758977"
      ]
     },
     "metadata": {},
     "output_type": "display_data"
    },
    {
     "data": {
      "text/html": [
       "0.312067275773766"
      ],
      "text/latex": [
       "0.312067275773766"
      ],
      "text/markdown": [
       "0.312067275773766"
      ],
      "text/plain": [
       "[1] 0.3120673"
      ]
     },
     "metadata": {},
     "output_type": "display_data"
    },
    {
     "data": {
      "text/html": [
       "0.322161559000518"
      ],
      "text/latex": [
       "0.322161559000518"
      ],
      "text/markdown": [
       "0.322161559000518"
      ],
      "text/plain": [
       "[1] 0.3221616"
      ]
     },
     "metadata": {},
     "output_type": "display_data"
    }
   ],
   "source": [
    "# solution to Problem 2.4\n",
    "\n",
    "table_people_in_metro_non_metro = table(cps_data$Region, is.na(cps_data$MetroAreaCode))\n",
    "table_people_in_metro_non_metro\n",
    "table_people_in_metro_non_metro[5]/( table_people_in_metro_non_metro[1])\n",
    "table_people_in_metro_non_metro[6]/( table_people_in_metro_non_metro[2])\n",
    "table_people_in_metro_non_metro[7]/( table_people_in_metro_non_metro[3])\n",
    "table_people_in_metro_non_metro[8]/( table_people_in_metro_non_metro[4])\n"
   ]
  },
  {
   "cell_type": "markdown",
   "metadata": {},
   "source": [
    "#### Solution to Problem 2.4: Midwest region has biggest proportion of people living in metropolitan region"
   ]
  },
  {
   "cell_type": "code",
   "execution_count": 114,
   "metadata": {},
   "outputs": [
    {
     "data": {
      "text/html": [
       "<strong>South Carolina:</strong> 0.313027744270205"
      ],
      "text/latex": [
       "\\textbf{South Carolina:} 0.313027744270205"
      ],
      "text/markdown": [
       "**South Carolina:** 0.313027744270205"
      ],
      "text/plain": [
       "South Carolina \n",
       "     0.3130277 "
      ]
     },
     "metadata": {},
     "output_type": "display_data"
    },
    {
     "data": {
      "text/html": [
       "<strong>Alaska:</strong> 1"
      ],
      "text/latex": [
       "\\textbf{Alaska:} 1"
      ],
      "text/markdown": [
       "**Alaska:** 1"
      ],
      "text/plain": [
       "Alaska \n",
       "     1 "
      ]
     },
     "metadata": {},
     "output_type": "display_data"
    }
   ],
   "source": [
    "# solution to problem 2.5, using tapply to find the proportion of city dweller above 30 % living in metropolitan area\n",
    "\n",
    "\n",
    "metro_dwellers = tapply(is.na(cps_data$MetroAreaCode), cps_data$State, mean) \n",
    "\n",
    "sort(metro_dwellers[metro_dwellers> 0.30], decreasing = FALSE)[1]\n",
    "sort(metro_dwellers[metro_dwellers> 0.30], decreasing = TRUE)[1]\n",
    "\n"
   ]
  },
  {
   "cell_type": "code",
   "execution_count": 100,
   "metadata": {},
   "outputs": [
    {
     "name": "stdout",
     "output_type": "stream",
     "text": [
      "'data.frame':\t271 obs. of  2 variables:\n",
      " $ Code     : int  460 3000 3160 3610 3720 6450 10420 10500 10580 10740 ...\n",
      " $ MetroArea: Factor w/ 271 levels \"Akron, OH\",\"Albany, GA\",..: 12 92 98 117 122 194 1 2 3 4 ...\n",
      "'data.frame':\t149 obs. of  2 variables:\n",
      " $ Code   : int  57 66 73 78 96 100 102 103 104 105 ...\n",
      " $ Country: Factor w/ 149 levels \"Afghanistan\",..: 138 57 105 141 97 3 11 18 24 36 ...\n"
     ]
    },
    {
     "data": {
      "text/plain": [
       "\n",
       "FALSE  TRUE \n",
       "97064 34238 "
      ]
     },
     "metadata": {},
     "output_type": "display_data"
    },
    {
     "data": {
      "text/plain": [
       "\n",
       " FALSE   TRUE \n",
       "131126    176 "
      ]
     },
     "metadata": {},
     "output_type": "display_data"
    }
   ],
   "source": [
    "str(metro_codes)\n",
    "str(country_codes)\n",
    "\n",
    "# merging the metro_codes and country_codes in the cps_data with the actual values\n",
    "\n",
    "cps_data_new = merge(cps_data, metro_codes, by.x=\"MetroAreaCode\", by.y=\"Code\", all.x = TRUE)\n",
    "cps_data_new = merge(cps_data_new, country_codes, by.x = \"CountryOfBirthCode\", by.y = \"Code\", all.x = TRUE)\n",
    "\n",
    "table(is.na(cps_data_new$MetroArea))\n",
    "table(is.na(cps_data_new$Country))"
   ]
  },
  {
   "cell_type": "code",
   "execution_count": 98,
   "metadata": {},
   "outputs": [
    {
     "data": {
      "text/html": [
       "<strong>New York-Northern New Jersey-Long Island, NY-NJ-PA:</strong> 5409"
      ],
      "text/latex": [
       "\\textbf{New York-Northern New Jersey-Long Island, NY-NJ-PA:} 5409"
      ],
      "text/markdown": [
       "**New York-Northern New Jersey-Long Island, NY-NJ-PA:** 5409"
      ],
      "text/plain": [
       "New York-Northern New Jersey-Long Island, NY-NJ-PA \n",
       "                                              5409 "
      ]
     },
     "metadata": {},
     "output_type": "display_data"
    },
    {
     "data": {
      "text/html": [
       "<strong>Laredo, TX:</strong> 0.966292134831461"
      ],
      "text/latex": [
       "\\textbf{Laredo, TX:} 0.966292134831461"
      ],
      "text/markdown": [
       "**Laredo, TX:** 0.966292134831461"
      ],
      "text/plain": [
       "Laredo, TX \n",
       " 0.9662921 "
      ]
     },
     "metadata": {},
     "output_type": "display_data"
    }
   ],
   "source": [
    "# solution to problem 3.3\n",
    "\n",
    "sort(table(cps_data_new$MetroArea),decreasing = TRUE)[1]\n",
    "sort(tapply(cps_data_new$Hispanic, cps_data_new$MetroArea, mean), decreasing = TRUE)[1]"
   ]
  },
  {
   "cell_type": "code",
   "execution_count": 99,
   "metadata": {},
   "outputs": [
    {
     "data": {
      "text/html": [
       "<strong>Honolulu, HI:</strong> 0.501903553299492"
      ],
      "text/latex": [
       "\\textbf{Honolulu, HI:} 0.501903553299492"
      ],
      "text/markdown": [
       "**Honolulu, HI:** 0.501903553299492"
      ],
      "text/plain": [
       "Honolulu, HI \n",
       "   0.5019036 "
      ]
     },
     "metadata": {},
     "output_type": "display_data"
    }
   ],
   "source": [
    "# solution to determine the states where at least 20 % race is asian\n",
    "asian_proportion = sort(tapply(cps_data_new$Race=='Asian', cps_data_new$MetroArea, mean), decreasing = TRUE)\n",
    "asian_proportion[asian_proportion >= 0.20][1]"
   ]
  },
  {
   "cell_type": "code",
   "execution_count": 97,
   "metadata": {},
   "outputs": [
    {
     "data": {
      "text/html": [
       "<strong>Iowa City, IA:</strong> 0.029126213592233"
      ],
      "text/latex": [
       "\\textbf{Iowa City, IA:} 0.029126213592233"
      ],
      "text/markdown": [
       "**Iowa City, IA:** 0.029126213592233"
      ],
      "text/plain": [
       "Iowa City, IA \n",
       "   0.02912621 "
      ]
     },
     "metadata": {},
     "output_type": "display_data"
    }
   ],
   "source": [
    "# solution to the problem to determine proportion of population who don't have high school diploma\n",
    "sort(tapply(cps_data_new$Education == 'No high school diploma', cps_data_new$MetroArea, function (x) mean(x, na.rm=TRUE)), decreasing = FALSE)[1]"
   ]
  },
  {
   "cell_type": "code",
   "execution_count": 96,
   "metadata": {},
   "outputs": [
    {
     "data": {
      "text/html": [
       "<strong>Philippines:</strong> 839"
      ],
      "text/latex": [
       "\\textbf{Philippines:} 839"
      ],
      "text/markdown": [
       "**Philippines:** 839"
      ],
      "text/plain": [
       "Philippines \n",
       "        839 "
      ]
     },
     "metadata": {},
     "output_type": "display_data"
    }
   ],
   "source": [
    "# solution to determine the most common country of birth outside of north america\n",
    "\n",
    "sort(table(cps_data_new$Country), decreasing = TRUE)[3]"
   ]
  },
  {
   "cell_type": "code",
   "execution_count": 92,
   "metadata": {},
   "outputs": [
    {
     "data": {
      "text/html": [
       "<strong>New York-Northern New Jersey-Long Island, NY-NJ-PA:</strong> 96"
      ],
      "text/latex": [
       "\\textbf{New York-Northern New Jersey-Long Island, NY-NJ-PA:} 96"
      ],
      "text/markdown": [
       "**New York-Northern New Jersey-Long Island, NY-NJ-PA:** 96"
      ],
      "text/plain": [
       "New York-Northern New Jersey-Long Island, NY-NJ-PA \n",
       "                                                96 "
      ]
     },
     "metadata": {},
     "output_type": "display_data"
    },
    {
     "data": {
      "text/html": [
       "<strong>Boston-Cambridge-Quincy, MA-NH:</strong> 18"
      ],
      "text/latex": [
       "\\textbf{Boston-Cambridge-Quincy, MA-NH:} 18"
      ],
      "text/markdown": [
       "**Boston-Cambridge-Quincy, MA-NH:** 18"
      ],
      "text/plain": [
       "Boston-Cambridge-Quincy, MA-NH \n",
       "                            18 "
      ]
     },
     "metadata": {},
     "output_type": "display_data"
    },
    {
     "data": {
      "text/html": [
       "<strong>Minneapolis-St Paul-Bloomington, MN-WI:</strong> 17"
      ],
      "text/latex": [
       "\\textbf{Minneapolis-St Paul-Bloomington, MN-WI:} 17"
      ],
      "text/markdown": [
       "**Minneapolis-St Paul-Bloomington, MN-WI:** 17"
      ],
      "text/plain": [
       "Minneapolis-St Paul-Bloomington, MN-WI \n",
       "                                    17 "
      ]
     },
     "metadata": {},
     "output_type": "display_data"
    }
   ],
   "source": [
    "# solution to problem to determine states which have country of birth india, Brazil, Somalia\n",
    "\n",
    "sort(tapply(cps_data_new$Country == 'India', cps_data_new$MetroArea, sum, na.rm=TRUE), decreasing = TRUE)[1]\n",
    "sort(tapply(cps_data_new$Country == 'Brazil', cps_data_new$MetroArea, sum, na.rm=TRUE), decreasing = TRUE)[1]\n",
    "sort(tapply(cps_data_new$Country == 'Somalia', cps_data_new$MetroArea, sum, na.rm=TRUE), decreasing = TRUE)[1]\n"
   ]
  }
 ],
 "metadata": {
  "kernelspec": {
   "display_name": "R",
   "language": "R",
   "name": "ir"
  },
  "language_info": {
   "codemirror_mode": "r",
   "file_extension": ".r",
   "mimetype": "text/x-r-source",
   "name": "R",
   "pygments_lexer": "r",
   "version": "3.2.3"
  }
 },
 "nbformat": 4,
 "nbformat_minor": 2
}
