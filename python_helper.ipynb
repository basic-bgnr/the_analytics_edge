{
 "cells": [
  {
   "cell_type": "markdown",
   "metadata": {},
   "source": [
    "### Helper file for edx course (Studying Analytics)"
   ]
  },
  {
   "cell_type": "code",
   "execution_count": 2,
   "metadata": {},
   "outputs": [
    {
     "name": "stdout",
     "output_type": "stream",
     "text": [
      "file written\n"
     ]
    }
   ],
   "source": [
    "a = [[i*j for j in range(1, 10)] for i in range(1, 10)]\n",
    "\n",
    "with open('dataset.csv', 'w') as file:\n",
    "    for line in a:\n",
    "        \n",
    "        line_content = ','.join(str(l) for l in line)\n",
    "        file.write(line_content)\n",
    "        file.write('\\n')\n",
    "\n",
    "        \n",
    "print('file written')\n"
   ]
  },
  {
   "cell_type": "code",
   "execution_count": 3,
   "metadata": {},
   "outputs": [
    {
     "name": "stdout",
     "output_type": "stream",
     "text": [
      "1,2,3,4,5,6,7,8,9\n",
      "\n",
      "2,4,6,8,10,12,14,16,18\n",
      "\n",
      "3,6,9,12,15,18,21,24,27\n",
      "\n",
      "4,8,12,16,20,24,28,32,36\n",
      "\n",
      "5,10,15,20,25,30,35,40,45\n",
      "\n",
      "6,12,18,24,30,36,42,48,54\n",
      "\n",
      "7,14,21,28,35,42,49,56,63\n",
      "\n",
      "8,16,24,32,40,48,56,64,72\n",
      "\n",
      "9,18,27,36,45,54,63,72,81\n",
      "\n"
     ]
    }
   ],
   "source": [
    "with open('dataset.csv', 'r') as file:\n",
    "    for line in file:\n",
    "        print(line)"
   ]
  }
 ],
 "metadata": {
  "kernelspec": {
   "display_name": "Python 3",
   "language": "python",
   "name": "python3"
  },
  "language_info": {
   "codemirror_mode": {
    "name": "ipython",
    "version": 3
   },
   "file_extension": ".py",
   "mimetype": "text/x-python",
   "name": "python",
   "nbconvert_exporter": "python",
   "pygments_lexer": "ipython3",
   "version": "3.5.2"
  }
 },
 "nbformat": 4,
 "nbformat_minor": 2
}
