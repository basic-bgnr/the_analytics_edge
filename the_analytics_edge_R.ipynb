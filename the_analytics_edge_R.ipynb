{
 "cells": [
  {
   "cell_type": "markdown",
   "metadata": {},
   "source": [
    "#### Studying Analytics (Edx Course)\n",
    "___\n",
    "\n",
    "__Date Started:__  \n",
    "__Oct 16, 2018__  \n",
    "\n",
    "__Introduction:__  \n",
    "__The course is intended as an introductory tool for data Analysis using R Programming language__"
   ]
  },
  {
   "cell_type": "markdown",
   "metadata": {},
   "source": [
    "#### Chapter 1 \n",
    "___\n",
    "Date Started: Oct 16, 2018\n",
    "\n",
    "Content:\n",
    "1. Introduction to R Programming Language (REPL environment and basic arithmetic calculation, adding comments)\n",
    "\n",
    "Additional Content:\n",
    "1. Adding Jupyter kernel support for R Lang on my machine"
   ]
  },
  {
   "cell_type": "code",
   "execution_count": 3,
   "metadata": {},
   "outputs": [
    {
     "name": "stdout",
     "output_type": "stream",
     "text": [
      "[1] 1e+10\n"
     ]
    }
   ],
   "source": [
    "a = 10;\n",
    "b = a ^ 10;\n",
    "print(b)\n"
   ]
  },
  {
   "cell_type": "code",
   "execution_count": 5,
   "metadata": {},
   "outputs": [
    {
     "name": "stdout",
     "output_type": "stream",
     "text": [
      "[1] 10\n"
     ]
    }
   ],
   "source": [
    "print(10)"
   ]
  },
  {
   "cell_type": "code",
   "execution_count": 7,
   "metadata": {},
   "outputs": [
    {
     "name": "stdout",
     "output_type": "stream",
     "text": [
      "[1] 10\n"
     ]
    }
   ],
   "source": [
    "square.root2 = 10;\n",
    "print(square.root2);"
   ]
  },
  {
   "cell_type": "code",
   "execution_count": 17,
   "metadata": {},
   "outputs": [
    {
     "data": {
      "text/html": [
       "<ol class=list-inline>\n",
       "\t<li>2</li>\n",
       "\t<li>3</li>\n",
       "\t<li>4</li>\n",
       "\t<li>5</li>\n",
       "\t<li>5</li>\n",
       "</ol>\n"
      ],
      "text/latex": [
       "\\begin{enumerate*}\n",
       "\\item 2\n",
       "\\item 3\n",
       "\\item 4\n",
       "\\item 5\n",
       "\\item 5\n",
       "\\end{enumerate*}\n"
      ],
      "text/markdown": [
       "1. 2\n",
       "2. 3\n",
       "3. 4\n",
       "4. 5\n",
       "5. 5\n",
       "\n",
       "\n"
      ],
      "text/plain": [
       "[1] 2 3 4 5 5"
      ]
     },
     "metadata": {},
     "output_type": "display_data"
    }
   ],
   "source": [
    "c(2, 3, 4,5,5); #hi"
   ]
  },
  {
   "cell_type": "markdown",
   "metadata": {},
   "source": [
    "#### Chapter 2\n",
    "___\n",
    "Date Started: Oct 16, 2018\n",
    "\n",
    "Content:\n",
    "1. Introduction to R Programming Language\n",
    "  * Concept of Vector\n",
    "  * Concept of data.frame\n",
    "    * Adding data coulumn to data.frame\n",
    "\n",
    "Additional Content:\n",
    "1. None\n"
   ]
  },
  {
   "cell_type": "code",
   "execution_count": 16,
   "metadata": {},
   "outputs": [
    {
     "data": {
      "text/html": [
       "<table>\n",
       "<thead><tr><th scope=col>countries</th><th scope=col>life_expectancy</th></tr></thead>\n",
       "<tbody>\n",
       "\t<tr><td>nepal  </td><td>74     </td></tr>\n",
       "\t<tr><td>india  </td><td>76     </td></tr>\n",
       "\t<tr><td>america</td><td>65     </td></tr>\n",
       "\t<tr><td>brazil </td><td>83     </td></tr>\n",
       "\t<tr><td>china  </td><td>79     </td></tr>\n",
       "</tbody>\n",
       "</table>\n"
      ],
      "text/latex": [
       "\\begin{tabular}{r|ll}\n",
       " countries & life\\_expectancy\\\\\n",
       "\\hline\n",
       "\t nepal   & 74     \\\\\n",
       "\t india   & 76     \\\\\n",
       "\t america & 65     \\\\\n",
       "\t brazil  & 83     \\\\\n",
       "\t china   & 79     \\\\\n",
       "\\end{tabular}\n"
      ],
      "text/markdown": [
       "\n",
       "countries | life_expectancy | \n",
       "|---|---|---|---|---|\n",
       "| nepal   | 74      | \n",
       "| india   | 76      | \n",
       "| america | 65      | \n",
       "| brazil  | 83      | \n",
       "| china   | 79      | \n",
       "\n",
       "\n"
      ],
      "text/plain": [
       "  countries life_expectancy\n",
       "1 nepal     74             \n",
       "2 india     76             \n",
       "3 america   65             \n",
       "4 brazil    83             \n",
       "5 china     79             "
      ]
     },
     "metadata": {},
     "output_type": "display_data"
    }
   ],
   "source": [
    "countries = c(\"nepal\", \"india\", \"america\", \"brazil\", \"china\");\n",
    "life_expectancy = c(74, 76, 65, 83, 79);\n",
    "\n",
    "CountryData = data.frame(countries, life_expectancy);\n",
    "CountryData\n",
    "\n",
    "CountryData$population = c(100, 134, 2432, 234234, 123);"
   ]
  },
  {
   "cell_type": "markdown",
   "metadata": {},
   "source": [
    "#### Chapter 3\n",
    "___\n",
    "Date Started: Oct 16, 2018\n",
    "\n",
    "Content:\n",
    "1. Concept of data.frame\n",
    "    * Adding multiple data.frame together to form a large datastructure.\n",
    "\n",
    "Additional Content:\n",
    "1. None\n"
   ]
  },
  {
   "cell_type": "code",
   "execution_count": 15,
   "metadata": {},
   "outputs": [
    {
     "data": {
      "text/html": [
       "<table>\n",
       "<thead><tr><th scope=col>countries</th><th scope=col>life_expectancy</th><th scope=col>population</th></tr></thead>\n",
       "<tbody>\n",
       "\t<tr><td>nepal    </td><td> 74      </td><td>   100   </td></tr>\n",
       "\t<tr><td>india    </td><td> 76      </td><td>   134   </td></tr>\n",
       "\t<tr><td>america  </td><td> 65      </td><td>  2432   </td></tr>\n",
       "\t<tr><td>brazil   </td><td> 83      </td><td>234234   </td></tr>\n",
       "\t<tr><td>china    </td><td> 79      </td><td>   123   </td></tr>\n",
       "\t<tr><td>Australia</td><td> 23      </td><td>234234   </td></tr>\n",
       "\t<tr><td>Greece   </td><td>234      </td><td>234234   </td></tr>\n",
       "</tbody>\n",
       "</table>\n"
      ],
      "text/latex": [
       "\\begin{tabular}{r|lll}\n",
       " countries & life\\_expectancy & population\\\\\n",
       "\\hline\n",
       "\t nepal     &  74       &    100   \\\\\n",
       "\t india     &  76       &    134   \\\\\n",
       "\t america   &  65       &   2432   \\\\\n",
       "\t brazil    &  83       & 234234   \\\\\n",
       "\t china     &  79       &    123   \\\\\n",
       "\t Australia &  23       & 234234   \\\\\n",
       "\t Greece    & 234       & 234234   \\\\\n",
       "\\end{tabular}\n"
      ],
      "text/markdown": [
       "\n",
       "countries | life_expectancy | population | \n",
       "|---|---|---|---|---|---|---|\n",
       "| nepal     |  74       |    100    | \n",
       "| india     |  76       |    134    | \n",
       "| america   |  65       |   2432    | \n",
       "| brazil    |  83       | 234234    | \n",
       "| china     |  79       |    123    | \n",
       "| Australia |  23       | 234234    | \n",
       "| Greece    | 234       | 234234    | \n",
       "\n",
       "\n"
      ],
      "text/plain": [
       "  countries life_expectancy population\n",
       "1 nepal      74                100    \n",
       "2 india      76                134    \n",
       "3 america    65               2432    \n",
       "4 brazil     83             234234    \n",
       "5 china      79                123    \n",
       "6 Australia  23             234234    \n",
       "7 Greece    234             234234    "
      ]
     },
     "metadata": {},
     "output_type": "display_data"
    }
   ],
   "source": [
    "countries = c(\"nepal\", \"india\", \"america\", \"brazil\", \"china\");\n",
    "life_expectancy = c(74, 76, 65, 83, 79);\n",
    "\n",
    "CountryData = data.frame(countries, life_expectancy);\n",
    "CountryData$population = c(100, 134, 2432, 234234, 123);\n",
    "\n",
    "countries = c(\"Australia\", \"Greece\");\n",
    "life_expectancy = c(23, 234);\n",
    "population = c(234234, 234234);\n",
    "\n",
    "newCountryData = data.frame(countries, life_expectancy, population);\n",
    "all_countries = rbind(CountryData, newCountryData);\n",
    "\n",
    "all_countries"
   ]
  },
  {
   "cell_type": "code",
   "execution_count": 23,
   "metadata": {},
   "outputs": [
    {
     "data": {
      "text/html": [
       "<table>\n",
       "<thead><tr><th scope=col>X1</th><th scope=col>X2</th><th scope=col>X3</th><th scope=col>X4</th><th scope=col>X5</th><th scope=col>X6</th><th scope=col>X7</th><th scope=col>X8</th><th scope=col>X9</th></tr></thead>\n",
       "<tbody>\n",
       "\t<tr><td>2 </td><td> 4</td><td> 6</td><td> 8</td><td>10</td><td>12</td><td>14</td><td>16</td><td>18</td></tr>\n",
       "\t<tr><td>3 </td><td> 6</td><td> 9</td><td>12</td><td>15</td><td>18</td><td>21</td><td>24</td><td>27</td></tr>\n",
       "\t<tr><td>4 </td><td> 8</td><td>12</td><td>16</td><td>20</td><td>24</td><td>28</td><td>32</td><td>36</td></tr>\n",
       "\t<tr><td>5 </td><td>10</td><td>15</td><td>20</td><td>25</td><td>30</td><td>35</td><td>40</td><td>45</td></tr>\n",
       "\t<tr><td>6 </td><td>12</td><td>18</td><td>24</td><td>30</td><td>36</td><td>42</td><td>48</td><td>54</td></tr>\n",
       "\t<tr><td>7 </td><td>14</td><td>21</td><td>28</td><td>35</td><td>42</td><td>49</td><td>56</td><td>63</td></tr>\n",
       "\t<tr><td>8 </td><td>16</td><td>24</td><td>32</td><td>40</td><td>48</td><td>56</td><td>64</td><td>72</td></tr>\n",
       "\t<tr><td>9 </td><td>18</td><td>27</td><td>36</td><td>45</td><td>54</td><td>63</td><td>72</td><td>81</td></tr>\n",
       "</tbody>\n",
       "</table>\n"
      ],
      "text/latex": [
       "\\begin{tabular}{r|lllllllll}\n",
       " X1 & X2 & X3 & X4 & X5 & X6 & X7 & X8 & X9\\\\\n",
       "\\hline\n",
       "\t 2  &  4 &  6 &  8 & 10 & 12 & 14 & 16 & 18\\\\\n",
       "\t 3  &  6 &  9 & 12 & 15 & 18 & 21 & 24 & 27\\\\\n",
       "\t 4  &  8 & 12 & 16 & 20 & 24 & 28 & 32 & 36\\\\\n",
       "\t 5  & 10 & 15 & 20 & 25 & 30 & 35 & 40 & 45\\\\\n",
       "\t 6  & 12 & 18 & 24 & 30 & 36 & 42 & 48 & 54\\\\\n",
       "\t 7  & 14 & 21 & 28 & 35 & 42 & 49 & 56 & 63\\\\\n",
       "\t 8  & 16 & 24 & 32 & 40 & 48 & 56 & 64 & 72\\\\\n",
       "\t 9  & 18 & 27 & 36 & 45 & 54 & 63 & 72 & 81\\\\\n",
       "\\end{tabular}\n"
      ],
      "text/markdown": [
       "\n",
       "X1 | X2 | X3 | X4 | X5 | X6 | X7 | X8 | X9 | \n",
       "|---|---|---|---|---|---|---|---|\n",
       "| 2  |  4 |  6 |  8 | 10 | 12 | 14 | 16 | 18 | \n",
       "| 3  |  6 |  9 | 12 | 15 | 18 | 21 | 24 | 27 | \n",
       "| 4  |  8 | 12 | 16 | 20 | 24 | 28 | 32 | 36 | \n",
       "| 5  | 10 | 15 | 20 | 25 | 30 | 35 | 40 | 45 | \n",
       "| 6  | 12 | 18 | 24 | 30 | 36 | 42 | 48 | 54 | \n",
       "| 7  | 14 | 21 | 28 | 35 | 42 | 49 | 56 | 63 | \n",
       "| 8  | 16 | 24 | 32 | 40 | 48 | 56 | 64 | 72 | \n",
       "| 9  | 18 | 27 | 36 | 45 | 54 | 63 | 72 | 81 | \n",
       "\n",
       "\n"
      ],
      "text/plain": [
       "  X1 X2 X3 X4 X5 X6 X7 X8 X9\n",
       "1 2   4  6  8 10 12 14 16 18\n",
       "2 3   6  9 12 15 18 21 24 27\n",
       "3 4   8 12 16 20 24 28 32 36\n",
       "4 5  10 15 20 25 30 35 40 45\n",
       "5 6  12 18 24 30 36 42 48 54\n",
       "6 7  14 21 28 35 42 49 56 63\n",
       "7 8  16 24 32 40 48 56 64 72\n",
       "8 9  18 27 36 45 54 63 72 81"
      ]
     },
     "metadata": {},
     "output_type": "display_data"
    }
   ],
   "source": [
    "who = read.csv(\"dataset.csv\");\n",
    "\n",
    "who"
   ]
  }
 ],
 "metadata": {
  "kernelspec": {
   "display_name": "R",
   "language": "R",
   "name": "ir"
  },
  "language_info": {
   "codemirror_mode": "r",
   "file_extension": ".r",
   "mimetype": "text/x-r-source",
   "name": "R",
   "pygments_lexer": "r",
   "version": "3.2.3"
  }
 },
 "nbformat": 4,
 "nbformat_minor": 2
}
