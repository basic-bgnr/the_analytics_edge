{
 "cells": [
  {
   "cell_type": "markdown",
   "metadata": {},
   "source": [
    "## Unit 1 (Assignment)\n",
    "\n",
    "__Date Started: Oct 27, 2018__\n"
   ]
  },
  {
   "cell_type": "code",
   "execution_count": 48,
   "metadata": {},
   "outputs": [
    {
     "name": "stdout",
     "output_type": "stream",
     "text": [
      "'data.frame':\t191641 obs. of  11 variables:\n",
      " $ ID                 : int  8951354 8951141 8952745 8952223 8951608 8950793 8950760 8951611 8951802 8950706 ...\n",
      " $ Date               : Factor w/ 131680 levels \"10/10/01 0:00\",..: 37302 37300 37300 37300 37299 37297 37296 37295 37291 37290 ...\n",
      " $ LocationDescription: Factor w/ 78 levels \"ABANDONED BUILDING\",..: 72 72 62 72 72 72 72 72 72 72 ...\n",
      " $ Arrest             : logi  FALSE FALSE FALSE FALSE FALSE TRUE ...\n",
      " $ Domestic           : logi  FALSE FALSE FALSE FALSE FALSE FALSE ...\n",
      " $ Beat               : int  623 1213 1622 724 211 2521 423 231 1021 1215 ...\n",
      " $ District           : int  6 12 16 7 2 25 4 2 10 12 ...\n",
      " $ CommunityArea      : int  69 24 11 67 35 19 48 40 29 24 ...\n",
      " $ Year               : int  2012 2012 2012 2012 2012 2012 2012 2012 2012 2012 ...\n",
      " $ Latitude           : num  41.8 41.9 42 41.8 41.8 ...\n",
      " $ Longitude          : num  -87.6 -87.7 -87.8 -87.7 -87.6 ...\n"
     ]
    }
   ],
   "source": [
    "crime_data = read.csv('mvtWeek1.csv')\n",
    "str(crime_data)"
   ]
  },
  {
   "cell_type": "code",
   "execution_count": 49,
   "metadata": {},
   "outputs": [
    {
     "data": {
      "text/html": [
       "191641"
      ],
      "text/latex": [
       "191641"
      ],
      "text/markdown": [
       "191641"
      ],
      "text/plain": [
       "[1] 191641"
      ]
     },
     "metadata": {},
     "output_type": "display_data"
    },
    {
     "data": {
      "text/html": [
       "1310022"
      ],
      "text/latex": [
       "1310022"
      ],
      "text/markdown": [
       "1310022"
      ],
      "text/plain": [
       "[1] 1310022"
      ]
     },
     "metadata": {},
     "output_type": "display_data"
    }
   ],
   "source": [
    "nrow(crime_data)\n",
    "min(crime_data$ID)"
   ]
  },
  {
   "cell_type": "code",
   "execution_count": 50,
   "metadata": {},
   "outputs": [
    {
     "data": {
      "text/html": [
       "111"
      ],
      "text/latex": [
       "111"
      ],
      "text/markdown": [
       "111"
      ],
      "text/plain": [
       "[1] 111"
      ]
     },
     "metadata": {},
     "output_type": "display_data"
    }
   ],
   "source": [
    "crime_data$Beat[which.min(crime_data$Beat)]"
   ]
  },
  {
   "cell_type": "code",
   "execution_count": 51,
   "metadata": {},
   "outputs": [
    {
     "data": {
      "text/plain": [
       "\n",
       " FALSE   TRUE \n",
       "176105  15536 "
      ]
     },
     "metadata": {},
     "output_type": "display_data"
    }
   ],
   "source": [
    "#total number of reported crimes that have resulted in an arrest\n",
    "table(crime_data$Arrest)"
   ]
  },
  {
   "cell_type": "code",
   "execution_count": 52,
   "metadata": {},
   "outputs": [
    {
     "data": {
      "text/plain": [
       "\n",
       " FALSE   TRUE \n",
       "189333   2308 "
      ]
     },
     "metadata": {},
     "output_type": "display_data"
    }
   ],
   "source": [
    "#Here we find out the number of crime that has taken place in an 'Alley'\n",
    "location_info = table(crime_data$LocationDescription == 'ALLEY')\n",
    "location_info"
   ]
  },
  {
   "cell_type": "code",
   "execution_count": 53,
   "metadata": {},
   "outputs": [
    {
     "data": {
      "text/html": [
       "<table>\n",
       "<thead><tr><th scope=col>ID</th><th scope=col>Date</th><th scope=col>LocationDescription</th><th scope=col>Arrest</th><th scope=col>Domestic</th><th scope=col>Beat</th><th scope=col>District</th><th scope=col>CommunityArea</th><th scope=col>Year</th><th scope=col>Latitude</th><th scope=col>Longitude</th></tr></thead>\n",
       "<tbody>\n",
       "\t<tr><td>8951354       </td><td>12/31/12 23:15</td><td>STREET        </td><td>FALSE         </td><td>FALSE         </td><td>623           </td><td>6             </td><td>69            </td><td>2012          </td><td>41.75628      </td><td>-87.62164     </td></tr>\n",
       "</tbody>\n",
       "</table>\n"
      ],
      "text/latex": [
       "\\begin{tabular}{r|lllllllllll}\n",
       " ID & Date & LocationDescription & Arrest & Domestic & Beat & District & CommunityArea & Year & Latitude & Longitude\\\\\n",
       "\\hline\n",
       "\t 8951354        & 12/31/12 23:15 & STREET         & FALSE          & FALSE          & 623            & 6              & 69             & 2012           & 41.75628       & -87.62164     \\\\\n",
       "\\end{tabular}\n"
      ],
      "text/markdown": [
       "\n",
       "ID | Date | LocationDescription | Arrest | Domestic | Beat | District | CommunityArea | Year | Latitude | Longitude | \n",
       "|---|\n",
       "| 8951354        | 12/31/12 23:15 | STREET         | FALSE          | FALSE          | 623            | 6              | 69             | 2012           | 41.75628       | -87.62164      | \n",
       "\n",
       "\n"
      ],
      "text/plain": [
       "  ID      Date           LocationDescription Arrest Domestic Beat District\n",
       "1 8951354 12/31/12 23:15 STREET              FALSE  FALSE    623  6       \n",
       "  CommunityArea Year Latitude Longitude\n",
       "1 69            2012 41.75628 -87.62164"
      ]
     },
     "metadata": {},
     "output_type": "display_data"
    }
   ],
   "source": [
    "crime_data[1,]"
   ]
  },
  {
   "cell_type": "code",
   "execution_count": 54,
   "metadata": {},
   "outputs": [
    {
     "data": {
      "text/html": [
       "<dl class=dl-horizontal>\n",
       "\t<dt>Min.</dt>\n",
       "\t\t<dd><time datetime=\"2001-01-01\">2001-01-01</time></dd>\n",
       "\t<dt>1st Qu.</dt>\n",
       "\t\t<dd><time datetime=\"2003-07-10\">2003-07-10</time></dd>\n",
       "\t<dt>Median</dt>\n",
       "\t\t<dd><time datetime=\"2006-05-21\">2006-05-21</time></dd>\n",
       "\t<dt>Mean</dt>\n",
       "\t\t<dd><time datetime=\"2006-08-23\">2006-08-23</time></dd>\n",
       "\t<dt>3rd Qu.</dt>\n",
       "\t\t<dd><time datetime=\"2009-10-24\">2009-10-24</time></dd>\n",
       "\t<dt>Max.</dt>\n",
       "\t\t<dd><time datetime=\"2012-12-31\">2012-12-31</time></dd>\n",
       "</dl>\n"
      ],
      "text/latex": [
       "\\begin{description*}\n",
       "\\item[Min.] 2001-01-01\n",
       "\\item[1st Qu.] 2003-07-10\n",
       "\\item[Median] 2006-05-21\n",
       "\\item[Mean] 2006-08-23\n",
       "\\item[3rd Qu.] 2009-10-24\n",
       "\\item[Max.] 2012-12-31\n",
       "\\end{description*}\n"
      ],
      "text/markdown": [
       "Min.\n",
       ":   2001-01-011st Qu.\n",
       ":   2003-07-10Median\n",
       ":   2006-05-21Mean\n",
       ":   2006-08-233rd Qu.\n",
       ":   2009-10-24Max.\n",
       ":   2012-12-31\n",
       "\n"
      ],
      "text/plain": [
       "        Min.      1st Qu.       Median         Mean      3rd Qu.         Max. \n",
       "\"2001-01-01\" \"2003-07-10\" \"2006-05-21\" \"2006-08-23\" \"2009-10-24\" \"2012-12-31\" "
      ]
     },
     "metadata": {},
     "output_type": "display_data"
    }
   ],
   "source": [
    "converted_data = as.Date(strptime(crime_data$Date, \"%m/%d/%y %H:%M\"))\n",
    "summary(converted_data)"
   ]
  },
  {
   "cell_type": "code",
   "execution_count": 55,
   "metadata": {},
   "outputs": [],
   "source": [
    "#using the builtin function, here we calculate the month and day of recording of Grand Theft Auto \n",
    "month_data = months(converted_data)\n",
    "day_data   = weekdays(converted_data)\n",
    "\n",
    "#here we insert the newly calculated data into the original dataframe\n",
    "crime_data$month_data = month_data\n",
    "crime_data$day_data   = day_data"
   ]
  },
  {
   "cell_type": "code",
   "execution_count": 56,
   "metadata": {},
   "outputs": [
    {
     "name": "stdout",
     "output_type": "stream",
     "text": [
      "'data.frame':\t191641 obs. of  13 variables:\n",
      " $ ID                 : int  8951354 8951141 8952745 8952223 8951608 8950793 8950760 8951611 8951802 8950706 ...\n",
      " $ Date               : Factor w/ 131680 levels \"10/10/01 0:00\",..: 37302 37300 37300 37300 37299 37297 37296 37295 37291 37290 ...\n",
      " $ LocationDescription: Factor w/ 78 levels \"ABANDONED BUILDING\",..: 72 72 62 72 72 72 72 72 72 72 ...\n",
      " $ Arrest             : logi  FALSE FALSE FALSE FALSE FALSE TRUE ...\n",
      " $ Domestic           : logi  FALSE FALSE FALSE FALSE FALSE FALSE ...\n",
      " $ Beat               : int  623 1213 1622 724 211 2521 423 231 1021 1215 ...\n",
      " $ District           : int  6 12 16 7 2 25 4 2 10 12 ...\n",
      " $ CommunityArea      : int  69 24 11 67 35 19 48 40 29 24 ...\n",
      " $ Year               : int  2012 2012 2012 2012 2012 2012 2012 2012 2012 2012 ...\n",
      " $ Latitude           : num  41.8 41.9 42 41.8 41.8 ...\n",
      " $ Longitude          : num  -87.6 -87.7 -87.8 -87.7 -87.6 ...\n",
      " $ month_data         : chr  \"December\" \"December\" \"December\" \"December\" ...\n",
      " $ day_data           : chr  \"Monday\" \"Monday\" \"Monday\" \"Monday\" ...\n"
     ]
    },
    {
     "data": {
      "text/html": [
       "<table>\n",
       "<thead><tr><th scope=col>ID</th><th scope=col>Date</th><th scope=col>LocationDescription</th><th scope=col>Arrest</th><th scope=col>Domestic</th><th scope=col>Beat</th><th scope=col>District</th><th scope=col>CommunityArea</th><th scope=col>Year</th><th scope=col>Latitude</th><th scope=col>Longitude</th><th scope=col>month_data</th><th scope=col>day_data</th></tr></thead>\n",
       "<tbody>\n",
       "\t<tr><td>8951354                      </td><td>12/31/12 23:15               </td><td>STREET                       </td><td>FALSE                        </td><td>FALSE                        </td><td> 623                         </td><td> 6                           </td><td>69                           </td><td>2012                         </td><td>41.75628                     </td><td>-87.62164                    </td><td>December                     </td><td>Monday                       </td></tr>\n",
       "\t<tr><td>8951141                      </td><td>12/31/12 22:00               </td><td>STREET                       </td><td>FALSE                        </td><td>FALSE                        </td><td>1213                         </td><td>12                           </td><td>24                           </td><td>2012                         </td><td>41.89879                     </td><td>-87.66130                    </td><td>December                     </td><td>Monday                       </td></tr>\n",
       "\t<tr><td>8952745                      </td><td>12/31/12 22:00               </td><td>RESIDENTIAL YARD (FRONT/BACK)</td><td>FALSE                        </td><td>FALSE                        </td><td>1622                         </td><td>16                           </td><td>11                           </td><td>2012                         </td><td>41.96919                     </td><td>-87.76767                    </td><td>December                     </td><td>Monday                       </td></tr>\n",
       "\t<tr><td>8952223                      </td><td>12/31/12 22:00               </td><td>STREET                       </td><td>FALSE                        </td><td>FALSE                        </td><td> 724                         </td><td> 7                           </td><td>67                           </td><td>2012                         </td><td>41.76933                     </td><td>-87.65773                    </td><td>December                     </td><td>Monday                       </td></tr>\n",
       "\t<tr><td>8951608                      </td><td>12/31/12 21:30               </td><td>STREET                       </td><td>FALSE                        </td><td>FALSE                        </td><td> 211                         </td><td> 2                           </td><td>35                           </td><td>2012                         </td><td>41.83757                     </td><td>-87.62176                    </td><td>December                     </td><td>Monday                       </td></tr>\n",
       "\t<tr><td>8950793                      </td><td>12/31/12 20:30               </td><td>STREET                       </td><td> TRUE                        </td><td>FALSE                        </td><td>2521                         </td><td>25                           </td><td>19                           </td><td>2012                         </td><td>41.92856                     </td><td>-87.75400                    </td><td>December                     </td><td>Monday                       </td></tr>\n",
       "\t<tr><td>8950760                      </td><td>12/31/12 20:10               </td><td>STREET                       </td><td>FALSE                        </td><td>FALSE                        </td><td> 423                         </td><td> 4                           </td><td>48                           </td><td>2012                         </td><td>41.73206                     </td><td>-87.56481                    </td><td>December                     </td><td>Monday                       </td></tr>\n",
       "\t<tr><td>8951611                      </td><td>12/31/12 20:00               </td><td>STREET                       </td><td>FALSE                        </td><td>FALSE                        </td><td> 231                         </td><td> 2                           </td><td>40                           </td><td>2012                         </td><td>41.79251                     </td><td>-87.61932                    </td><td>December                     </td><td>Monday                       </td></tr>\n",
       "\t<tr><td>8951802                      </td><td>12/31/12 19:00               </td><td>STREET                       </td><td> TRUE                        </td><td>FALSE                        </td><td>1021                         </td><td>10                           </td><td>29                           </td><td>2012                         </td><td>41.86362                     </td><td>-87.70910                    </td><td>December                     </td><td>Monday                       </td></tr>\n",
       "\t<tr><td>8950706                      </td><td>12/31/12 18:00               </td><td>STREET                       </td><td>FALSE                        </td><td>FALSE                        </td><td>1215                         </td><td>12                           </td><td>24                           </td><td>2012                         </td><td>41.89008                     </td><td>-87.65882                    </td><td>December                     </td><td>Monday                       </td></tr>\n",
       "</tbody>\n",
       "</table>\n"
      ],
      "text/latex": [
       "\\begin{tabular}{r|lllllllllllll}\n",
       " ID & Date & LocationDescription & Arrest & Domestic & Beat & District & CommunityArea & Year & Latitude & Longitude & month\\_data & day\\_data\\\\\n",
       "\\hline\n",
       "\t 8951354                       & 12/31/12 23:15                & STREET                        & FALSE                         & FALSE                         &  623                          &  6                            & 69                            & 2012                          & 41.75628                      & -87.62164                     & December                      & Monday                       \\\\\n",
       "\t 8951141                       & 12/31/12 22:00                & STREET                        & FALSE                         & FALSE                         & 1213                          & 12                            & 24                            & 2012                          & 41.89879                      & -87.66130                     & December                      & Monday                       \\\\\n",
       "\t 8952745                       & 12/31/12 22:00                & RESIDENTIAL YARD (FRONT/BACK) & FALSE                         & FALSE                         & 1622                          & 16                            & 11                            & 2012                          & 41.96919                      & -87.76767                     & December                      & Monday                       \\\\\n",
       "\t 8952223                       & 12/31/12 22:00                & STREET                        & FALSE                         & FALSE                         &  724                          &  7                            & 67                            & 2012                          & 41.76933                      & -87.65773                     & December                      & Monday                       \\\\\n",
       "\t 8951608                       & 12/31/12 21:30                & STREET                        & FALSE                         & FALSE                         &  211                          &  2                            & 35                            & 2012                          & 41.83757                      & -87.62176                     & December                      & Monday                       \\\\\n",
       "\t 8950793                       & 12/31/12 20:30                & STREET                        &  TRUE                         & FALSE                         & 2521                          & 25                            & 19                            & 2012                          & 41.92856                      & -87.75400                     & December                      & Monday                       \\\\\n",
       "\t 8950760                       & 12/31/12 20:10                & STREET                        & FALSE                         & FALSE                         &  423                          &  4                            & 48                            & 2012                          & 41.73206                      & -87.56481                     & December                      & Monday                       \\\\\n",
       "\t 8951611                       & 12/31/12 20:00                & STREET                        & FALSE                         & FALSE                         &  231                          &  2                            & 40                            & 2012                          & 41.79251                      & -87.61932                     & December                      & Monday                       \\\\\n",
       "\t 8951802                       & 12/31/12 19:00                & STREET                        &  TRUE                         & FALSE                         & 1021                          & 10                            & 29                            & 2012                          & 41.86362                      & -87.70910                     & December                      & Monday                       \\\\\n",
       "\t 8950706                       & 12/31/12 18:00                & STREET                        & FALSE                         & FALSE                         & 1215                          & 12                            & 24                            & 2012                          & 41.89008                      & -87.65882                     & December                      & Monday                       \\\\\n",
       "\\end{tabular}\n"
      ],
      "text/markdown": [
       "\n",
       "ID | Date | LocationDescription | Arrest | Domestic | Beat | District | CommunityArea | Year | Latitude | Longitude | month_data | day_data | \n",
       "|---|---|---|---|---|---|---|---|---|---|\n",
       "| 8951354                       | 12/31/12 23:15                | STREET                        | FALSE                         | FALSE                         |  623                          |  6                            | 69                            | 2012                          | 41.75628                      | -87.62164                     | December                      | Monday                        | \n",
       "| 8951141                       | 12/31/12 22:00                | STREET                        | FALSE                         | FALSE                         | 1213                          | 12                            | 24                            | 2012                          | 41.89879                      | -87.66130                     | December                      | Monday                        | \n",
       "| 8952745                       | 12/31/12 22:00                | RESIDENTIAL YARD (FRONT/BACK) | FALSE                         | FALSE                         | 1622                          | 16                            | 11                            | 2012                          | 41.96919                      | -87.76767                     | December                      | Monday                        | \n",
       "| 8952223                       | 12/31/12 22:00                | STREET                        | FALSE                         | FALSE                         |  724                          |  7                            | 67                            | 2012                          | 41.76933                      | -87.65773                     | December                      | Monday                        | \n",
       "| 8951608                       | 12/31/12 21:30                | STREET                        | FALSE                         | FALSE                         |  211                          |  2                            | 35                            | 2012                          | 41.83757                      | -87.62176                     | December                      | Monday                        | \n",
       "| 8950793                       | 12/31/12 20:30                | STREET                        |  TRUE                         | FALSE                         | 2521                          | 25                            | 19                            | 2012                          | 41.92856                      | -87.75400                     | December                      | Monday                        | \n",
       "| 8950760                       | 12/31/12 20:10                | STREET                        | FALSE                         | FALSE                         |  423                          |  4                            | 48                            | 2012                          | 41.73206                      | -87.56481                     | December                      | Monday                        | \n",
       "| 8951611                       | 12/31/12 20:00                | STREET                        | FALSE                         | FALSE                         |  231                          |  2                            | 40                            | 2012                          | 41.79251                      | -87.61932                     | December                      | Monday                        | \n",
       "| 8951802                       | 12/31/12 19:00                | STREET                        |  TRUE                         | FALSE                         | 1021                          | 10                            | 29                            | 2012                          | 41.86362                      | -87.70910                     | December                      | Monday                        | \n",
       "| 8950706                       | 12/31/12 18:00                | STREET                        | FALSE                         | FALSE                         | 1215                          | 12                            | 24                            | 2012                          | 41.89008                      | -87.65882                     | December                      | Monday                        | \n",
       "\n",
       "\n"
      ],
      "text/plain": [
       "   ID      Date           LocationDescription           Arrest Domestic Beat\n",
       "1  8951354 12/31/12 23:15 STREET                        FALSE  FALSE     623\n",
       "2  8951141 12/31/12 22:00 STREET                        FALSE  FALSE    1213\n",
       "3  8952745 12/31/12 22:00 RESIDENTIAL YARD (FRONT/BACK) FALSE  FALSE    1622\n",
       "4  8952223 12/31/12 22:00 STREET                        FALSE  FALSE     724\n",
       "5  8951608 12/31/12 21:30 STREET                        FALSE  FALSE     211\n",
       "6  8950793 12/31/12 20:30 STREET                         TRUE  FALSE    2521\n",
       "7  8950760 12/31/12 20:10 STREET                        FALSE  FALSE     423\n",
       "8  8951611 12/31/12 20:00 STREET                        FALSE  FALSE     231\n",
       "9  8951802 12/31/12 19:00 STREET                         TRUE  FALSE    1021\n",
       "10 8950706 12/31/12 18:00 STREET                        FALSE  FALSE    1215\n",
       "   District CommunityArea Year Latitude Longitude month_data day_data\n",
       "1   6       69            2012 41.75628 -87.62164 December   Monday  \n",
       "2  12       24            2012 41.89879 -87.66130 December   Monday  \n",
       "3  16       11            2012 41.96919 -87.76767 December   Monday  \n",
       "4   7       67            2012 41.76933 -87.65773 December   Monday  \n",
       "5   2       35            2012 41.83757 -87.62176 December   Monday  \n",
       "6  25       19            2012 41.92856 -87.75400 December   Monday  \n",
       "7   4       48            2012 41.73206 -87.56481 December   Monday  \n",
       "8   2       40            2012 41.79251 -87.61932 December   Monday  \n",
       "9  10       29            2012 41.86362 -87.70910 December   Monday  \n",
       "10 12       24            2012 41.89008 -87.65882 December   Monday  "
      ]
     },
     "metadata": {},
     "output_type": "display_data"
    },
    {
     "data": {
      "text/html": [
       "<table>\n",
       "<thead><tr><th></th><th scope=col>ID</th><th scope=col>Date</th><th scope=col>LocationDescription</th><th scope=col>Arrest</th><th scope=col>Domestic</th><th scope=col>Beat</th><th scope=col>District</th><th scope=col>CommunityArea</th><th scope=col>Year</th><th scope=col>Latitude</th><th scope=col>Longitude</th><th scope=col>month_data</th><th scope=col>day_data</th></tr></thead>\n",
       "<tbody>\n",
       "\t<tr><th scope=row>10000</th><td>8573498                       </td><td>4/17/12 12:00                 </td><td>OTHER                         </td><td>FALSE                         </td><td>FALSE                         </td><td>1722                          </td><td>17                            </td><td>16                            </td><td>2012                          </td><td>41.95362                      </td><td>-87.73983                     </td><td>April                         </td><td>Tuesday                       </td></tr>\n",
       "\t<tr><th scope=row>10001</th><td>8571944                       </td><td>4/17/12 11:30                 </td><td>STREET                        </td><td>FALSE                         </td><td>FALSE                         </td><td>1834                          </td><td>18                            </td><td> 8                            </td><td>2012                          </td><td>41.89113                      </td><td>-87.61916                     </td><td>April                         </td><td>Tuesday                       </td></tr>\n",
       "\t<tr><th scope=row>10002</th><td>8582170                       </td><td>4/17/12 11:30                 </td><td>STREET                        </td><td>FALSE                         </td><td>FALSE                         </td><td> 524                          </td><td> 5                            </td><td>53                            </td><td>2012                          </td><td>41.67765                      </td><td>-87.64055                     </td><td>April                         </td><td>Tuesday                       </td></tr>\n",
       "\t<tr><th scope=row>10003</th><td>8572030                       </td><td>4/17/12 9:20                  </td><td>STREET                        </td><td>FALSE                         </td><td>FALSE                         </td><td> 815                          </td><td> 8                            </td><td>57                            </td><td>2012                          </td><td>41.80107                      </td><td>-87.72691                     </td><td>April                         </td><td>Tuesday                       </td></tr>\n",
       "\t<tr><th scope=row>10004</th><td>8571919                       </td><td>4/17/12 8:30                  </td><td>STREET                        </td><td>FALSE                         </td><td>FALSE                         </td><td>1915                          </td><td>19                            </td><td> 3                            </td><td>2012                          </td><td>41.95748                      </td><td>-87.64637                     </td><td>April                         </td><td>Tuesday                       </td></tr>\n",
       "\t<tr><th scope=row>10005</th><td>8572567                       </td><td>4/17/12 8:30                  </td><td>STREET                        </td><td>FALSE                         </td><td>FALSE                         </td><td>1133                          </td><td>11                            </td><td>26                            </td><td>2012                          </td><td>41.86893                      </td><td>-87.72036                     </td><td>April                         </td><td>Tuesday                       </td></tr>\n",
       "\t<tr><th scope=row>10006</th><td>8571635                       </td><td>4/17/12 7:00                  </td><td>PARKING LOT/GARAGE(NON.RESID.)</td><td>FALSE                         </td><td>FALSE                         </td><td>1231                          </td><td>12                            </td><td>28                            </td><td>2012                          </td><td>41.86327                      </td><td>-87.65927                     </td><td>April                         </td><td>Tuesday                       </td></tr>\n",
       "\t<tr><th scope=row>10007</th><td>8573365                       </td><td>4/17/12 7:00                  </td><td>PARKING LOT/GARAGE(NON.RESID.)</td><td>FALSE                         </td><td>FALSE                         </td><td> 211                          </td><td> 2                            </td><td>35                            </td><td>2012                          </td><td>41.83829                      </td><td>-87.60839                     </td><td>April                         </td><td>Tuesday                       </td></tr>\n",
       "\t<tr><th scope=row>10008</th><td>8576704                       </td><td>4/17/12 6:20                  </td><td>STREET                        </td><td>FALSE                         </td><td>FALSE                         </td><td> 333                          </td><td> 3                            </td><td>43                            </td><td>2012                          </td><td>41.76080                      </td><td>-87.57690                     </td><td>April                         </td><td>Tuesday                       </td></tr>\n",
       "\t<tr><th scope=row>10009</th><td>8571344                       </td><td>4/17/12 3:00                  </td><td>STREET                        </td><td>FALSE                         </td><td>FALSE                         </td><td> 911                          </td><td> 9                            </td><td>58                            </td><td>2012                          </td><td>41.82495                      </td><td>-87.71197                     </td><td>April                         </td><td>Tuesday                       </td></tr>\n",
       "\t<tr><th scope=row>10010</th><td>8571855                       </td><td>4/17/12 2:30                  </td><td>STREET                        </td><td>FALSE                         </td><td>FALSE                         </td><td>1324                          </td><td>13                            </td><td>24                            </td><td>2012                          </td><td>41.89255                      </td><td>-87.66628                     </td><td>April                         </td><td>Tuesday                       </td></tr>\n",
       "</tbody>\n",
       "</table>\n"
      ],
      "text/latex": [
       "\\begin{tabular}{r|lllllllllllll}\n",
       "  & ID & Date & LocationDescription & Arrest & Domestic & Beat & District & CommunityArea & Year & Latitude & Longitude & month\\_data & day\\_data\\\\\n",
       "\\hline\n",
       "\t10000 & 8573498                        & 4/17/12 12:00                  & OTHER                          & FALSE                          & FALSE                          & 1722                           & 17                             & 16                             & 2012                           & 41.95362                       & -87.73983                      & April                          & Tuesday                       \\\\\n",
       "\t10001 & 8571944                        & 4/17/12 11:30                  & STREET                         & FALSE                          & FALSE                          & 1834                           & 18                             &  8                             & 2012                           & 41.89113                       & -87.61916                      & April                          & Tuesday                       \\\\\n",
       "\t10002 & 8582170                        & 4/17/12 11:30                  & STREET                         & FALSE                          & FALSE                          &  524                           &  5                             & 53                             & 2012                           & 41.67765                       & -87.64055                      & April                          & Tuesday                       \\\\\n",
       "\t10003 & 8572030                        & 4/17/12 9:20                   & STREET                         & FALSE                          & FALSE                          &  815                           &  8                             & 57                             & 2012                           & 41.80107                       & -87.72691                      & April                          & Tuesday                       \\\\\n",
       "\t10004 & 8571919                        & 4/17/12 8:30                   & STREET                         & FALSE                          & FALSE                          & 1915                           & 19                             &  3                             & 2012                           & 41.95748                       & -87.64637                      & April                          & Tuesday                       \\\\\n",
       "\t10005 & 8572567                        & 4/17/12 8:30                   & STREET                         & FALSE                          & FALSE                          & 1133                           & 11                             & 26                             & 2012                           & 41.86893                       & -87.72036                      & April                          & Tuesday                       \\\\\n",
       "\t10006 & 8571635                        & 4/17/12 7:00                   & PARKING LOT/GARAGE(NON.RESID.) & FALSE                          & FALSE                          & 1231                           & 12                             & 28                             & 2012                           & 41.86327                       & -87.65927                      & April                          & Tuesday                       \\\\\n",
       "\t10007 & 8573365                        & 4/17/12 7:00                   & PARKING LOT/GARAGE(NON.RESID.) & FALSE                          & FALSE                          &  211                           &  2                             & 35                             & 2012                           & 41.83829                       & -87.60839                      & April                          & Tuesday                       \\\\\n",
       "\t10008 & 8576704                        & 4/17/12 6:20                   & STREET                         & FALSE                          & FALSE                          &  333                           &  3                             & 43                             & 2012                           & 41.76080                       & -87.57690                      & April                          & Tuesday                       \\\\\n",
       "\t10009 & 8571344                        & 4/17/12 3:00                   & STREET                         & FALSE                          & FALSE                          &  911                           &  9                             & 58                             & 2012                           & 41.82495                       & -87.71197                      & April                          & Tuesday                       \\\\\n",
       "\t10010 & 8571855                        & 4/17/12 2:30                   & STREET                         & FALSE                          & FALSE                          & 1324                           & 13                             & 24                             & 2012                           & 41.89255                       & -87.66628                      & April                          & Tuesday                       \\\\\n",
       "\\end{tabular}\n"
      ],
      "text/markdown": [
       "\n",
       "| <!--/--> | ID | Date | LocationDescription | Arrest | Domestic | Beat | District | CommunityArea | Year | Latitude | Longitude | month_data | day_data | \n",
       "|---|---|---|---|---|---|---|---|---|---|---|\n",
       "| 10000 | 8573498                        | 4/17/12 12:00                  | OTHER                          | FALSE                          | FALSE                          | 1722                           | 17                             | 16                             | 2012                           | 41.95362                       | -87.73983                      | April                          | Tuesday                        | \n",
       "| 10001 | 8571944                        | 4/17/12 11:30                  | STREET                         | FALSE                          | FALSE                          | 1834                           | 18                             |  8                             | 2012                           | 41.89113                       | -87.61916                      | April                          | Tuesday                        | \n",
       "| 10002 | 8582170                        | 4/17/12 11:30                  | STREET                         | FALSE                          | FALSE                          |  524                           |  5                             | 53                             | 2012                           | 41.67765                       | -87.64055                      | April                          | Tuesday                        | \n",
       "| 10003 | 8572030                        | 4/17/12 9:20                   | STREET                         | FALSE                          | FALSE                          |  815                           |  8                             | 57                             | 2012                           | 41.80107                       | -87.72691                      | April                          | Tuesday                        | \n",
       "| 10004 | 8571919                        | 4/17/12 8:30                   | STREET                         | FALSE                          | FALSE                          | 1915                           | 19                             |  3                             | 2012                           | 41.95748                       | -87.64637                      | April                          | Tuesday                        | \n",
       "| 10005 | 8572567                        | 4/17/12 8:30                   | STREET                         | FALSE                          | FALSE                          | 1133                           | 11                             | 26                             | 2012                           | 41.86893                       | -87.72036                      | April                          | Tuesday                        | \n",
       "| 10006 | 8571635                        | 4/17/12 7:00                   | PARKING LOT/GARAGE(NON.RESID.) | FALSE                          | FALSE                          | 1231                           | 12                             | 28                             | 2012                           | 41.86327                       | -87.65927                      | April                          | Tuesday                        | \n",
       "| 10007 | 8573365                        | 4/17/12 7:00                   | PARKING LOT/GARAGE(NON.RESID.) | FALSE                          | FALSE                          |  211                           |  2                             | 35                             | 2012                           | 41.83829                       | -87.60839                      | April                          | Tuesday                        | \n",
       "| 10008 | 8576704                        | 4/17/12 6:20                   | STREET                         | FALSE                          | FALSE                          |  333                           |  3                             | 43                             | 2012                           | 41.76080                       | -87.57690                      | April                          | Tuesday                        | \n",
       "| 10009 | 8571344                        | 4/17/12 3:00                   | STREET                         | FALSE                          | FALSE                          |  911                           |  9                             | 58                             | 2012                           | 41.82495                       | -87.71197                      | April                          | Tuesday                        | \n",
       "| 10010 | 8571855                        | 4/17/12 2:30                   | STREET                         | FALSE                          | FALSE                          | 1324                           | 13                             | 24                             | 2012                           | 41.89255                       | -87.66628                      | April                          | Tuesday                        | \n",
       "\n",
       "\n"
      ],
      "text/plain": [
       "      ID      Date          LocationDescription            Arrest Domestic Beat\n",
       "10000 8573498 4/17/12 12:00 OTHER                          FALSE  FALSE    1722\n",
       "10001 8571944 4/17/12 11:30 STREET                         FALSE  FALSE    1834\n",
       "10002 8582170 4/17/12 11:30 STREET                         FALSE  FALSE     524\n",
       "10003 8572030 4/17/12 9:20  STREET                         FALSE  FALSE     815\n",
       "10004 8571919 4/17/12 8:30  STREET                         FALSE  FALSE    1915\n",
       "10005 8572567 4/17/12 8:30  STREET                         FALSE  FALSE    1133\n",
       "10006 8571635 4/17/12 7:00  PARKING LOT/GARAGE(NON.RESID.) FALSE  FALSE    1231\n",
       "10007 8573365 4/17/12 7:00  PARKING LOT/GARAGE(NON.RESID.) FALSE  FALSE     211\n",
       "10008 8576704 4/17/12 6:20  STREET                         FALSE  FALSE     333\n",
       "10009 8571344 4/17/12 3:00  STREET                         FALSE  FALSE     911\n",
       "10010 8571855 4/17/12 2:30  STREET                         FALSE  FALSE    1324\n",
       "      District CommunityArea Year Latitude Longitude month_data day_data\n",
       "10000 17       16            2012 41.95362 -87.73983 April      Tuesday \n",
       "10001 18        8            2012 41.89113 -87.61916 April      Tuesday \n",
       "10002  5       53            2012 41.67765 -87.64055 April      Tuesday \n",
       "10003  8       57            2012 41.80107 -87.72691 April      Tuesday \n",
       "10004 19        3            2012 41.95748 -87.64637 April      Tuesday \n",
       "10005 11       26            2012 41.86893 -87.72036 April      Tuesday \n",
       "10006 12       28            2012 41.86327 -87.65927 April      Tuesday \n",
       "10007  2       35            2012 41.83829 -87.60839 April      Tuesday \n",
       "10008  3       43            2012 41.76080 -87.57690 April      Tuesday \n",
       "10009  9       58            2012 41.82495 -87.71197 April      Tuesday \n",
       "10010 13       24            2012 41.89255 -87.66628 April      Tuesday "
      ]
     },
     "metadata": {},
     "output_type": "display_data"
    }
   ],
   "source": [
    "str(crime_data)\n",
    "crime_data[1:10,]\n",
    "crime_data[10000:10010,]"
   ]
  },
  {
   "cell_type": "code",
   "execution_count": 57,
   "metadata": {},
   "outputs": [
    {
     "data": {
      "text/html": [
       "<strong>February:</strong> 13511"
      ],
      "text/latex": [
       "\\textbf{February:} 13511"
      ],
      "text/markdown": [
       "**February:** 13511"
      ],
      "text/plain": [
       "February \n",
       "   13511 "
      ]
     },
     "metadata": {},
     "output_type": "display_data"
    },
    {
     "data": {
      "text/html": [
       "<strong>Friday:</strong> 29284"
      ],
      "text/latex": [
       "\\textbf{Friday:} 29284"
      ],
      "text/markdown": [
       "**Friday:** 29284"
      ],
      "text/plain": [
       "Friday \n",
       " 29284 "
      ]
     },
     "metadata": {},
     "output_type": "display_data"
    }
   ],
   "source": [
    "#create a table to determine the month in which the minimum number of crime is recorded\n",
    "table1 = table(crime_data$month_data)\n",
    "table1[which.min(table1)]\n",
    "\n",
    "\n",
    "#create a table to determin the day in which the maximum number of crime is recorded\n",
    "table2 = table(crime_data$day_data)\n",
    "table2[which.max(table2)]"
   ]
  },
  {
   "cell_type": "code",
   "execution_count": 58,
   "metadata": {},
   "outputs": [
    {
     "data": {
      "text/html": [
       "<strong>January:</strong> 1435"
      ],
      "text/latex": [
       "\\textbf{January:} 1435"
      ],
      "text/markdown": [
       "**January:** 1435"
      ],
      "text/plain": [
       "January \n",
       "   1435 "
      ]
     },
     "metadata": {},
     "output_type": "display_data"
    },
    {
     "data": {
      "text/plain": [
       "       \n",
       "        April August December February January  July  June March   May November\n",
       "  FALSE 14028  15243    15029    12273   14612 15477 14772 14460 14848    14807\n",
       "  TRUE   1252   1329     1397     1238    1435  1324  1230  1298  1187     1256\n",
       "       \n",
       "        October September\n",
       "  FALSE   15744     14812\n",
       "  TRUE     1342      1248"
      ]
     },
     "metadata": {},
     "output_type": "display_data"
    }
   ],
   "source": [
    "#determine the subset of the total crime which resulted in an arrest\n",
    "subset_total_arrested = subset(crime_data, crime_data$Arrest==TRUE)\n",
    "\n",
    "#on the subset of data, calculate the crime recorded in each month\n",
    "month_total_arrested  = table(subset_total_arrested$month_data)\n",
    "month_total_arrested[which.max(month_total_arrested)]\n",
    "\n",
    "table(crime_data$Arrest, crime_data$month_data)"
   ]
  },
  {
   "cell_type": "code",
   "execution_count": 59,
   "metadata": {},
   "outputs": [
    {
     "data": {
      "image/png": "[encoded data removed]",
      "text/plain": [
       "Plot with title “Histogram of crime_data$Year”"
      ]
     },
     "metadata": {},
     "output_type": "display_data"
    }
   ],
   "source": [
    "hist(crime_data$Year)"
   ]
  },
  {
   "cell_type": "code",
   "execution_count": 60,
   "metadata": {},
   "outputs": [
    {
     "data": {
      "image/png": "[encoded data removed]",
      "text/plain": [
       "plot without title"
      ]
     },
     "metadata": {},
     "output_type": "display_data"
    }
   ],
   "source": [
    "scatter.smooth(crime_data$Year)"
   ]
  },
  {
   "cell_type": "code",
   "execution_count": 61,
   "metadata": {},
   "outputs": [
    {
     "ename": "ERROR",
     "evalue": "Error in sort.default(): argument \"x\" is missing, with no default\n",
     "output_type": "error",
     "traceback": [
      "Error in sort.default(): argument \"x\" is missing, with no default\nTraceback:\n",
      "1. sort()",
      "2. sort.default()"
     ]
    }
   ],
   "source": [
    "sorted_values = sort()"
   ]
  },
  {
   "cell_type": "code",
   "execution_count": null,
   "metadata": {},
   "outputs": [],
   "source": [
    "frame_sorted_year = crime_data[order(crime_data$Year),]\n",
    "frame_sorted_year"
   ]
  },
  {
   "cell_type": "code",
   "execution_count": null,
   "metadata": {},
   "outputs": [],
   "source": [
    "frame_sorted_arrest = crime_data[order(crime_data$Arrest),]"
   ]
  },
  {
   "cell_type": "code",
   "execution_count": null,
   "metadata": {},
   "outputs": [],
   "source": [
    "total_crime_2001 = crime_data[crime_data$Year == 2001, ]\n",
    "total_crime_2001_arrest = total_crime_2001[total_crime_2001$Arrest == TRUE, ]\n",
    "\n",
    "prop = nrow(total_crime_2001_arrest) / nrow(total_crime_2001)\n",
    "\n",
    "prop"
   ]
  },
  {
   "cell_type": "code",
   "execution_count": null,
   "metadata": {},
   "outputs": [],
   "source": [
    "#prints out the crime proportion (arrest to reported) for year starting from 2001 to 2012\n",
    "\n",
    "years  = c(2001:2012)\n",
    "for (year in years){\n",
    "    total_crime_2001 = crime_data[crime_data$Year == year, ]\n",
    "    total_crime_2001_arrest = total_crime_2001[total_crime_2001$Arrest == TRUE, ]\n",
    "    prop = nrow(total_crime_2001_arrest) / nrow(total_crime_2001)\n",
    "    result = cat(\"Proportion of crime in \",  year, \" is : \",  prop)\n",
    "    print(result)\n",
    "}"
   ]
  },
  {
   "cell_type": "code",
   "execution_count": null,
   "metadata": {},
   "outputs": [],
   "source": [
    "#prints out location where major Grand Theft Auto took plance\n",
    "# crime_data[order(crime_data$LocationDescription), ]\n",
    "order(crime_data$LocationDescription)\n"
   ]
  },
  {
   "cell_type": "code",
   "execution_count": 67,
   "metadata": {},
   "outputs": [
    {
     "data": {
      "text/html": [
       "<strong>STREET:</strong> 156564"
      ],
      "text/latex": [
       "\\textbf{STREET:} 156564"
      ],
      "text/markdown": [
       "**STREET:** 156564"
      ],
      "text/plain": [
       "STREET \n",
       "156564 "
      ]
     },
     "metadata": {},
     "output_type": "display_data"
    }
   ],
   "source": [
    "# displays the Location where maximum number of grand theft auto took place\n",
    "table_of_crime_data_location = table(crime_data$LocationDescription)\n",
    "\n",
    "index_of_max_crime = which.max(table_of_crime_data_location)\n",
    "max_crime_location = table_of_crime_data_location[index_of_max_crime]\n",
    "\n",
    "max_crime_location\n",
    "\n"
   ]
  },
  {
   "cell_type": "code",
   "execution_count": 68,
   "metadata": {},
   "outputs": [
    {
     "data": {
      "text/html": [
       "<dl class=dl-horizontal>\n",
       "\t<dt>STREET</dt>\n",
       "\t\t<dd>156564</dd>\n",
       "\t<dt>2</dt>\n",
       "\t\t<dd>&lt;NA&gt;</dd>\n",
       "\t<dt>3</dt>\n",
       "\t\t<dd>&lt;NA&gt;</dd>\n",
       "\t<dt>4</dt>\n",
       "\t\t<dd>&lt;NA&gt;</dd>\n",
       "\t<dt>5</dt>\n",
       "\t\t<dd>&lt;NA&gt;</dd>\n",
       "</dl>\n",
       "\n",
       "<details>\n",
       "\t<summary style=display:list-item;cursor:pointer>\n",
       "\t\t<strong>Levels</strong>:\n",
       "\t</summary>\n",
       "\t'156564'\n",
       "</details>"
      ],
      "text/latex": [
       "\\begin{description*}\n",
       "\\item[STREET] 156564\n",
       "\\item[2] <NA>\n",
       "\\item[3] <NA>\n",
       "\\item[4] <NA>\n",
       "\\item[5] <NA>\n",
       "\\end{description*}\n",
       "\n",
       "\\emph{Levels}: '156564'"
      ],
      "text/markdown": [
       "STREET\n",
       ":   1565642\n",
       ":   &lt;NA&gt;3\n",
       ":   &lt;NA&gt;4\n",
       ":   &lt;NA&gt;5\n",
       ":   &lt;NA&gt;\n",
       "\n",
       "\n",
       "**Levels**: '156564'"
      ],
      "text/plain": [
       "STREET   <NA>   <NA>   <NA>   <NA> \n",
       "156564   <NA>   <NA>   <NA>   <NA> \n",
       "Levels: 156564"
      ]
     },
     "metadata": {},
     "output_type": "display_data"
    }
   ],
   "source": [
    "# displays the Location where maximum number of grand theft auto took place\n",
    "table_of_crime_data_location = table(crime_data$LocationDescription)\n",
    "upto = 5\n",
    "\n",
    "index_of_max_crime = order(table_of_crime_data_location, decreasing = TRUE)\n",
    "\n",
    "max_crime_location_subset = table_of_crime_data_location[index_of_max_crime]\n",
    "\n",
    "max_crime_locations = max_crime_location[1:upto]\n",
    "# prints in a much more readable format \n",
    "factor(max_crime_locations)\n"
   ]
  },
  {
   "cell_type": "code",
   "execution_count": 66,
   "metadata": {},
   "outputs": [
    {
     "data": {
      "text/html": [
       "<strong>Saturday:</strong> 338"
      ],
      "text/latex": [
       "\\textbf{Saturday:} 338"
      ],
      "text/markdown": [
       "**Saturday:** 338"
      ],
      "text/plain": [
       "Saturday \n",
       "     338 "
      ]
     },
     "metadata": {},
     "output_type": "display_data"
    }
   ],
   "source": [
    "# Determining the day in which maximum gas pump vehicle theft occurs\n",
    "\n",
    "subset_gaspump = subset(crime_data, crime_data$LocationDescription == 'GAS STATION')\n",
    "table_of_data  = table(subset_gaspump$day_data)\n",
    "table_of_data[which.max(table_of_data)]\n",
    "# table_of_data$"
   ]
  },
  {
   "cell_type": "code",
   "execution_count": 72,
   "metadata": {},
   "outputs": [
    {
     "data": {
      "text/html": [
       "<strong>Saturday:</strong> 202"
      ],
      "text/latex": [
       "\\textbf{Saturday:} 202"
      ],
      "text/markdown": [
       "**Saturday:** 202"
      ],
      "text/plain": [
       "Saturday \n",
       "     202 "
      ]
     },
     "metadata": {},
     "output_type": "display_data"
    }
   ],
   "source": [
    "# unique(crime_data$LocationDescription);\n",
    "\n",
    "\n",
    "subset_gaspump = subset(crime_data, crime_data$LocationDescription == 'DRIVEWAY - RESIDENTIAL')\n",
    "table_of_data  = table(subset_gaspump$day_data)\n",
    "table_of_data[which.min(table_of_data)]"
   ]
  }
 ],
 "metadata": {
  "kernelspec": {
   "display_name": "R",
   "language": "R",
   "name": "ir"
  },
  "language_info": {
   "codemirror_mode": "r",
   "file_extension": ".r",
   "mimetype": "text/x-r-source",
   "name": "R",
   "pygments_lexer": "r",
   "version": "3.2.3"
  }
 },
 "nbformat": 4,
 "nbformat_minor": 2
}
