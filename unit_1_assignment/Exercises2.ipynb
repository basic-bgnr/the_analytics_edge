{
 "cells": [
  {
   "cell_type": "markdown",
   "metadata": {},
   "source": [
    "# Exercise 2\n",
    "  \n",
    "___  \n",
    "\n",
    "__Date Started__ : Nov 1, 2018\n",
    "\n",
    "___\n",
    "\n",
    "Content Details:\n",
    "* Stock Dynamics \n",
    "  * Analyzing Stock price of IBM, General Electric, Procter & Gamble, Coca Cola, Boeing\n",
    "  \n",
    "___\n",
    "\n",
    "Data Used:\n",
    " 1. [IBMStock.csv](./IBMStock.csv)\n",
    " 1. [GEStock.csv](./GEStock.csv)\n",
    " 1. [ProcterGambleStock.csv](./ProcterGambleStock.csv)\n",
    " 1. [CocaColaStock.csv](./CocaColaStock.csv) and \n",
    " 1. [BoeingStock.csv] \n",
    " \n",
    "\n"
   ]
  },
  {
   "cell_type": "code",
   "execution_count": null,
   "metadata": {},
   "outputs": [],
   "source": []
  }
 ],
 "metadata": {
  "kernelspec": {
   "display_name": "R",
   "language": "R",
   "name": "ir"
  },
  "language_info": {
   "codemirror_mode": "r",
   "file_extension": ".r",
   "mimetype": "text/x-r-source",
   "name": "R",
   "pygments_lexer": "r",
   "version": "3.2.3"
  }
 },
 "nbformat": 4,
 "nbformat_minor": 2
}
