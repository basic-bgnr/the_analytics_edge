{
 "cells": [
  {
   "cell_type": "markdown",
   "metadata": {},
   "source": [
    "# Exercise 4\n",
    "  \n",
    "___  \n",
    "\n",
    "__Date Started__ : Nov 3, 2018\n",
    "\n",
    "___\n",
    "\n",
    "Content Details:\n",
    "* Population Dynamics \n",
    "  * Analyzing Internet Statistics \n",
    "  \n",
    "___\n",
    "\n",
    "Data Used:\n",
    " 1. [AnonymityPoll.csv](./AnonymityPoll.csv)"
   ]
  },
  {
   "cell_type": "code",
   "execution_count": 1,
   "metadata": {},
   "outputs": [],
   "source": [
    "#loading data into frames\n",
    "\n",
    "\n",
    "user_data = read.csv('AnonymityPoll.csv')"
   ]
  },
  {
   "cell_type": "code",
   "execution_count": 2,
   "metadata": {},
   "outputs": [
    {
     "name": "stdout",
     "output_type": "stream",
     "text": [
      "'data.frame':\t1002 obs. of  13 variables:\n",
      " $ Internet.Use          : int  1 1 0 1 0 1 1 0 0 1 ...\n",
      " $ Smartphone            : int  0 0 1 0 NA 1 0 0 NA 0 ...\n",
      " $ Sex                   : Factor w/ 2 levels \"Female\",\"Male\": 2 2 1 2 1 2 1 1 2 1 ...\n",
      " $ Age                   : int  62 45 70 70 80 49 52 76 75 76 ...\n",
      " $ State                 : Factor w/ 49 levels \"Alabama\",\"Arizona\",..: 20 39 29 10 10 41 21 31 32 32 ...\n",
      " $ Region                : Factor w/ 4 levels \"Midwest\",\"Northeast\",..: 2 3 2 3 3 3 1 2 3 3 ...\n",
      " $ Conservativeness      : int  4 1 4 4 4 4 3 3 4 4 ...\n",
      " $ Info.On.Internet      : int  0 1 0 3 NA 6 3 NA NA 0 ...\n",
      " $ Worry.About.Info      : int  1 0 0 1 NA 0 1 NA NA 0 ...\n",
      " $ Privacy.Importance    : num  100 0 NA 88.9 NA ...\n",
      " $ Anonymity.Possible    : int  0 1 0 1 NA 1 0 NA NA 1 ...\n",
      " $ Tried.Masking.Identity: int  0 0 0 0 NA 1 0 NA NA 0 ...\n",
      " $ Privacy.Laws.Effective: int  0 1 NA 0 NA 0 1 NA 0 1 ...\n"
     ]
    },
    {
     "data": {
      "text/plain": [
       "  Internet.Use      Smartphone         Sex           Age       \n",
       " Min.   :0.0000   Min.   :0.0000   Female:505   Min.   :18.00  \n",
       " 1st Qu.:1.0000   1st Qu.:0.0000   Male  :497   1st Qu.:37.00  \n",
       " Median :1.0000   Median :1.0000                Median :55.00  \n",
       " Mean   :0.7742   Mean   :0.5078                Mean   :52.37  \n",
       " 3rd Qu.:1.0000   3rd Qu.:1.0000                3rd Qu.:66.00  \n",
       " Max.   :1.0000   Max.   :1.0000                Max.   :96.00  \n",
       " NA's   :1        NA's   :43                    NA's   :27     \n",
       "          State           Region    Conservativeness Info.On.Internet\n",
       " California  :103   Midwest  :239   Min.   :1.000    Min.   : 0.000  \n",
       " Texas       : 72   Northeast:166   1st Qu.:3.000    1st Qu.: 2.000  \n",
       " New York    : 60   South    :359   Median :3.000    Median : 4.000  \n",
       " Pennsylvania: 45   West     :238   Mean   :3.277    Mean   : 3.795  \n",
       " Florida     : 42                   3rd Qu.:4.000    3rd Qu.: 6.000  \n",
       " Ohio        : 38                   Max.   :5.000    Max.   :11.000  \n",
       " (Other)     :642                   NA's   :62       NA's   :210     \n",
       " Worry.About.Info Privacy.Importance Anonymity.Possible Tried.Masking.Identity\n",
       " Min.   :0.0000   Min.   :  0.00     Min.   :0.0000     Min.   :0.0000        \n",
       " 1st Qu.:0.0000   1st Qu.: 41.43     1st Qu.:0.0000     1st Qu.:0.0000        \n",
       " Median :0.0000   Median : 68.75     Median :0.0000     Median :0.0000        \n",
       " Mean   :0.4886   Mean   : 62.85     Mean   :0.3692     Mean   :0.1633        \n",
       " 3rd Qu.:1.0000   3rd Qu.: 88.89     3rd Qu.:1.0000     3rd Qu.:0.0000        \n",
       " Max.   :1.0000   Max.   :100.00     Max.   :1.0000     Max.   :1.0000        \n",
       " NA's   :212      NA's   :215        NA's   :249        NA's   :218           \n",
       " Privacy.Laws.Effective\n",
       " Min.   :0.0000        \n",
       " 1st Qu.:0.0000        \n",
       " Median :0.0000        \n",
       " Mean   :0.2617        \n",
       " 3rd Qu.:1.0000        \n",
       " Max.   :1.0000        \n",
       " NA's   :108           "
      ]
     },
     "metadata": {},
     "output_type": "display_data"
    }
   ],
   "source": [
    "str(user_data)\n",
    "summary(user_data)"
   ]
  },
  {
   "cell_type": "markdown",
   "metadata": {},
   "source": [
    "#### Solution to problem 1.1: 1002 user participated in the survey"
   ]
  },
  {
   "cell_type": "code",
   "execution_count": 3,
   "metadata": {},
   "outputs": [
    {
     "data": {
      "text/plain": [
       "\n",
       "  0   1 \n",
       "472 487 "
      ]
     },
     "metadata": {},
     "output_type": "display_data"
    },
    {
     "data": {
      "text/plain": [
       "\n",
       "FALSE  TRUE \n",
       "  959    43 "
      ]
     },
     "metadata": {},
     "output_type": "display_data"
    }
   ],
   "source": [
    "# solution to problem 2\n",
    "table(user_data$Smartphone)\n",
    "table(is.na(user_data$Smartphone))"
   ]
  },
  {
   "cell_type": "markdown",
   "metadata": {},
   "source": [
    "##### Solution to problem 1.2: 472 user use phone, 487 dont and there are 43 data NA in the sample study"
   ]
  },
  {
   "cell_type": "code",
   "execution_count": 4,
   "metadata": {},
   "outputs": [
    {
     "data": {
      "text/html": [
       "<ol class=list-inline>\n",
       "\t<li>Michigan</li>\n",
       "\t<li>Ohio</li>\n",
       "\t<li>Indiana</li>\n",
       "\t<li>Minnesota</li>\n",
       "\t<li>North Dakota</li>\n",
       "\t<li>Wisconsin</li>\n",
       "\t<li>Missouri</li>\n",
       "\t<li>Illinois</li>\n",
       "\t<li>Nebraska</li>\n",
       "\t<li>South Dakota</li>\n",
       "\t<li>Kansas</li>\n",
       "\t<li>Iowa</li>\n",
       "</ol>\n",
       "\n",
       "<details>\n",
       "\t<summary style=display:list-item;cursor:pointer>\n",
       "\t\t<strong>Levels</strong>:\n",
       "\t</summary>\n",
       "\t<ol class=list-inline>\n",
       "\t\t<li>'Alabama'</li>\n",
       "\t\t<li>'Arizona'</li>\n",
       "\t\t<li>'Arkansas'</li>\n",
       "\t\t<li>'California'</li>\n",
       "\t\t<li>'Colorado'</li>\n",
       "\t\t<li>'Connecticut'</li>\n",
       "\t\t<li>'Delaware'</li>\n",
       "\t\t<li>'District of Columbia'</li>\n",
       "\t\t<li>'Florida'</li>\n",
       "\t\t<li>'Georgia'</li>\n",
       "\t\t<li>'Idaho'</li>\n",
       "\t\t<li>'Illinois'</li>\n",
       "\t\t<li>'Indiana'</li>\n",
       "\t\t<li>'Iowa'</li>\n",
       "\t\t<li>'Kansas'</li>\n",
       "\t\t<li>'Kentucky'</li>\n",
       "\t\t<li>'Louisiana'</li>\n",
       "\t\t<li>'Maine'</li>\n",
       "\t\t<li>'Maryland'</li>\n",
       "\t\t<li>'Massachusetts'</li>\n",
       "\t\t<li>'Michigan'</li>\n",
       "\t\t<li>'Minnesota'</li>\n",
       "\t\t<li>'Mississippi'</li>\n",
       "\t\t<li>'Missouri'</li>\n",
       "\t\t<li>'Montana'</li>\n",
       "\t\t<li>'Nebraska'</li>\n",
       "\t\t<li>'Nevada'</li>\n",
       "\t\t<li>'New Hampshire'</li>\n",
       "\t\t<li>'New Jersey'</li>\n",
       "\t\t<li>'New Mexico'</li>\n",
       "\t\t<li>'New York'</li>\n",
       "\t\t<li>'North Carolina'</li>\n",
       "\t\t<li>'North Dakota'</li>\n",
       "\t\t<li>'Ohio'</li>\n",
       "\t\t<li>'Oklahoma'</li>\n",
       "\t\t<li>'Oregon'</li>\n",
       "\t\t<li>'Pennsylvania'</li>\n",
       "\t\t<li>'Rhode Island'</li>\n",
       "\t\t<li>'South Carolina'</li>\n",
       "\t\t<li>'South Dakota'</li>\n",
       "\t\t<li>'Tennessee'</li>\n",
       "\t\t<li>'Texas'</li>\n",
       "\t\t<li>'Utah'</li>\n",
       "\t\t<li>'Vermont'</li>\n",
       "\t\t<li>'Virginia'</li>\n",
       "\t\t<li>'Washington'</li>\n",
       "\t\t<li>'West Virginia'</li>\n",
       "\t\t<li>'Wisconsin'</li>\n",
       "\t\t<li>'Wyoming'</li>\n",
       "\t</ol>\n",
       "</details>"
      ],
      "text/latex": [
       "\\begin{enumerate*}\n",
       "\\item Michigan\n",
       "\\item Ohio\n",
       "\\item Indiana\n",
       "\\item Minnesota\n",
       "\\item North Dakota\n",
       "\\item Wisconsin\n",
       "\\item Missouri\n",
       "\\item Illinois\n",
       "\\item Nebraska\n",
       "\\item South Dakota\n",
       "\\item Kansas\n",
       "\\item Iowa\n",
       "\\end{enumerate*}\n",
       "\n",
       "\\emph{Levels}: \\begin{enumerate*}\n",
       "\\item 'Alabama'\n",
       "\\item 'Arizona'\n",
       "\\item 'Arkansas'\n",
       "\\item 'California'\n",
       "\\item 'Colorado'\n",
       "\\item 'Connecticut'\n",
       "\\item 'Delaware'\n",
       "\\item 'District of Columbia'\n",
       "\\item 'Florida'\n",
       "\\item 'Georgia'\n",
       "\\item 'Idaho'\n",
       "\\item 'Illinois'\n",
       "\\item 'Indiana'\n",
       "\\item 'Iowa'\n",
       "\\item 'Kansas'\n",
       "\\item 'Kentucky'\n",
       "\\item 'Louisiana'\n",
       "\\item 'Maine'\n",
       "\\item 'Maryland'\n",
       "\\item 'Massachusetts'\n",
       "\\item 'Michigan'\n",
       "\\item 'Minnesota'\n",
       "\\item 'Mississippi'\n",
       "\\item 'Missouri'\n",
       "\\item 'Montana'\n",
       "\\item 'Nebraska'\n",
       "\\item 'Nevada'\n",
       "\\item 'New Hampshire'\n",
       "\\item 'New Jersey'\n",
       "\\item 'New Mexico'\n",
       "\\item 'New York'\n",
       "\\item 'North Carolina'\n",
       "\\item 'North Dakota'\n",
       "\\item 'Ohio'\n",
       "\\item 'Oklahoma'\n",
       "\\item 'Oregon'\n",
       "\\item 'Pennsylvania'\n",
       "\\item 'Rhode Island'\n",
       "\\item 'South Carolina'\n",
       "\\item 'South Dakota'\n",
       "\\item 'Tennessee'\n",
       "\\item 'Texas'\n",
       "\\item 'Utah'\n",
       "\\item 'Vermont'\n",
       "\\item 'Virginia'\n",
       "\\item 'Washington'\n",
       "\\item 'West Virginia'\n",
       "\\item 'Wisconsin'\n",
       "\\item 'Wyoming'\n",
       "\\end{enumerate*}\n"
      ],
      "text/markdown": [
       "1. Michigan\n",
       "2. Ohio\n",
       "3. Indiana\n",
       "4. Minnesota\n",
       "5. North Dakota\n",
       "6. Wisconsin\n",
       "7. Missouri\n",
       "8. Illinois\n",
       "9. Nebraska\n",
       "10. South Dakota\n",
       "11. Kansas\n",
       "12. Iowa\n",
       "\n",
       "\n",
       "\n",
       "**Levels**: 1. 'Alabama'\n",
       "2. 'Arizona'\n",
       "3. 'Arkansas'\n",
       "4. 'California'\n",
       "5. 'Colorado'\n",
       "6. 'Connecticut'\n",
       "7. 'Delaware'\n",
       "8. 'District of Columbia'\n",
       "9. 'Florida'\n",
       "10. 'Georgia'\n",
       "11. 'Idaho'\n",
       "12. 'Illinois'\n",
       "13. 'Indiana'\n",
       "14. 'Iowa'\n",
       "15. 'Kansas'\n",
       "16. 'Kentucky'\n",
       "17. 'Louisiana'\n",
       "18. 'Maine'\n",
       "19. 'Maryland'\n",
       "20. 'Massachusetts'\n",
       "21. 'Michigan'\n",
       "22. 'Minnesota'\n",
       "23. 'Mississippi'\n",
       "24. 'Missouri'\n",
       "25. 'Montana'\n",
       "26. 'Nebraska'\n",
       "27. 'Nevada'\n",
       "28. 'New Hampshire'\n",
       "29. 'New Jersey'\n",
       "30. 'New Mexico'\n",
       "31. 'New York'\n",
       "32. 'North Carolina'\n",
       "33. 'North Dakota'\n",
       "34. 'Ohio'\n",
       "35. 'Oklahoma'\n",
       "36. 'Oregon'\n",
       "37. 'Pennsylvania'\n",
       "38. 'Rhode Island'\n",
       "39. 'South Carolina'\n",
       "40. 'South Dakota'\n",
       "41. 'Tennessee'\n",
       "42. 'Texas'\n",
       "43. 'Utah'\n",
       "44. 'Vermont'\n",
       "45. 'Virginia'\n",
       "46. 'Washington'\n",
       "47. 'West Virginia'\n",
       "48. 'Wisconsin'\n",
       "49. 'Wyoming'\n",
       "\n",
       "\n"
      ],
      "text/plain": [
       " [1] Michigan     Ohio         Indiana      Minnesota    North Dakota\n",
       " [6] Wisconsin    Missouri     Illinois     Nebraska     South Dakota\n",
       "[11] Kansas       Iowa        \n",
       "49 Levels: Alabama Arizona Arkansas California Colorado ... Wyoming"
      ]
     },
     "metadata": {},
     "output_type": "display_data"
    }
   ],
   "source": [
    "#solution to determine the states in Midwest region\n",
    "unique(user_data$State[user_data$Region == 'Midwest'])"
   ]
  },
  {
   "cell_type": "code",
   "execution_count": 5,
   "metadata": {},
   "outputs": [
    {
     "data": {
      "text/html": [
       "<strong>Texas:</strong> 72"
      ],
      "text/latex": [
       "\\textbf{Texas:} 72"
      ],
      "text/markdown": [
       "**Texas:** 72"
      ],
      "text/plain": [
       "Texas \n",
       "   72 "
      ]
     },
     "metadata": {},
     "output_type": "display_data"
    }
   ],
   "source": [
    "#states in south region with maximum number of interviewee\n",
    "sort(table(user_data$State[user_data$Region == 'South']), decreasing = TRUE)[1]"
   ]
  },
  {
   "cell_type": "code",
   "execution_count": 6,
   "metadata": {},
   "outputs": [
    {
     "name": "stdout",
     "output_type": "stream",
     "text": [
      "[1] \"user with no phone and internet\"\n"
     ]
    },
    {
     "data": {
      "text/html": [
       "186"
      ],
      "text/latex": [
       "186"
      ],
      "text/markdown": [
       "186"
      ],
      "text/plain": [
       "[1] 186"
      ]
     },
     "metadata": {},
     "output_type": "display_data"
    }
   ],
   "source": [
    "# solution to problem 2.1\n",
    "\n",
    "user_data_no_phone_no_internet = subset(user_data, user_data$Internet.Use == FALSE & user_data$Smartphone == FALSE, na.rm = TRUE)\n",
    "# str(user_data_no_phone_no_internet)\n",
    "print('user with no phone and internet')\n",
    "nrow(user_data_no_phone_no_internet)"
   ]
  },
  {
   "cell_type": "code",
   "execution_count": 7,
   "metadata": {},
   "outputs": [
    {
     "name": "stdout",
     "output_type": "stream",
     "text": [
      "[1] \"user with phone and internet\"\n"
     ]
    },
    {
     "data": {
      "text/html": [
       "470"
      ],
      "text/latex": [
       "470"
      ],
      "text/markdown": [
       "470"
      ],
      "text/plain": [
       "[1] 470"
      ]
     },
     "metadata": {},
     "output_type": "display_data"
    }
   ],
   "source": [
    "user_data_phone_internet = subset(user_data, user_data$Internet.Use == TRUE & user_data$Smartphone == TRUE, na.rm = TRUE)\n",
    "print('user with phone and internet')\n",
    "nrow(user_data_phone_internet)"
   ]
  },
  {
   "cell_type": "code",
   "execution_count": 8,
   "metadata": {},
   "outputs": [
    {
     "name": "stdout",
     "output_type": "stream",
     "text": [
      "[1] \"user with Phone but no Internet\"\n"
     ]
    },
    {
     "data": {
      "text/html": [
       "17"
      ],
      "text/latex": [
       "17"
      ],
      "text/markdown": [
       "17"
      ],
      "text/plain": [
       "[1] 17"
      ]
     },
     "metadata": {},
     "output_type": "display_data"
    }
   ],
   "source": [
    "user_data_phone_no_internet = subset(user_data, user_data$Internet.Use == FALSE & user_data$Smartphone == TRUE, na.rm = TRUE)\n",
    "print('user with Phone but no Internet')\n",
    "nrow(user_data_phone_no_internet)"
   ]
  },
  {
   "cell_type": "code",
   "execution_count": 9,
   "metadata": {},
   "outputs": [
    {
     "name": "stdout",
     "output_type": "stream",
     "text": [
      "[1] \"user with Internet but no phone\"\n"
     ]
    },
    {
     "data": {
      "text/html": [
       "285"
      ],
      "text/latex": [
       "285"
      ],
      "text/markdown": [
       "285"
      ],
      "text/plain": [
       "[1] 285"
      ]
     },
     "metadata": {},
     "output_type": "display_data"
    }
   ],
   "source": [
    "user_data_no_phone_internet= subset(user_data, user_data$Internet.Use == TRUE & user_data$Smartphone == FALSE, na.rm = TRUE)\n",
    "print('user with Internet but no phone')\n",
    "nrow(user_data_no_phone_internet)"
   ]
  },
  {
   "cell_type": "code",
   "execution_count": 10,
   "metadata": {},
   "outputs": [
    {
     "name": "stdout",
     "output_type": "stream",
     "text": [
      "[1] \"no of na for internet user, smartphone user\"\n"
     ]
    },
    {
     "data": {
      "text/html": [
       "1"
      ],
      "text/latex": [
       "1"
      ],
      "text/markdown": [
       "1"
      ],
      "text/plain": [
       "[1] 1"
      ]
     },
     "metadata": {},
     "output_type": "display_data"
    },
    {
     "data": {
      "text/html": [
       "43"
      ],
      "text/latex": [
       "43"
      ],
      "text/markdown": [
       "43"
      ],
      "text/plain": [
       "[1] 43"
      ]
     },
     "metadata": {},
     "output_type": "display_data"
    }
   ],
   "source": [
    "#solution to problem 2.2\n",
    "na_for_internet_user = user_data[is.na(user_data$Internet.Use),]\n",
    "na_for_smartphone_user = user_data[is.na(user_data$Smartphone),]\n",
    "\n",
    "print('no of na for internet user, smartphone user')\n",
    "nrow(na_for_internet_user)\n",
    "nrow(na_for_smartphone_user)\n",
    "\n",
    "\n",
    "# print(length(na_for_internet_user))\n",
    "# print(length(na_for_smartphone_user))\n",
    "\n",
    "# summary(user_data)"
   ]
  },
  {
   "cell_type": "code",
   "execution_count": 11,
   "metadata": {},
   "outputs": [
    {
     "data": {
      "text/html": [
       "792"
      ],
      "text/latex": [
       "792"
      ],
      "text/markdown": [
       "792"
      ],
      "text/plain": [
       "[1] 792"
      ]
     },
     "metadata": {},
     "output_type": "display_data"
    }
   ],
   "source": [
    "#solution to problem 2.3\n",
    "#calculate the subset of data of smartphone and internet user\n",
    "\n",
    "limited = subset(user_data, user_data$Smartphone==TRUE | user_data$Internet.Use==TRUE, na.rm = TRUE)\n",
    "nrow(limited)"
   ]
  },
  {
   "cell_type": "code",
   "execution_count": 12,
   "metadata": {},
   "outputs": [
    {
     "data": {
      "text/plain": [
       "  Internet.Use      Smartphone         Sex           Age       \n",
       " Min.   :0.0000   Min.   :0.0000   Female:392   Min.   :18.00  \n",
       " 1st Qu.:1.0000   1st Qu.:0.0000   Male  :400   1st Qu.:33.00  \n",
       " Median :1.0000   Median :1.0000                Median :51.00  \n",
       " Mean   :0.9785   Mean   :0.6308                Mean   :48.57  \n",
       " 3rd Qu.:1.0000   3rd Qu.:1.0000                3rd Qu.:62.00  \n",
       " Max.   :1.0000   Max.   :1.0000                Max.   :93.00  \n",
       "                  NA's   :20                    NA's   :22     \n",
       "            State           Region    Conservativeness Info.On.Internet\n",
       " California    : 89   Midwest  :172   Min.   :1.000    Min.   : 0.000  \n",
       " Texas         : 57   Northeast:128   1st Qu.:3.000    1st Qu.: 2.000  \n",
       " New York      : 45   South    :288   Median :3.000    Median : 4.000  \n",
       " Pennsylvania  : 33   West     :204   Mean   :3.237    Mean   : 3.795  \n",
       " Florida       : 32                   3rd Qu.:4.000    3rd Qu.: 6.000  \n",
       " North Carolina: 28                   Max.   :5.000    Max.   :11.000  \n",
       " (Other)       :508                   NA's   :45                       \n",
       " Worry.About.Info Privacy.Importance Anonymity.Possible Tried.Masking.Identity\n",
       " Min.   :0.0000   Min.   :  0.00     Min.   :0.0000     Min.   :0.0000        \n",
       " 1st Qu.:0.0000   1st Qu.: 41.43     1st Qu.:0.0000     1st Qu.:0.0000        \n",
       " Median :0.0000   Median : 68.75     Median :0.0000     Median :0.0000        \n",
       " Mean   :0.4886   Mean   : 62.85     Mean   :0.3692     Mean   :0.1633        \n",
       " 3rd Qu.:1.0000   3rd Qu.: 88.89     3rd Qu.:1.0000     3rd Qu.:0.0000        \n",
       " Max.   :1.0000   Max.   :100.00     Max.   :1.0000     Max.   :1.0000        \n",
       " NA's   :2        NA's   :5          NA's   :39         NA's   :8             \n",
       " Privacy.Laws.Effective\n",
       " Min.   :0.0000        \n",
       " 1st Qu.:0.0000        \n",
       " Median :0.0000        \n",
       " Mean   :0.2559        \n",
       " 3rd Qu.:1.0000        \n",
       " Max.   :1.0000        \n",
       " NA's   :65            "
      ]
     },
     "metadata": {},
     "output_type": "display_data"
    }
   ],
   "source": [
    "#solution to problem 2.4\n",
    "# calculate the no. of na in each fields of limited frame\n",
    "\n",
    "#solutions are:\n",
    "# Smartphone\n",
    "# Age\n",
    "# State\n",
    "# Conservativeness\n",
    "# Worry.about.info\n",
    "# Privacy.About.Info\n",
    "# Anonymity \n",
    "# Tried Masking Identity\n",
    "# Privacy law ineffective\n",
    "summary(limited)\n",
    "\n"
   ]
  },
  {
   "cell_type": "code",
   "execution_count": 13,
   "metadata": {},
   "outputs": [
    {
     "data": {
      "text/html": [
       "3.79545454545455"
      ],
      "text/latex": [
       "3.79545454545455"
      ],
      "text/markdown": [
       "3.79545454545455"
      ],
      "text/plain": [
       "[1] 3.795455"
      ]
     },
     "metadata": {},
     "output_type": "display_data"
    }
   ],
   "source": [
    "# Solution to problem 3.2\n",
    "# mean value of the info available on the internet\n",
    "mean(user_data$Info.On.Internet, na.rm=TRUE)"
   ]
  },
  {
   "cell_type": "code",
   "execution_count": 30,
   "metadata": {},
   "outputs": [
    {
     "ename": "ERROR",
     "evalue": "Error in subset.data.frame(user_data, user_data$Info.On.Internet, na.rm = TRUE): 'subset' must be logical\n",
     "output_type": "error",
     "traceback": [
      "Error in subset.data.frame(user_data, user_data$Info.On.Internet, na.rm = TRUE): 'subset' must be logical\nTraceback:\n",
      "1. subset(user_data, user_data$Info.On.Internet, na.rm = TRUE)",
      "2. subset.data.frame(user_data, user_data$Info.On.Internet, na.rm = TRUE)",
      "3. stop(\"'subset' must be logical\")"
     ]
    }
   ],
   "source": [
    "# solution to problem 3.3\n",
    "# no of user with 0 info in the internet\n",
    "no_user_info_internet = subset(user_data, user_data$Info.On.Internet,na.rm=TRUE)\n",
    "nrow(no_user_info_internet)\n",
    "\n",
    "# no of user with 11 level of info in the internet\n",
    "max_user_info_internet = subset(user_data, user_data$Info.On.Internet == 11, na.rm=TRUE)\n",
    "nrow(max_user_info_internet)"
   ]
  },
  {
   "cell_type": "code",
   "execution_count": 38,
   "metadata": {},
   "outputs": [
    {
     "data": {
      "text/plain": [
       "\n",
       "  0   1 \n",
       "404 386 "
      ]
     },
     "metadata": {},
     "output_type": "display_data"
    },
    {
     "data": {
      "text/html": [
       "0.488607594936709"
      ],
      "text/latex": [
       "0.488607594936709"
      ],
      "text/markdown": [
       "0.488607594936709"
      ],
      "text/plain": [
       "[1] 0.4886076"
      ]
     },
     "metadata": {},
     "output_type": "display_data"
    }
   ],
   "source": [
    "# solution to problem 3.4 \n",
    "# proportion of people who worry about their information being shared on the internet\n",
    "table(user_data$Worry.About.Info)\n",
    "386/(386 + 404)"
   ]
  },
  {
   "cell_type": "code",
   "execution_count": 40,
   "metadata": {},
   "outputs": [
    {
     "data": {
      "text/plain": [
       "\n",
       "  0   1 \n",
       "475 278 "
      ]
     },
     "metadata": {},
     "output_type": "display_data"
    },
    {
     "data": {
      "text/html": [
       "0.369189907038513"
      ],
      "text/latex": [
       "0.369189907038513"
      ],
      "text/markdown": [
       "0.369189907038513"
      ],
      "text/plain": [
       "[1] 0.3691899"
      ]
     },
     "metadata": {},
     "output_type": "display_data"
    }
   ],
   "source": [
    "#solution to problem 3.5\n",
    "#prop of people who think anonymity is possible\n",
    "\n",
    "table(user_data$Anonymity.Possible)\n",
    "\n",
    "278/(475+278)"
   ]
  },
  {
   "cell_type": "code",
   "execution_count": 47,
   "metadata": {},
   "outputs": [
    {
     "data": {
      "text/plain": [
       "\n",
       "  0   1 \n",
       "656 128 "
      ]
     },
     "metadata": {},
     "output_type": "display_data"
    },
    {
     "data": {
      "text/html": [
       "0.163265306122449"
      ],
      "text/latex": [
       "0.163265306122449"
      ],
      "text/markdown": [
       "0.163265306122449"
      ],
      "text/plain": [
       "[1] 0.1632653"
      ]
     },
     "metadata": {},
     "output_type": "display_data"
    }
   ],
   "source": [
    "#solution to problem 3.6\n",
    "#proporting of people who tried masking their identity\n",
    "\n",
    "table(user_data$Tried.Masking.Identity)\n",
    "\n",
    "128/(656+128)\n"
   ]
  },
  {
   "cell_type": "code",
   "execution_count": 48,
   "metadata": {},
   "outputs": [
    {
     "data": {
      "image/png": "[encoded data removed]",
      "text/plain": [
       "Plot with title “Histogram of user_data$Age”"
      ]
     },
     "metadata": {},
     "output_type": "display_data"
    }
   ],
   "source": [
    "hist(user_data$Age)"
   ]
  },
  {
   "cell_type": "code",
   "execution_count": 64,
   "metadata": {},
   "outputs": [
    {
     "data": {
      "text/html": [
       "6"
      ],
      "text/latex": [
       "6"
      ],
      "text/markdown": [
       "6"
      ],
      "text/plain": [
       "[1] 6"
      ]
     },
     "metadata": {},
     "output_type": "display_data"
    },
    {
     "data": {
      "image/png": "[encoded data removed]",
      "text/plain": [
       "plot without title"
      ]
     },
     "metadata": {},
     "output_type": "display_data"
    }
   ],
   "source": [
    "max(table(user_data$Age, user_data$Info.On.Internet))\n",
    "scatter.smooth(user_data$Age, user_data$Info.On.Internet)"
   ]
  },
  {
   "cell_type": "code",
   "execution_count": 72,
   "metadata": {},
   "outputs": [
    {
     "data": {
      "image/png": "[encoded data removed]",
      "text/plain": [
       "plot without title"
      ]
     },
     "metadata": {},
     "output_type": "display_data"
    }
   ],
   "source": [
    "# function of jitter fuction \n",
    "scatter.smooth(jitter(user_data$Age), jitter(user_data$Info.On.Internet))"
   ]
  },
  {
   "cell_type": "code",
   "execution_count": 74,
   "metadata": {},
   "outputs": [
    {
     "name": "stderr",
     "output_type": "stream",
     "text": [
      "ERROR while rich displaying an object: Error in dn[[2L]]: subscript out of bounds\n",
      "\n",
      "Traceback:\n",
      "1. FUN(X[[i]], ...)\n",
      "2. tryCatch(withCallingHandlers({\n",
      " .     if (!mime %in% names(repr::mime2repr)) \n",
      " .         stop(\"No repr_* for mimetype \", mime, \" in repr::mime2repr\")\n",
      " .     rpr <- repr::mime2repr[[mime]](obj)\n",
      " .     if (is.null(rpr)) \n",
      " .         return(NULL)\n",
      " .     prepare_content(is.raw(rpr), rpr)\n",
      " . }, error = error_handler), error = outer_handler)\n",
      "3. tryCatchList(expr, classes, parentenv, handlers)\n",
      "4. tryCatchOne(expr, names, parentenv, handlers[[1L]])\n",
      "5. doTryCatch(return(expr), name, parentenv, handler)\n",
      "6. withCallingHandlers({\n",
      " .     if (!mime %in% names(repr::mime2repr)) \n",
      " .         stop(\"No repr_* for mimetype \", mime, \" in repr::mime2repr\")\n",
      " .     rpr <- repr::mime2repr[[mime]](obj)\n",
      " .     if (is.null(rpr)) \n",
      " .         return(NULL)\n",
      " .     prepare_content(is.raw(rpr), rpr)\n",
      " . }, error = error_handler)\n",
      "7. repr::mime2repr[[mime]](obj)\n",
      "8. repr_markdown.numeric(obj)\n",
      "9. repr_vector_generic(html_escape_names(obj), \"%s. %s\\n\", \"%s\\n:   %s\", \n",
      " .     \"**%s:** %s\", \"%s\\n\\n\", item_uses_numbers = TRUE, escape_fun = html_escape)\n",
      "10. html_escape_names(obj)\n",
      "11. .escape_names(obj, \"html\")\n",
      "12. colnames(obj)\n",
      "ERROR while rich displaying an object: Error in dn[[2L]]: subscript out of bounds\n",
      "\n",
      "Traceback:\n",
      "1. FUN(X[[i]], ...)\n",
      "2. tryCatch(withCallingHandlers({\n",
      " .     if (!mime %in% names(repr::mime2repr)) \n",
      " .         stop(\"No repr_* for mimetype \", mime, \" in repr::mime2repr\")\n",
      " .     rpr <- repr::mime2repr[[mime]](obj)\n",
      " .     if (is.null(rpr)) \n",
      " .         return(NULL)\n",
      " .     prepare_content(is.raw(rpr), rpr)\n",
      " . }, error = error_handler), error = outer_handler)\n",
      "3. tryCatchList(expr, classes, parentenv, handlers)\n",
      "4. tryCatchOne(expr, names, parentenv, handlers[[1L]])\n",
      "5. doTryCatch(return(expr), name, parentenv, handler)\n",
      "6. withCallingHandlers({\n",
      " .     if (!mime %in% names(repr::mime2repr)) \n",
      " .         stop(\"No repr_* for mimetype \", mime, \" in repr::mime2repr\")\n",
      " .     rpr <- repr::mime2repr[[mime]](obj)\n",
      " .     if (is.null(rpr)) \n",
      " .         return(NULL)\n",
      " .     prepare_content(is.raw(rpr), rpr)\n",
      " . }, error = error_handler)\n",
      "7. repr::mime2repr[[mime]](obj)\n",
      "8. repr_latex.numeric(obj)\n",
      "9. repr_vector_generic(latex_escape_names(obj), \"\\\\item %s\\n\", \"\\\\item[%s] %s\\n\", \n",
      " .     \"\\\\textbf{%s:} %s\", enum_wrap = \"\\\\begin{enumerate*}\\n%s\\\\end{enumerate*}\\n\", \n",
      " .     named_wrap = \"\\\\begin{description*}\\n%s\\\\end{description*}\\n\", \n",
      " .     only_named_item = \"\\\\textbf{%s:} %s\", escape_fun = latex_escape)\n",
      "10. latex_escape_names(obj)\n",
      "11. .escape_names(obj, \"latex\")\n",
      "12. colnames(obj)\n"
     ]
    },
    {
     "data": {
      "text/html": [
       "<dl class=dl-horizontal>\n",
       "\t<dt>0</dt>\n",
       "\t\t<dd>2.92280701754386</dd>\n",
       "\t<dt>1</dt>\n",
       "\t\t<dd>4.36755646817248</dd>\n",
       "</dl>\n"
      ],
      "text/plain": [
       "       0        1 \n",
       "2.922807 4.367556 "
      ]
     },
     "metadata": {},
     "output_type": "display_data"
    }
   ],
   "source": [
    "# solution to problem 4.6\n",
    "#relation of info on internet to the smartphone use\n",
    "tapply(user_data$Info.On.Internet, user_data$Smartphone, mean, na.rm = TRUE)"
   ]
  },
  {
   "cell_type": "code",
   "execution_count": 81,
   "metadata": {},
   "outputs": [
    {
     "name": "stderr",
     "output_type": "stream",
     "text": [
      "ERROR while rich displaying an object: Error in dn[[2L]]: subscript out of bounds\n",
      "\n",
      "Traceback:\n",
      "1. FUN(X[[i]], ...)\n",
      "2. tryCatch(withCallingHandlers({\n",
      " .     if (!mime %in% names(repr::mime2repr)) \n",
      " .         stop(\"No repr_* for mimetype \", mime, \" in repr::mime2repr\")\n",
      " .     rpr <- repr::mime2repr[[mime]](obj)\n",
      " .     if (is.null(rpr)) \n",
      " .         return(NULL)\n",
      " .     prepare_content(is.raw(rpr), rpr)\n",
      " . }, error = error_handler), error = outer_handler)\n",
      "3. tryCatchList(expr, classes, parentenv, handlers)\n",
      "4. tryCatchOne(expr, names, parentenv, handlers[[1L]])\n",
      "5. doTryCatch(return(expr), name, parentenv, handler)\n",
      "6. withCallingHandlers({\n",
      " .     if (!mime %in% names(repr::mime2repr)) \n",
      " .         stop(\"No repr_* for mimetype \", mime, \" in repr::mime2repr\")\n",
      " .     rpr <- repr::mime2repr[[mime]](obj)\n",
      " .     if (is.null(rpr)) \n",
      " .         return(NULL)\n",
      " .     prepare_content(is.raw(rpr), rpr)\n",
      " . }, error = error_handler)\n",
      "7. repr::mime2repr[[mime]](obj)\n",
      "8. repr_markdown.numeric(obj)\n",
      "9. repr_vector_generic(html_escape_names(obj), \"%s. %s\\n\", \"%s\\n:   %s\", \n",
      " .     \"**%s:** %s\", \"%s\\n\\n\", item_uses_numbers = TRUE, escape_fun = html_escape)\n",
      "10. html_escape_names(obj)\n",
      "11. .escape_names(obj, \"html\")\n",
      "12. colnames(obj)\n",
      "ERROR while rich displaying an object: Error in dn[[2L]]: subscript out of bounds\n",
      "\n",
      "Traceback:\n",
      "1. FUN(X[[i]], ...)\n",
      "2. tryCatch(withCallingHandlers({\n",
      " .     if (!mime %in% names(repr::mime2repr)) \n",
      " .         stop(\"No repr_* for mimetype \", mime, \" in repr::mime2repr\")\n",
      " .     rpr <- repr::mime2repr[[mime]](obj)\n",
      " .     if (is.null(rpr)) \n",
      " .         return(NULL)\n",
      " .     prepare_content(is.raw(rpr), rpr)\n",
      " . }, error = error_handler), error = outer_handler)\n",
      "3. tryCatchList(expr, classes, parentenv, handlers)\n",
      "4. tryCatchOne(expr, names, parentenv, handlers[[1L]])\n",
      "5. doTryCatch(return(expr), name, parentenv, handler)\n",
      "6. withCallingHandlers({\n",
      " .     if (!mime %in% names(repr::mime2repr)) \n",
      " .         stop(\"No repr_* for mimetype \", mime, \" in repr::mime2repr\")\n",
      " .     rpr <- repr::mime2repr[[mime]](obj)\n",
      " .     if (is.null(rpr)) \n",
      " .         return(NULL)\n",
      " .     prepare_content(is.raw(rpr), rpr)\n",
      " . }, error = error_handler)\n",
      "7. repr::mime2repr[[mime]](obj)\n",
      "8. repr_latex.numeric(obj)\n",
      "9. repr_vector_generic(latex_escape_names(obj), \"\\\\item %s\\n\", \"\\\\item[%s] %s\\n\", \n",
      " .     \"\\\\textbf{%s:} %s\", enum_wrap = \"\\\\begin{enumerate*}\\n%s\\\\end{enumerate*}\\n\", \n",
      " .     named_wrap = \"\\\\begin{description*}\\n%s\\\\end{description*}\\n\", \n",
      " .     only_named_item = \"\\\\textbf{%s:} %s\", escape_fun = latex_escape)\n",
      "10. latex_escape_names(obj)\n",
      "11. .escape_names(obj, \"latex\")\n",
      "12. colnames(obj)\n"
     ]
    },
    {
     "data": {
      "text/html": [
       "<dl class=dl-horizontal>\n",
       "\t<dt>0</dt>\n",
       "\t\t<dd>0.0625</dd>\n",
       "\t<dt>1</dt>\n",
       "\t\t<dd>0.197002141327623</dd>\n",
       "</dl>\n"
      ],
      "text/plain": [
       "        0         1 \n",
       "0.0625000 0.1970021 "
      ]
     },
     "metadata": {},
     "output_type": "display_data"
    },
    {
     "name": "stderr",
     "output_type": "stream",
     "text": [
      "ERROR while rich displaying an object: Error in dn[[2L]]: subscript out of bounds\n",
      "\n",
      "Traceback:\n",
      "1. FUN(X[[i]], ...)\n",
      "2. tryCatch(withCallingHandlers({\n",
      " .     if (!mime %in% names(repr::mime2repr)) \n",
      " .         stop(\"No repr_* for mimetype \", mime, \" in repr::mime2repr\")\n",
      " .     rpr <- repr::mime2repr[[mime]](obj)\n",
      " .     if (is.null(rpr)) \n",
      " .         return(NULL)\n",
      " .     prepare_content(is.raw(rpr), rpr)\n",
      " . }, error = error_handler), error = outer_handler)\n",
      "3. tryCatchList(expr, classes, parentenv, handlers)\n",
      "4. tryCatchOne(expr, names, parentenv, handlers[[1L]])\n",
      "5. doTryCatch(return(expr), name, parentenv, handler)\n",
      "6. withCallingHandlers({\n",
      " .     if (!mime %in% names(repr::mime2repr)) \n",
      " .         stop(\"No repr_* for mimetype \", mime, \" in repr::mime2repr\")\n",
      " .     rpr <- repr::mime2repr[[mime]](obj)\n",
      " .     if (is.null(rpr)) \n",
      " .         return(NULL)\n",
      " .     prepare_content(is.raw(rpr), rpr)\n",
      " . }, error = error_handler)\n",
      "7. repr::mime2repr[[mime]](obj)\n",
      "8. repr_markdown.numeric(obj)\n",
      "9. repr_vector_generic(html_escape_names(obj), \"%s. %s\\n\", \"%s\\n:   %s\", \n",
      " .     \"**%s:** %s\", \"%s\\n\\n\", item_uses_numbers = TRUE, escape_fun = html_escape)\n",
      "10. html_escape_names(obj)\n",
      "11. .escape_names(obj, \"html\")\n",
      "12. colnames(obj)\n",
      "ERROR while rich displaying an object: Error in dn[[2L]]: subscript out of bounds\n",
      "\n",
      "Traceback:\n",
      "1. FUN(X[[i]], ...)\n",
      "2. tryCatch(withCallingHandlers({\n",
      " .     if (!mime %in% names(repr::mime2repr)) \n",
      " .         stop(\"No repr_* for mimetype \", mime, \" in repr::mime2repr\")\n",
      " .     rpr <- repr::mime2repr[[mime]](obj)\n",
      " .     if (is.null(rpr)) \n",
      " .         return(NULL)\n",
      " .     prepare_content(is.raw(rpr), rpr)\n",
      " . }, error = error_handler), error = outer_handler)\n",
      "3. tryCatchList(expr, classes, parentenv, handlers)\n",
      "4. tryCatchOne(expr, names, parentenv, handlers[[1L]])\n",
      "5. doTryCatch(return(expr), name, parentenv, handler)\n",
      "6. withCallingHandlers({\n",
      " .     if (!mime %in% names(repr::mime2repr)) \n",
      " .         stop(\"No repr_* for mimetype \", mime, \" in repr::mime2repr\")\n",
      " .     rpr <- repr::mime2repr[[mime]](obj)\n",
      " .     if (is.null(rpr)) \n",
      " .         return(NULL)\n",
      " .     prepare_content(is.raw(rpr), rpr)\n",
      " . }, error = error_handler)\n",
      "7. repr::mime2repr[[mime]](obj)\n",
      "8. repr_latex.numeric(obj)\n",
      "9. repr_vector_generic(latex_escape_names(obj), \"\\\\item %s\\n\", \"\\\\item[%s] %s\\n\", \n",
      " .     \"\\\\textbf{%s:} %s\", enum_wrap = \"\\\\begin{enumerate*}\\n%s\\\\end{enumerate*}\\n\", \n",
      " .     named_wrap = \"\\\\begin{description*}\\n%s\\\\end{description*}\\n\", \n",
      " .     only_named_item = \"\\\\textbf{%s:} %s\", escape_fun = latex_escape)\n",
      "10. latex_escape_names(obj)\n",
      "11. .escape_names(obj, \"latex\")\n",
      "12. colnames(obj)\n"
     ]
    },
    {
     "data": {
      "text/html": [
       "<dl class=dl-horizontal>\n",
       "\t<dt>0</dt>\n",
       "\t\t<dd>NaN</dd>\n",
       "\t<dt>1</dt>\n",
       "\t\t<dd>0.117437722419929</dd>\n",
       "</dl>\n"
      ],
      "text/plain": [
       "        0         1 \n",
       "      NaN 0.1174377 "
      ]
     },
     "metadata": {},
     "output_type": "display_data"
    }
   ],
   "source": [
    "# solution to problem 4.6 (tried masking identity)\n",
    "smart_phone_user = subset(user_data, user_data$Smartphone == 1, na.rm = TRUE)\n",
    "non_smart_phone_user = subset(user_data, user_data$Smartphone == 0, na.rm = TRUE)\n",
    "tapply(smart_phone_user$Tried.Masking.Identity, smart_phone_user$Internet.Use, mean, na.rm = TRUE)\n",
    "tapply(non_smart_phone_user$Tried.Masking.Identity, non_smart_phone_user$Internet.Use, mean, na.rm = TRUE)"
   ]
  }
 ],
 "metadata": {
  "kernelspec": {
   "display_name": "R",
   "language": "R",
   "name": "ir"
  },
  "language_info": {
   "codemirror_mode": "r",
   "file_extension": ".r",
   "mimetype": "text/x-r-source",
   "name": "R",
   "pygments_lexer": "r",
   "version": "3.2.3"
  }
 },
 "nbformat": 4,
 "nbformat_minor": 2
}
