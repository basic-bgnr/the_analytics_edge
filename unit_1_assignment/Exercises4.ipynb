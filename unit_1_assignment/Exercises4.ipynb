{
 "cells": [
  {
   "cell_type": "markdown",
   "metadata": {},
   "source": [
    "# Exercise 4\n",
    "  \n",
    "___  \n",
    "\n",
    "__Date Started__ : Nov 3, 2018\n",
    "\n",
    "___\n",
    "\n",
    "Content Details:\n",
    "* Population Dynamics \n",
    "  * Analyzing Internet Statistics \n",
    "  \n",
    "___\n",
    "\n",
    "Data Used:\n",
    " 1. [AnonymityPoll.csv](./AnonymityPoll.csv)"
   ]
  },
  {
   "cell_type": "code",
   "execution_count": 2,
   "metadata": {},
   "outputs": [],
   "source": [
    "#loading data into frames\n",
    "\n",
    "\n",
    "user_data = read.csv('AnonymityPoll.csv')"
   ]
  },
  {
   "cell_type": "code",
   "execution_count": 4,
   "metadata": {},
   "outputs": [
    {
     "name": "stdout",
     "output_type": "stream",
     "text": [
      "'data.frame':\t1002 obs. of  13 variables:\n",
      " $ Internet.Use          : int  1 1 0 1 0 1 1 0 0 1 ...\n",
      " $ Smartphone            : int  0 0 1 0 NA 1 0 0 NA 0 ...\n",
      " $ Sex                   : Factor w/ 2 levels \"Female\",\"Male\": 2 2 1 2 1 2 1 1 2 1 ...\n",
      " $ Age                   : int  62 45 70 70 80 49 52 76 75 76 ...\n",
      " $ State                 : Factor w/ 49 levels \"Alabama\",\"Arizona\",..: 20 39 29 10 10 41 21 31 32 32 ...\n",
      " $ Region                : Factor w/ 4 levels \"Midwest\",\"Northeast\",..: 2 3 2 3 3 3 1 2 3 3 ...\n",
      " $ Conservativeness      : int  4 1 4 4 4 4 3 3 4 4 ...\n",
      " $ Info.On.Internet      : int  0 1 0 3 NA 6 3 NA NA 0 ...\n",
      " $ Worry.About.Info      : int  1 0 0 1 NA 0 1 NA NA 0 ...\n",
      " $ Privacy.Importance    : num  100 0 NA 88.9 NA ...\n",
      " $ Anonymity.Possible    : int  0 1 0 1 NA 1 0 NA NA 1 ...\n",
      " $ Tried.Masking.Identity: int  0 0 0 0 NA 1 0 NA NA 0 ...\n",
      " $ Privacy.Laws.Effective: int  0 1 NA 0 NA 0 1 NA 0 1 ...\n"
     ]
    },
    {
     "data": {
      "text/plain": [
       "  Internet.Use      Smartphone         Sex           Age       \n",
       " Min.   :0.0000   Min.   :0.0000   Female:505   Min.   :18.00  \n",
       " 1st Qu.:1.0000   1st Qu.:0.0000   Male  :497   1st Qu.:37.00  \n",
       " Median :1.0000   Median :1.0000                Median :55.00  \n",
       " Mean   :0.7742   Mean   :0.5078                Mean   :52.37  \n",
       " 3rd Qu.:1.0000   3rd Qu.:1.0000                3rd Qu.:66.00  \n",
       " Max.   :1.0000   Max.   :1.0000                Max.   :96.00  \n",
       " NA's   :1        NA's   :43                    NA's   :27     \n",
       "          State           Region    Conservativeness Info.On.Internet\n",
       " California  :103   Midwest  :239   Min.   :1.000    Min.   : 0.000  \n",
       " Texas       : 72   Northeast:166   1st Qu.:3.000    1st Qu.: 2.000  \n",
       " New York    : 60   South    :359   Median :3.000    Median : 4.000  \n",
       " Pennsylvania: 45   West     :238   Mean   :3.277    Mean   : 3.795  \n",
       " Florida     : 42                   3rd Qu.:4.000    3rd Qu.: 6.000  \n",
       " Ohio        : 38                   Max.   :5.000    Max.   :11.000  \n",
       " (Other)     :642                   NA's   :62       NA's   :210     \n",
       " Worry.About.Info Privacy.Importance Anonymity.Possible Tried.Masking.Identity\n",
       " Min.   :0.0000   Min.   :  0.00     Min.   :0.0000     Min.   :0.0000        \n",
       " 1st Qu.:0.0000   1st Qu.: 41.43     1st Qu.:0.0000     1st Qu.:0.0000        \n",
       " Median :0.0000   Median : 68.75     Median :0.0000     Median :0.0000        \n",
       " Mean   :0.4886   Mean   : 62.85     Mean   :0.3692     Mean   :0.1633        \n",
       " 3rd Qu.:1.0000   3rd Qu.: 88.89     3rd Qu.:1.0000     3rd Qu.:0.0000        \n",
       " Max.   :1.0000   Max.   :100.00     Max.   :1.0000     Max.   :1.0000        \n",
       " NA's   :212      NA's   :215        NA's   :249        NA's   :218           \n",
       " Privacy.Laws.Effective\n",
       " Min.   :0.0000        \n",
       " 1st Qu.:0.0000        \n",
       " Median :0.0000        \n",
       " Mean   :0.2617        \n",
       " 3rd Qu.:1.0000        \n",
       " Max.   :1.0000        \n",
       " NA's   :108           "
      ]
     },
     "metadata": {},
     "output_type": "display_data"
    }
   ],
   "source": [
    "str(user_data)\n",
    "summary(user_data)"
   ]
  },
  {
   "cell_type": "markdown",
   "metadata": {},
   "source": [
    "#### Solution to problem 1.1: 1002 user participated in the survey"
   ]
  },
  {
   "cell_type": "code",
   "execution_count": 14,
   "metadata": {},
   "outputs": [
    {
     "data": {
      "text/plain": [
       "\n",
       "  0   1 \n",
       "472 487 "
      ]
     },
     "metadata": {},
     "output_type": "display_data"
    },
    {
     "data": {
      "text/plain": [
       "\n",
       "FALSE  TRUE \n",
       "  959    43 "
      ]
     },
     "metadata": {},
     "output_type": "display_data"
    }
   ],
   "source": [
    "# solution to problem 2\n",
    "table(user_data$Smartphone)\n",
    "table(is.na(user_data$Smartphone))"
   ]
  },
  {
   "cell_type": "markdown",
   "metadata": {},
   "source": [
    "##### Solution to problem 1.2: 472 user use phone, 487 dont and there are 43 data NA in the sample study"
   ]
  },
  {
   "cell_type": "code",
   "execution_count": null,
   "metadata": {},
   "outputs": [],
   "source": []
  },
  {
   "cell_type": "code",
   "execution_count": null,
   "metadata": {},
   "outputs": [],
   "source": []
  },
  {
   "cell_type": "code",
   "execution_count": 32,
   "metadata": {},
   "outputs": [
    {
     "data": {
      "text/html": [
       "<ol class=list-inline>\n",
       "\t<li>Michigan</li>\n",
       "\t<li>Ohio</li>\n",
       "\t<li>Indiana</li>\n",
       "\t<li>Minnesota</li>\n",
       "\t<li>North Dakota</li>\n",
       "\t<li>Wisconsin</li>\n",
       "\t<li>Missouri</li>\n",
       "\t<li>Illinois</li>\n",
       "\t<li>Nebraska</li>\n",
       "\t<li>South Dakota</li>\n",
       "\t<li>Kansas</li>\n",
       "\t<li>Iowa</li>\n",
       "</ol>\n",
       "\n",
       "<details>\n",
       "\t<summary style=display:list-item;cursor:pointer>\n",
       "\t\t<strong>Levels</strong>:\n",
       "\t</summary>\n",
       "\t<ol class=list-inline>\n",
       "\t\t<li>'Alabama'</li>\n",
       "\t\t<li>'Arizona'</li>\n",
       "\t\t<li>'Arkansas'</li>\n",
       "\t\t<li>'California'</li>\n",
       "\t\t<li>'Colorado'</li>\n",
       "\t\t<li>'Connecticut'</li>\n",
       "\t\t<li>'Delaware'</li>\n",
       "\t\t<li>'District of Columbia'</li>\n",
       "\t\t<li>'Florida'</li>\n",
       "\t\t<li>'Georgia'</li>\n",
       "\t\t<li>'Idaho'</li>\n",
       "\t\t<li>'Illinois'</li>\n",
       "\t\t<li>'Indiana'</li>\n",
       "\t\t<li>'Iowa'</li>\n",
       "\t\t<li>'Kansas'</li>\n",
       "\t\t<li>'Kentucky'</li>\n",
       "\t\t<li>'Louisiana'</li>\n",
       "\t\t<li>'Maine'</li>\n",
       "\t\t<li>'Maryland'</li>\n",
       "\t\t<li>'Massachusetts'</li>\n",
       "\t\t<li>'Michigan'</li>\n",
       "\t\t<li>'Minnesota'</li>\n",
       "\t\t<li>'Mississippi'</li>\n",
       "\t\t<li>'Missouri'</li>\n",
       "\t\t<li>'Montana'</li>\n",
       "\t\t<li>'Nebraska'</li>\n",
       "\t\t<li>'Nevada'</li>\n",
       "\t\t<li>'New Hampshire'</li>\n",
       "\t\t<li>'New Jersey'</li>\n",
       "\t\t<li>'New Mexico'</li>\n",
       "\t\t<li>'New York'</li>\n",
       "\t\t<li>'North Carolina'</li>\n",
       "\t\t<li>'North Dakota'</li>\n",
       "\t\t<li>'Ohio'</li>\n",
       "\t\t<li>'Oklahoma'</li>\n",
       "\t\t<li>'Oregon'</li>\n",
       "\t\t<li>'Pennsylvania'</li>\n",
       "\t\t<li>'Rhode Island'</li>\n",
       "\t\t<li>'South Carolina'</li>\n",
       "\t\t<li>'South Dakota'</li>\n",
       "\t\t<li>'Tennessee'</li>\n",
       "\t\t<li>'Texas'</li>\n",
       "\t\t<li>'Utah'</li>\n",
       "\t\t<li>'Vermont'</li>\n",
       "\t\t<li>'Virginia'</li>\n",
       "\t\t<li>'Washington'</li>\n",
       "\t\t<li>'West Virginia'</li>\n",
       "\t\t<li>'Wisconsin'</li>\n",
       "\t\t<li>'Wyoming'</li>\n",
       "\t</ol>\n",
       "</details>"
      ],
      "text/latex": [
       "\\begin{enumerate*}\n",
       "\\item Michigan\n",
       "\\item Ohio\n",
       "\\item Indiana\n",
       "\\item Minnesota\n",
       "\\item North Dakota\n",
       "\\item Wisconsin\n",
       "\\item Missouri\n",
       "\\item Illinois\n",
       "\\item Nebraska\n",
       "\\item South Dakota\n",
       "\\item Kansas\n",
       "\\item Iowa\n",
       "\\end{enumerate*}\n",
       "\n",
       "\\emph{Levels}: \\begin{enumerate*}\n",
       "\\item 'Alabama'\n",
       "\\item 'Arizona'\n",
       "\\item 'Arkansas'\n",
       "\\item 'California'\n",
       "\\item 'Colorado'\n",
       "\\item 'Connecticut'\n",
       "\\item 'Delaware'\n",
       "\\item 'District of Columbia'\n",
       "\\item 'Florida'\n",
       "\\item 'Georgia'\n",
       "\\item 'Idaho'\n",
       "\\item 'Illinois'\n",
       "\\item 'Indiana'\n",
       "\\item 'Iowa'\n",
       "\\item 'Kansas'\n",
       "\\item 'Kentucky'\n",
       "\\item 'Louisiana'\n",
       "\\item 'Maine'\n",
       "\\item 'Maryland'\n",
       "\\item 'Massachusetts'\n",
       "\\item 'Michigan'\n",
       "\\item 'Minnesota'\n",
       "\\item 'Mississippi'\n",
       "\\item 'Missouri'\n",
       "\\item 'Montana'\n",
       "\\item 'Nebraska'\n",
       "\\item 'Nevada'\n",
       "\\item 'New Hampshire'\n",
       "\\item 'New Jersey'\n",
       "\\item 'New Mexico'\n",
       "\\item 'New York'\n",
       "\\item 'North Carolina'\n",
       "\\item 'North Dakota'\n",
       "\\item 'Ohio'\n",
       "\\item 'Oklahoma'\n",
       "\\item 'Oregon'\n",
       "\\item 'Pennsylvania'\n",
       "\\item 'Rhode Island'\n",
       "\\item 'South Carolina'\n",
       "\\item 'South Dakota'\n",
       "\\item 'Tennessee'\n",
       "\\item 'Texas'\n",
       "\\item 'Utah'\n",
       "\\item 'Vermont'\n",
       "\\item 'Virginia'\n",
       "\\item 'Washington'\n",
       "\\item 'West Virginia'\n",
       "\\item 'Wisconsin'\n",
       "\\item 'Wyoming'\n",
       "\\end{enumerate*}\n"
      ],
      "text/markdown": [
       "1. Michigan\n",
       "2. Ohio\n",
       "3. Indiana\n",
       "4. Minnesota\n",
       "5. North Dakota\n",
       "6. Wisconsin\n",
       "7. Missouri\n",
       "8. Illinois\n",
       "9. Nebraska\n",
       "10. South Dakota\n",
       "11. Kansas\n",
       "12. Iowa\n",
       "\n",
       "\n",
       "\n",
       "**Levels**: 1. 'Alabama'\n",
       "2. 'Arizona'\n",
       "3. 'Arkansas'\n",
       "4. 'California'\n",
       "5. 'Colorado'\n",
       "6. 'Connecticut'\n",
       "7. 'Delaware'\n",
       "8. 'District of Columbia'\n",
       "9. 'Florida'\n",
       "10. 'Georgia'\n",
       "11. 'Idaho'\n",
       "12. 'Illinois'\n",
       "13. 'Indiana'\n",
       "14. 'Iowa'\n",
       "15. 'Kansas'\n",
       "16. 'Kentucky'\n",
       "17. 'Louisiana'\n",
       "18. 'Maine'\n",
       "19. 'Maryland'\n",
       "20. 'Massachusetts'\n",
       "21. 'Michigan'\n",
       "22. 'Minnesota'\n",
       "23. 'Mississippi'\n",
       "24. 'Missouri'\n",
       "25. 'Montana'\n",
       "26. 'Nebraska'\n",
       "27. 'Nevada'\n",
       "28. 'New Hampshire'\n",
       "29. 'New Jersey'\n",
       "30. 'New Mexico'\n",
       "31. 'New York'\n",
       "32. 'North Carolina'\n",
       "33. 'North Dakota'\n",
       "34. 'Ohio'\n",
       "35. 'Oklahoma'\n",
       "36. 'Oregon'\n",
       "37. 'Pennsylvania'\n",
       "38. 'Rhode Island'\n",
       "39. 'South Carolina'\n",
       "40. 'South Dakota'\n",
       "41. 'Tennessee'\n",
       "42. 'Texas'\n",
       "43. 'Utah'\n",
       "44. 'Vermont'\n",
       "45. 'Virginia'\n",
       "46. 'Washington'\n",
       "47. 'West Virginia'\n",
       "48. 'Wisconsin'\n",
       "49. 'Wyoming'\n",
       "\n",
       "\n"
      ],
      "text/plain": [
       " [1] Michigan     Ohio         Indiana      Minnesota    North Dakota\n",
       " [6] Wisconsin    Missouri     Illinois     Nebraska     South Dakota\n",
       "[11] Kansas       Iowa        \n",
       "49 Levels: Alabama Arizona Arkansas California Colorado ... Wyoming"
      ]
     },
     "metadata": {},
     "output_type": "display_data"
    },
    {
     "data": {
      "text/html": [
       "<strong>Texas:</strong> 72"
      ],
      "text/latex": [
       "\\textbf{Texas:} 72"
      ],
      "text/markdown": [
       "**Texas:** 72"
      ],
      "text/plain": [
       "Texas \n",
       "   72 "
      ]
     },
     "metadata": {},
     "output_type": "display_data"
    }
   ],
   "source": [
    "#solution to determine the states in Midwest region\n",
    "unique(user_data$State[user_data$Region == 'Midwest'])\n",
    "#states in south region with maximum number of interviewee\n",
    "sort(table(user_data$State[user_data$Region == 'South']), decreasing = TRUE)[1]"
   ]
  }
 ],
 "metadata": {
  "kernelspec": {
   "display_name": "R",
   "language": "R",
   "name": "ir"
  },
  "language_info": {
   "codemirror_mode": "r",
   "file_extension": ".r",
   "mimetype": "text/x-r-source",
   "name": "R",
   "pygments_lexer": "r",
   "version": "3.2.3"
  }
 },
 "nbformat": 4,
 "nbformat_minor": 2
}
